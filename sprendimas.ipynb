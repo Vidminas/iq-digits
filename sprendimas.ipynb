{
 "cells": [
  {
   "cell_type": "code",
   "execution_count": 65,
   "metadata": {},
   "outputs": [
    {
     "name": "stdout",
     "output_type": "stream",
     "text": [
      "The line_profiler extension is already loaded. To reload it, use:\n",
      "  %reload_ext line_profiler\n"
     ]
    }
   ],
   "source": [
    "import numpy as np\n",
    "from dataclasses import dataclass\n",
    "from functools import cache\n",
    "from itertools import zip_longest\n",
    "import sys\n",
    "\n",
    "%load_ext line_profiler"
   ]
  },
  {
   "cell_type": "code",
   "execution_count": 66,
   "metadata": {},
   "outputs": [
    {
     "name": "stdout",
     "output_type": "stream",
     "text": [
      "128\n"
     ]
    }
   ],
   "source": [
    "@dataclass\n",
    "class Piece():\n",
    "  rows: np.ndarray[np.int8, np.int8]\n",
    "  columns: np.ndarray[np.int8, np.int8]\n",
    "\n",
    "  def __repr__(self):\n",
    "    buffer = []\n",
    "    for row, column in zip_longest(self.rows, self.columns):\n",
    "        if row is not None:\n",
    "          buffer.append(\" \" + \" \".join('-' if elem else ' ' for elem in row))\n",
    "        if column is not None:\n",
    "          buffer.append(\" \".join('|' if elem else ' ' for elem in column))\n",
    "    return \"\\n\".join(buffer)\n",
    "  \n",
    "  def __hash__(self):\n",
    "     return hash((tuple(self.rows.flatten()), tuple(self.columns.flatten())))\n",
    "\n",
    "  def __eq__(self, other):\n",
    "      if isinstance(other, Piece):\n",
    "          return np.array_equal(self.rows, other.rows) and np.array_equal(self.columns, other.columns)\n",
    "      return NotImplemented\n",
    "    \n",
    "  def rotated(self):\n",
    "    rows = np.rot90(self.columns, 1)\n",
    "    columns = np.rot90(self.rows, 1)\n",
    "\n",
    "    while ~np.any(rows[0]) and ~np.any(columns[0]):\n",
    "      # top row is empty, so we can shift digit up\n",
    "      rows = np.roll(rows, -1, 0)\n",
    "      columns = np.roll(columns, -1, 0)\n",
    "\n",
    "    return Piece(rows, columns)\n",
    "  \n",
    "  def trimmed(self):\n",
    "    rows = self.rows\n",
    "    columns = self.columns\n",
    "\n",
    "    while rows.size and ~np.any(rows[-1]) and columns.size and ~np.any(columns[-1]):\n",
    "       rows = rows[:-1]\n",
    "       columns = columns[:-1]\n",
    "\n",
    "    while rows.size and ~np.any(rows[:,-1]) and columns.size and ~np.any(columns[:,-1]):\n",
    "       rows = rows[:,:-1]\n",
    "       columns = columns[:,:-1]\n",
    "    \n",
    "    return Piece(rows, columns)\n",
    "  \n",
    "  @cache\n",
    "  def rotations(self):\n",
    "    a = self.trimmed()\n",
    "    b = a.rotated().trimmed()\n",
    "    c = b.rotated().trimmed()\n",
    "    d = c.rotated().trimmed()\n",
    "    return set((a, b, c, d))\n",
    "\n",
    "pieces = [\n",
    "  Piece(rows=np.asarray(((True, False), (True, False), (False, False)), dtype=np.int8), columns=np.asarray(((True, True, False), (False, False, False)), dtype=np.int8)),\n",
    "  Piece(rows=np.asarray(((False, False), (False, False), (False, False)), dtype=np.int8), columns=np.asarray(((True, False, False), (True, False, False)), dtype=np.int8)),\n",
    "  Piece(rows=np.asarray(((True, False), (True, False), (True, False)), dtype=np.int8), columns=np.asarray(((False, True, False), (True, False, False)), dtype=np.int8)),\n",
    "  Piece(rows=np.asarray(((True, False), (True, False), (True, False)), dtype=np.int8), columns=np.asarray(((False, True, False), (False, True, False)), dtype=np.int8)),\n",
    "  Piece(rows=np.asarray(((False, False), (True, False), (False, False)), dtype=np.int8), columns=np.asarray(((True, True, False), (False, True, False)), dtype=np.int8)),\n",
    "  Piece(rows=np.asarray(((True, False), (True, False), (True, False)), dtype=np.int8), columns=np.asarray(((True, False, False), (False, True, False)), dtype=np.int8)),\n",
    "  Piece(rows=np.asarray(((True, False), (True, False), (True, False)), dtype=np.int8), columns=np.asarray(((True, False, False), (True, True, False)), dtype=np.int8)),\n",
    "  Piece(rows=np.asarray(((True, False), (False, False), (False, False)), dtype=np.int8), columns=np.asarray(((False, True, False), (False, True, False)), dtype=np.int8)),\n",
    "  Piece(rows=np.asarray(((True, False), (True, False), (True, False)), dtype=np.int8), columns=np.asarray(((True, True, False), (True, True, False)), dtype=np.int8)),\n",
    "  Piece(rows=np.asarray(((True, False), (True, False), (True, False)), dtype=np.int8), columns=np.asarray(((True, True, False), (False, True, False)), dtype=np.int8)),\n",
    "]\n",
    "pieces = [piece.trimmed() for piece in pieces]\n",
    "\n",
    "print(sys.getsizeof(pieces[0].rows))"
   ]
  },
  {
   "cell_type": "code",
   "execution_count": 67,
   "metadata": {},
   "outputs": [
    {
     "data": {
      "text/plain": [
       " -\n",
       "| |\n",
       " -"
      ]
     },
     "execution_count": 67,
     "metadata": {},
     "output_type": "execute_result"
    }
   ],
   "source": [
    "pieces[0]"
   ]
  },
  {
   "cell_type": "code",
   "execution_count": 68,
   "metadata": {},
   "outputs": [
    {
     "data": {
      "text/plain": [
       " \n",
       "|\n",
       " \n",
       "|\n",
       " "
      ]
     },
     "execution_count": 68,
     "metadata": {},
     "output_type": "execute_result"
    }
   ],
   "source": [
    "pieces[1].trimmed()"
   ]
  },
  {
   "cell_type": "code",
   "execution_count": 69,
   "metadata": {},
   "outputs": [
    {
     "data": {
      "text/plain": [
       "{   -\n",
       " | | |\n",
       "  - -,\n",
       "  -\n",
       " |  \n",
       "  -\n",
       " | |\n",
       "  -,\n",
       "  -\n",
       " | |\n",
       "  -\n",
       "   |\n",
       "  -,\n",
       "  - -\n",
       " | | |\n",
       "  -  }"
      ]
     },
     "execution_count": 69,
     "metadata": {},
     "output_type": "execute_result"
    }
   ],
   "source": [
    "pieces[9].rotations()"
   ]
  },
  {
   "cell_type": "code",
   "execution_count": 70,
   "metadata": {},
   "outputs": [
    {
     "data": {
      "text/plain": [
       "{ -\n",
       " | |\n",
       "  -}"
      ]
     },
     "execution_count": 70,
     "metadata": {},
     "output_type": "execute_result"
    }
   ],
   "source": [
    "pieces[0].rotations()"
   ]
  },
  {
   "cell_type": "code",
   "execution_count": 71,
   "metadata": {},
   "outputs": [],
   "source": [
    "class Puzzle():\n",
    "  rows: np.ndarray[np.int8, np.int8]\n",
    "  cols: np.ndarray[np.int8, np.int8]\n",
    "\n",
    "  def __init__(\n",
    "      self,\n",
    "      rows=np.zeros((5,5), dtype=np.int8),\n",
    "      cols=np.zeros((4,6), dtype=np.int8),\n",
    "    ):\n",
    "    self.rows = rows\n",
    "    self.cols = cols\n",
    "\n",
    "  def __repr__(self):\n",
    "    buffer = []\n",
    "    for row, column in zip_longest(self.rows, self.cols):\n",
    "        if row is not None:\n",
    "          buffer.append(\" \" + \" \".join('-' if elem else '.' for elem in row))\n",
    "        if column is not None:\n",
    "          buffer.append(\" \".join('|' if elem else '.' for elem in column))\n",
    "    return \"\\n\".join(buffer)\n",
    "\n",
    "  def __hash__(self):\n",
    "    return hash((tuple(self.rows.flatten()), tuple(self.cols.flatten())))\n",
    "\n",
    "  def __eq__(self, other):\n",
    "    if isinstance(other, Puzzle):\n",
    "        return np.array_equal(self.rows, other.rows) and np.array_equal(self.cols, other.cols)\n",
    "    return NotImplemented\n",
    "\n",
    "  def with_piece(self, piece: Piece, toprow: int, topcol: int) -> \"Puzzle\":\n",
    "    # This assumes the piece is trimmed\n",
    "    if (toprow + piece.rows.shape[0] > self.rows.shape[0]):\n",
    "      return None\n",
    "    if (topcol + piece.rows.shape[1] > self.rows.shape[1]):\n",
    "      return None\n",
    "    if (toprow + piece.columns.shape[0] > self.cols.shape[0]):\n",
    "      return None\n",
    "    if (topcol + piece.columns.shape[1] > self.cols.shape[1]):\n",
    "      return None\n",
    "    \n",
    "    puzzle_rows = self.rows[toprow:toprow+piece.rows.shape[0], topcol:topcol+piece.rows.shape[1]]\n",
    "    if np.any(np.logical_and(puzzle_rows, piece.rows)):\n",
    "      return None\n",
    "\n",
    "    puzzle_cols = self.cols[toprow:toprow+piece.columns.shape[0], topcol:topcol+piece.columns.shape[1]]\n",
    "    if np.any(np.logical_and(puzzle_cols, piece.columns)):\n",
    "      return None\n",
    "    \n",
    "    new_rows = self.rows.copy()\n",
    "    puzzle_rows = new_rows[toprow:toprow+piece.rows.shape[0], topcol:topcol+piece.rows.shape[1]]\n",
    "    np.logical_or(puzzle_rows, piece.rows, out=puzzle_rows)\n",
    "\n",
    "    new_cols = self.cols.copy()\n",
    "    puzzle_cols = new_cols[toprow:toprow+piece.columns.shape[0], topcol:topcol+piece.columns.shape[1]]\n",
    "    np.logical_or(puzzle_cols, piece.columns, out=puzzle_cols)\n",
    "\n",
    "    return Puzzle(new_rows, new_cols)\n",
    "  \n",
    "  def spaces_left(self):\n",
    "    return np.size(self.cols) - np.count_nonzero(self.cols) + np.size(self.rows) - np.count_nonzero(self.rows)"
   ]
  },
  {
   "cell_type": "code",
   "execution_count": 72,
   "metadata": {},
   "outputs": [
    {
     "name": "stdout",
     "output_type": "stream",
     "text": [
      "32 µs ± 3.64 µs per loop (mean ± std. dev. of 7 runs, 10,000 loops each)\n"
     ]
    }
   ],
   "source": [
    "%timeit Puzzle().with_piece(pieces[7], 2, 3)"
   ]
  },
  {
   "cell_type": "code",
   "execution_count": 73,
   "metadata": {},
   "outputs": [
    {
     "name": "stdout",
     "output_type": "stream",
     "text": [
      "Timer unit: 1e-07 s\n",
      "\n",
      "Total time: 0.0002018 s\n",
      "File: C:\\Users\\Vidminas\\AppData\\Local\\Temp\\ipykernel_3928\\3528417337.py\n",
      "Function: with_piece at line 30\n",
      "\n",
      "Line #      Hits         Time  Per Hit   % Time  Line Contents\n",
      "==============================================================\n",
      "    30                                             def with_piece(self, piece: Piece, toprow: int, topcol: int) -> \"Puzzle\":\n",
      "    31                                               # This assumes the piece is trimmed\n",
      "    32         1        148.0    148.0      7.3      if (toprow + piece.rows.shape[0] > self.rows.shape[0]):\n",
      "    33                                                 return None\n",
      "    34         1         17.0     17.0      0.8      if (topcol + piece.rows.shape[1] > self.rows.shape[1]):\n",
      "    35                                                 return None\n",
      "    36         1         28.0     28.0      1.4      if (toprow + piece.columns.shape[0] > self.cols.shape[0]):\n",
      "    37                                                 return None\n",
      "    38         1         14.0     14.0      0.7      if (topcol + piece.columns.shape[1] > self.cols.shape[1]):\n",
      "    39                                                 return None\n",
      "    40                                               \n",
      "    41         1         64.0     64.0      3.2      puzzle_rows = self.rows[toprow:toprow+piece.rows.shape[0], topcol:topcol+piece.rows.shape[1]]\n",
      "    42         1        785.0    785.0     38.9      if np.any(np.logical_and(puzzle_rows, piece.rows)):\n",
      "    43                                                 return None\n",
      "    44                                           \n",
      "    45         1         42.0     42.0      2.1      puzzle_cols = self.cols[toprow:toprow+piece.columns.shape[0], topcol:topcol+piece.columns.shape[1]]\n",
      "    46         1        362.0    362.0     17.9      if np.any(np.logical_and(puzzle_cols, piece.columns)):\n",
      "    47                                                 return None\n",
      "    48                                               \n",
      "    49         1        174.0    174.0      8.6      new_rows = self.rows.copy()\n",
      "    50         1         40.0     40.0      2.0      puzzle_rows = new_rows[toprow:toprow+piece.rows.shape[0], topcol:topcol+piece.rows.shape[1]]\n",
      "    51         1        105.0    105.0      5.2      np.logical_or(puzzle_rows, piece.rows, out=puzzle_rows)\n",
      "    52                                           \n",
      "    53         1         60.0     60.0      3.0      new_cols = self.cols.copy()\n",
      "    54         1         34.0     34.0      1.7      puzzle_cols = new_cols[toprow:toprow+piece.columns.shape[0], topcol:topcol+piece.columns.shape[1]]\n",
      "    55         1         97.0     97.0      4.8      np.logical_or(puzzle_cols, piece.columns, out=puzzle_cols)\n",
      "    56                                           \n",
      "    57         1         48.0     48.0      2.4      return Puzzle(new_rows, new_cols)"
     ]
    }
   ],
   "source": [
    "%lprun -f Puzzle.with_piece Puzzle().with_piece(pieces[7], 2, 3)"
   ]
  },
  {
   "cell_type": "code",
   "execution_count": 74,
   "metadata": {},
   "outputs": [
    {
     "data": {
      "text/plain": [
       " . . . . .\n",
       ". . . . . .\n",
       " . . . . .\n",
       ". . . . . .\n",
       " . . . . .\n",
       ". . . . . .\n",
       " . . . . .\n",
       ". . . . . .\n",
       " . . . . ."
      ]
     },
     "execution_count": 74,
     "metadata": {},
     "output_type": "execute_result"
    }
   ],
   "source": [
    "Puzzle()"
   ]
  },
  {
   "cell_type": "code",
   "execution_count": 75,
   "metadata": {},
   "outputs": [
    {
     "data": {
      "text/plain": [
       "49"
      ]
     },
     "execution_count": 75,
     "metadata": {},
     "output_type": "execute_result"
    }
   ],
   "source": [
    "Puzzle().spaces_left()"
   ]
  },
  {
   "cell_type": "code",
   "execution_count": 76,
   "metadata": {},
   "outputs": [
    {
     "data": {
      "text/plain": [
       " . . . . .\n",
       ". . . . . .\n",
       " . . . . -\n",
       ". . . . | |\n",
       " . . . . -\n",
       ". . . . . .\n",
       " . . . . .\n",
       ". . . . . .\n",
       " . . . . ."
      ]
     },
     "execution_count": 76,
     "metadata": {},
     "output_type": "execute_result"
    }
   ],
   "source": [
    "Puzzle().with_piece(pieces[0], 1, 4)"
   ]
  },
  {
   "cell_type": "code",
   "execution_count": 77,
   "metadata": {},
   "outputs": [
    {
     "data": {
      "text/plain": [
       " - - . . .\n",
       "| . . . . .\n",
       " . . . . .\n",
       ". . . . . .\n",
       " . . . . .\n",
       ". . . . . .\n",
       " . . . . .\n",
       ". . . . . .\n",
       " . . . . ."
      ]
     },
     "execution_count": 77,
     "metadata": {},
     "output_type": "execute_result"
    }
   ],
   "source": [
    "Puzzle().with_piece(pieces[7].rotated(), 0, 0)"
   ]
  },
  {
   "cell_type": "code",
   "execution_count": 78,
   "metadata": {},
   "outputs": [
    {
     "data": {
      "text/plain": [
       " - - - . .\n",
       ". | | . . .\n",
       " - - . . .\n",
       ". | . . . .\n",
       " - . . . .\n",
       ". . . . . .\n",
       " . . . . .\n",
       ". . . . . .\n",
       " . . . . ."
      ]
     },
     "execution_count": 78,
     "metadata": {},
     "output_type": "execute_result"
    }
   ],
   "source": [
    "Puzzle().with_piece(pieces[3], 0, 0).with_piece(pieces[4].rotated(), 0, 1)"
   ]
  },
  {
   "cell_type": "code",
   "execution_count": 79,
   "metadata": {},
   "outputs": [
    {
     "data": {
      "text/plain": [
       " . . . . .\n",
       ". . . . . .\n",
       " . - . . .\n",
       "| | | . . .\n",
       " - - . . .\n",
       ". . . . . .\n",
       " . . . . .\n",
       ". . . . . .\n",
       " . . . . ."
      ]
     },
     "execution_count": 79,
     "metadata": {},
     "output_type": "execute_result"
    }
   ],
   "source": [
    "Puzzle().with_piece(pieces[9].rotated().rotated().rotated(), 1, 0)"
   ]
  },
  {
   "cell_type": "code",
   "execution_count": 80,
   "metadata": {},
   "outputs": [],
   "source": [
    "from copy import copy\n",
    "\n",
    "bad_puzzles = set()\n",
    "\n",
    "# pick a puzzle piece\n",
    "# choose rotation\n",
    "# find top-left free corner\n",
    "# put piece if it fits\n",
    "# check for solved\n",
    "def attempt(puzzle: Puzzle, used_pieces: dict[int, tuple]):\n",
    "  if puzzle in bad_puzzles:\n",
    "    return None\n",
    "  if puzzle.spaces_left() == 2:\n",
    "    return puzzle, used_pieces\n",
    "  \n",
    "  candidates = []\n",
    "  for i in range(len(pieces)):\n",
    "    if i in used_pieces:\n",
    "      continue\n",
    "\n",
    "    for rotation in pieces[i].rotations():\n",
    "      for row in range(0, len(puzzle.rows)):\n",
    "        for col in range(0, len(puzzle.cols)):\n",
    "          candidate = puzzle.with_piece(rotation, row, col)\n",
    "    \n",
    "          if candidate is not None:\n",
    "            if candidate in bad_puzzles:\n",
    "              continue\n",
    "\n",
    "            candidate_used_pieces = copy(used_pieces)\n",
    "            candidate_used_pieces[i] = (rotation, row, col)\n",
    "            candidates.append((candidate, candidate_used_pieces))\n",
    "    \n",
    "  for candidate, candidate_used_pieces in candidates:\n",
    "    result = attempt(candidate, candidate_used_pieces)\n",
    "    if result is not None:\n",
    "      return result\n",
    "\n",
    "  bad_puzzles.add(puzzle)\n",
    "  return None"
   ]
  },
  {
   "cell_type": "code",
   "execution_count": 81,
   "metadata": {},
   "outputs": [
    {
     "name": "stdout",
     "output_type": "stream",
     "text": [
      "*** KeyboardInterrupt exception caught in code being profiled."
     ]
    },
    {
     "name": "stdout",
     "output_type": "stream",
     "text": [
      "Timer unit: 1e-07 s\n",
      "\n",
      "Total time: 18734.6 s\n",
      "File: C:\\Users\\Vidminas\\AppData\\Local\\Temp\\ipykernel_3928\\3240605786.py\n",
      "Function: attempt at line 10\n",
      "\n",
      "Line #        Hits         Time  Per Hit   % Time  Line Contents\n",
      "================================================================\n",
      "    10                                             def attempt(puzzle: Puzzle, used_pieces: dict[int, tuple]):\n",
      "    11     4438173  500304447.0    112.7      0.3    if puzzle in bad_puzzles:\n",
      "    12          46        171.0      3.7      0.0      return None\n",
      "    13     4438127  823728600.0    185.6      0.4    if puzzle.spaces_left() == 2:\n",
      "    14                                                 return puzzle, used_pieces\n",
      "    15                                               \n",
      "    16     4438127   23725166.0      5.3      0.0    candidates = []\n",
      "    17    48819394  266918047.0      5.5      0.1    for i in range(len(pieces)):\n",
      "    18    44381268  255166907.0      5.7      0.1      if i in used_pieces:\n",
      "    19    28993466   99619636.0      3.4      0.1        continue\n",
      "    20                                             \n",
      "    21    57789764 2192004061.0     37.9      1.2      for rotation in pieces[i].rotations():\n",
      "    22   254411773 1408170153.0      5.5      0.8        for row in range(0, len(puzzle.rows)):\n",
      "    23 1.06005e+09 7629385050.0      7.2      4.1          for col in range(0, len(puzzle.cols)):\n",
      "    24   848039244        2e+11    192.0     86.9            candidate = puzzle.with_piece(rotation, row, col)\n",
      "    25                                                 \n",
      "    26   848039243 3687519570.0      4.3      2.0            if candidate is not None:\n",
      "    27    19655886 6474390874.0    329.4      3.5              if candidate in bad_puzzles:\n",
      "    28    15217148   66983812.0      4.4      0.0                continue\n",
      "    29                                             \n",
      "    30     4438738  187881597.0     42.3      0.1              candidate_used_pieces = copy(used_pieces)\n",
      "    31     4438738   41899448.0      9.4      0.0              candidate_used_pieces[i] = (rotation, row, col)\n",
      "    32     4438738   47196955.0     10.6      0.0              candidates.append((candidate, candidate_used_pieces))\n",
      "    33                                                 \n",
      "    34     8876293   77035576.0      8.7      0.0    for candidate, candidate_used_pieces in candidates:\n",
      "    35     4438172   52644843.0     11.9      0.0      result = attempt(candidate, candidate_used_pieces)\n",
      "    36     4438167   30186077.0      6.8      0.0      if result is not None:\n",
      "    37                                                   return result\n",
      "    38                                             \n",
      "    39     4438121  640358940.0    144.3      0.3    bad_puzzles.add(puzzle)\n",
      "    40     4438121   18600057.0      4.2      0.0    return None"
     ]
    }
   ],
   "source": [
    "rot9 = pieces[9].rotated().rotated().rotated()\n",
    "puzzle = Puzzle().with_piece(rot9, 1, 0)\n",
    "%lprun -f attempt attempt(puzzle, {9: (rot9, 1, 0)})"
   ]
  },
  {
   "cell_type": "code",
   "execution_count": 82,
   "metadata": {},
   "outputs": [
    {
     "data": {
      "text/plain": [
       "4438121"
      ]
     },
     "execution_count": 82,
     "metadata": {},
     "output_type": "execute_result"
    }
   ],
   "source": [
    "len(bad_puzzles)"
   ]
  },
  {
   "cell_type": "code",
   "execution_count": 83,
   "metadata": {},
   "outputs": [
    {
     "data": {
      "text/plain": [
       " - - - . .\n",
       "| | . . . .\n",
       " - - . - .\n",
       "| | | . | .\n",
       " - - . - .\n",
       ". . . | | .\n",
       " . - . - .\n",
       ". | . | | .\n",
       " - - . - ."
      ]
     },
     "execution_count": 83,
     "metadata": {},
     "output_type": "execute_result"
    }
   ],
   "source": [
    "next(iter(bad_puzzles))"
   ]
  }
 ],
 "metadata": {
  "kernelspec": {
   "display_name": "inf1b-ptas",
   "language": "python",
   "name": "python3"
  },
  "language_info": {
   "codemirror_mode": {
    "name": "ipython",
    "version": 3
   },
   "file_extension": ".py",
   "mimetype": "text/x-python",
   "name": "python",
   "nbconvert_exporter": "python",
   "pygments_lexer": "ipython3",
   "version": "3.11.3"
  }
 },
 "nbformat": 4,
 "nbformat_minor": 2
}
