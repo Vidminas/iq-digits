{
 "cells": [
  {
   "cell_type": "code",
   "execution_count": 24,
   "metadata": {},
   "outputs": [
    {
     "name": "stdout",
     "output_type": "stream",
     "text": [
      "The line_profiler extension is already loaded. To reload it, use:\n",
      "  %reload_ext line_profiler\n"
     ]
    }
   ],
   "source": [
    "import numpy as np\n",
    "from dataclasses import dataclass\n",
    "from functools import cache\n",
    "from itertools import zip_longest\n",
    "import sys\n",
    "\n",
    "%load_ext line_profiler"
   ]
  },
  {
   "cell_type": "code",
   "execution_count": 25,
   "metadata": {},
   "outputs": [
    {
     "name": "stdout",
     "output_type": "stream",
     "text": [
      "128\n"
     ]
    }
   ],
   "source": [
    "@dataclass\n",
    "class Piece():\n",
    "  rows: np.ndarray[np.int8, np.int8]\n",
    "  columns: np.ndarray[np.int8, np.int8]\n",
    "\n",
    "  def __repr__(self):\n",
    "    buffer = []\n",
    "    for row, column in zip_longest(self.rows, self.columns):\n",
    "        if row is not None:\n",
    "          buffer.append(\" \" + \" \".join('-' if elem else ' ' for elem in row))\n",
    "        if column is not None:\n",
    "          buffer.append(\" \".join('|' if elem else ' ' for elem in column))\n",
    "    return \"\\n\".join(buffer)\n",
    "  \n",
    "  def __hash__(self):\n",
    "     return hash((tuple(self.rows.flatten()), tuple(self.columns.flatten())))\n",
    "\n",
    "  def __eq__(self, other):\n",
    "      if isinstance(other, Piece):\n",
    "          return np.array_equal(self.rows, other.rows) and np.array_equal(self.columns, other.columns)\n",
    "      return NotImplemented\n",
    "    \n",
    "  def rotated(self):\n",
    "    rows = np.rot90(self.columns, 1)\n",
    "    columns = np.rot90(self.rows, 1)\n",
    "\n",
    "    while ~np.any(rows[0]) and ~np.any(columns[0]):\n",
    "      # top row is empty, so we can shift digit up\n",
    "      rows = np.roll(rows, -1, 0)\n",
    "      columns = np.roll(columns, -1, 0)\n",
    "\n",
    "    return Piece(rows, columns)\n",
    "  \n",
    "  def trimmed(self):\n",
    "    rows = self.rows\n",
    "    columns = self.columns\n",
    "\n",
    "    while rows.size and ~np.any(rows[-1]) and columns.size and ~np.any(columns[-1]):\n",
    "       rows = rows[:-1]\n",
    "       columns = columns[:-1]\n",
    "\n",
    "    while rows.size and ~np.any(rows[:,-1]) and columns.size and ~np.any(columns[:,-1]):\n",
    "       rows = rows[:,:-1]\n",
    "       columns = columns[:,:-1]\n",
    "    \n",
    "    return Piece(rows, columns)\n",
    "  \n",
    "  @cache\n",
    "  def rotations(self):\n",
    "    a = self.trimmed()\n",
    "    b = a.rotated().trimmed()\n",
    "    c = b.rotated().trimmed()\n",
    "    d = c.rotated().trimmed()\n",
    "    return set((a, b, c, d))\n",
    "\n",
    "pieces = [\n",
    "  Piece(rows=np.asarray(((True, False), (True, False), (False, False)), dtype=np.int8), columns=np.asarray(((True, True, False), (False, False, False)), dtype=np.int8)),\n",
    "  Piece(rows=np.asarray(((False, False), (False, False), (False, False)), dtype=np.int8), columns=np.asarray(((True, False, False), (True, False, False)), dtype=np.int8)),\n",
    "  Piece(rows=np.asarray(((True, False), (True, False), (True, False)), dtype=np.int8), columns=np.asarray(((False, True, False), (True, False, False)), dtype=np.int8)),\n",
    "  Piece(rows=np.asarray(((True, False), (True, False), (True, False)), dtype=np.int8), columns=np.asarray(((False, True, False), (False, True, False)), dtype=np.int8)),\n",
    "  Piece(rows=np.asarray(((False, False), (True, False), (False, False)), dtype=np.int8), columns=np.asarray(((True, True, False), (False, True, False)), dtype=np.int8)),\n",
    "  Piece(rows=np.asarray(((True, False), (True, False), (True, False)), dtype=np.int8), columns=np.asarray(((True, False, False), (False, True, False)), dtype=np.int8)),\n",
    "  Piece(rows=np.asarray(((True, False), (True, False), (True, False)), dtype=np.int8), columns=np.asarray(((True, False, False), (True, True, False)), dtype=np.int8)),\n",
    "  Piece(rows=np.asarray(((True, False), (False, False), (False, False)), dtype=np.int8), columns=np.asarray(((False, True, False), (False, True, False)), dtype=np.int8)),\n",
    "  Piece(rows=np.asarray(((True, False), (True, False), (True, False)), dtype=np.int8), columns=np.asarray(((True, True, False), (True, True, False)), dtype=np.int8)),\n",
    "  Piece(rows=np.asarray(((True, False), (True, False), (True, False)), dtype=np.int8), columns=np.asarray(((True, True, False), (False, True, False)), dtype=np.int8)),\n",
    "]\n",
    "pieces = [piece.trimmed() for piece in pieces]\n",
    "\n",
    "print(sys.getsizeof(pieces[0].rows))"
   ]
  },
  {
   "cell_type": "code",
   "execution_count": 26,
   "metadata": {},
   "outputs": [
    {
     "data": {
      "text/plain": [
       " -\n",
       "| |\n",
       " -"
      ]
     },
     "execution_count": 26,
     "metadata": {},
     "output_type": "execute_result"
    }
   ],
   "source": [
    "pieces[0]"
   ]
  },
  {
   "cell_type": "code",
   "execution_count": 27,
   "metadata": {},
   "outputs": [
    {
     "data": {
      "text/plain": [
       " \n",
       "|\n",
       " \n",
       "|\n",
       " "
      ]
     },
     "execution_count": 27,
     "metadata": {},
     "output_type": "execute_result"
    }
   ],
   "source": [
    "pieces[1].trimmed()"
   ]
  },
  {
   "cell_type": "code",
   "execution_count": 28,
   "metadata": {},
   "outputs": [
    {
     "data": {
      "text/plain": [
       "{   -\n",
       " | | |\n",
       "  - -,\n",
       "  -\n",
       " |  \n",
       "  -\n",
       " | |\n",
       "  -,\n",
       "  -\n",
       " | |\n",
       "  -\n",
       "   |\n",
       "  -,\n",
       "  - -\n",
       " | | |\n",
       "  -  }"
      ]
     },
     "execution_count": 28,
     "metadata": {},
     "output_type": "execute_result"
    }
   ],
   "source": [
    "pieces[9].rotations()"
   ]
  },
  {
   "cell_type": "code",
   "execution_count": 29,
   "metadata": {},
   "outputs": [
    {
     "data": {
      "text/plain": [
       "{ -\n",
       " | |\n",
       "  -}"
      ]
     },
     "execution_count": 29,
     "metadata": {},
     "output_type": "execute_result"
    }
   ],
   "source": [
    "pieces[0].rotations()"
   ]
  },
  {
   "cell_type": "code",
   "execution_count": 30,
   "metadata": {},
   "outputs": [],
   "source": [
    "class Puzzle():\n",
    "  rows: np.ndarray[np.int8, np.int8]\n",
    "  cols: np.ndarray[np.int8, np.int8]\n",
    "\n",
    "  def __init__(\n",
    "      self,\n",
    "      rows=np.zeros((5,5), dtype=np.int8),\n",
    "      cols=np.zeros((4,6), dtype=np.int8),\n",
    "    ):\n",
    "    self.rows = rows\n",
    "    self.cols = cols\n",
    "\n",
    "  def __repr__(self):\n",
    "    buffer = []\n",
    "    for row, column in zip_longest(self.rows, self.cols):\n",
    "        if row is not None:\n",
    "          buffer.append(\" \" + \" \".join('-' if elem else '.' for elem in row))\n",
    "        if column is not None:\n",
    "          buffer.append(\" \".join('|' if elem else '.' for elem in column))\n",
    "    return \"\\n\".join(buffer)\n",
    "\n",
    "  def __hash__(self):\n",
    "    return hash((tuple(self.rows.flatten()), tuple(self.cols.flatten())))\n",
    "\n",
    "  def __eq__(self, other):\n",
    "    if isinstance(other, Puzzle):\n",
    "        return np.array_equal(self.rows, other.rows) and np.array_equal(self.cols, other.cols)\n",
    "    return NotImplemented\n",
    "\n",
    "  def with_piece(self, piece: Piece, toprow: int, topcol: int) -> \"Puzzle\":\n",
    "    # This assumes the piece is trimmed\n",
    "    if (toprow + piece.rows.shape[0] > self.rows.shape[0]):\n",
    "      return None\n",
    "    if (topcol + piece.rows.shape[1] > self.rows.shape[1]):\n",
    "      return None\n",
    "    if (toprow + piece.columns.shape[0] > self.cols.shape[0]):\n",
    "      return None\n",
    "    if (topcol + piece.columns.shape[1] > self.cols.shape[1]):\n",
    "      return None\n",
    "    \n",
    "    puzzle_rows = self.rows[toprow:toprow+piece.rows.shape[0], topcol:topcol+piece.rows.shape[1]]\n",
    "    piece_rows_nonzero = np.nonzero(piece.rows)\n",
    "    if np.any(puzzle_rows[piece_rows_nonzero]):\n",
    "      return None\n",
    "\n",
    "    puzzle_cols = self.cols[toprow:toprow+piece.columns.shape[0], topcol:topcol+piece.columns.shape[1]]\n",
    "    piece_cols_nonzero = np.nonzero(piece.columns)\n",
    "    if np.any(puzzle_cols[piece_cols_nonzero]):\n",
    "      return None\n",
    "    \n",
    "    new_rows = self.rows.copy()\n",
    "    new_cols = self.cols.copy()\n",
    "    puzzle_rows = new_rows[toprow:toprow+piece.rows.shape[0], topcol:topcol+piece.rows.shape[1]]\n",
    "    puzzle_cols = new_cols[toprow:toprow+piece.columns.shape[0], topcol:topcol+piece.columns.shape[1]]\n",
    "    puzzle_rows[piece_rows_nonzero] = piece.rows[piece_rows_nonzero]\n",
    "    puzzle_cols[piece_cols_nonzero] = piece.columns[piece_cols_nonzero]\n",
    "\n",
    "    return Puzzle(new_rows, new_cols)\n",
    "  \n",
    "  def spaces_left(self):\n",
    "    return np.size(self.cols) - np.count_nonzero(self.cols) + np.size(self.rows) - np.count_nonzero(self.rows)"
   ]
  },
  {
   "cell_type": "code",
   "execution_count": 31,
   "metadata": {},
   "outputs": [
    {
     "name": "stdout",
     "output_type": "stream",
     "text": [
      "7.22 µs ± 1.69 µs per loop (mean ± std. dev. of 7 runs, 100,000 loops each)\n"
     ]
    }
   ],
   "source": [
    "puzzle = Puzzle()\n",
    "# tuple(puzzle.rows.flatten())\n",
    "%timeit hash(puzzle)"
   ]
  },
  {
   "cell_type": "code",
   "execution_count": 32,
   "metadata": {},
   "outputs": [
    {
     "name": "stdout",
     "output_type": "stream",
     "text": [
      "32.8 µs ± 1.62 µs per loop (mean ± std. dev. of 7 runs, 10,000 loops each)\n"
     ]
    }
   ],
   "source": [
    "%timeit Puzzle().with_piece(pieces[7], 2, 3)"
   ]
  },
  {
   "cell_type": "code",
   "execution_count": 33,
   "metadata": {},
   "outputs": [
    {
     "name": "stdout",
     "output_type": "stream",
     "text": [
      "Timer unit: 1e-07 s\n",
      "\n",
      "Total time: 0.0002141 s\n",
      "File: C:\\Users\\Vidminas\\AppData\\Local\\Temp\\ipykernel_3928\\441252767.py\n",
      "Function: with_piece at line 30\n",
      "\n",
      "Line #      Hits         Time  Per Hit   % Time  Line Contents\n",
      "==============================================================\n",
      "    30                                             def with_piece(self, piece: Piece, toprow: int, topcol: int) -> \"Puzzle\":\n",
      "    31                                               # This assumes the piece is trimmed\n",
      "    32         1         65.0     65.0      3.0      if (toprow + piece.rows.shape[0] > self.rows.shape[0]):\n",
      "    33                                                 return None\n",
      "    34         1         17.0     17.0      0.8      if (topcol + piece.rows.shape[1] > self.rows.shape[1]):\n",
      "    35                                                 return None\n",
      "    36         1         22.0     22.0      1.0      if (toprow + piece.columns.shape[0] > self.cols.shape[0]):\n",
      "    37                                                 return None\n",
      "    38         1         14.0     14.0      0.7      if (topcol + piece.columns.shape[1] > self.cols.shape[1]):\n",
      "    39                                                 return None\n",
      "    40                                               \n",
      "    41         1         68.0     68.0      3.2      puzzle_rows = self.rows[toprow:toprow+piece.rows.shape[0], topcol:topcol+piece.rows.shape[1]]\n",
      "    42         1        343.0    343.0     16.0      piece_rows_nonzero = np.nonzero(piece.rows)\n",
      "    43         1        738.0    738.0     34.5      if np.any(puzzle_rows[piece_rows_nonzero]):\n",
      "    44                                                 return None\n",
      "    45                                           \n",
      "    46         1         44.0     44.0      2.1      puzzle_cols = self.cols[toprow:toprow+piece.columns.shape[0], topcol:topcol+piece.columns.shape[1]]\n",
      "    47         1        136.0    136.0      6.4      piece_cols_nonzero = np.nonzero(piece.columns)\n",
      "    48         1        370.0    370.0     17.3      if np.any(puzzle_cols[piece_cols_nonzero]):\n",
      "    49                                                 return None\n",
      "    50                                               \n",
      "    51         1         49.0     49.0      2.3      new_rows = self.rows.copy()\n",
      "    52         1         25.0     25.0      1.2      new_cols = self.cols.copy()\n",
      "    53         1         38.0     38.0      1.8      puzzle_rows = new_rows[toprow:toprow+piece.rows.shape[0], topcol:topcol+piece.rows.shape[1]]\n",
      "    54         1         24.0     24.0      1.1      puzzle_cols = new_cols[toprow:toprow+piece.columns.shape[0], topcol:topcol+piece.columns.shape[1]]\n",
      "    55         1         87.0     87.0      4.1      puzzle_rows[piece_rows_nonzero] = piece.rows[piece_rows_nonzero]\n",
      "    56         1         56.0     56.0      2.6      puzzle_cols[piece_cols_nonzero] = piece.columns[piece_cols_nonzero]\n",
      "    57                                           \n",
      "    58         1         45.0     45.0      2.1      return Puzzle(new_rows, new_cols)"
     ]
    }
   ],
   "source": [
    "%lprun -f Puzzle.with_piece Puzzle().with_piece(pieces[7], 2, 3)"
   ]
  },
  {
   "cell_type": "code",
   "execution_count": 34,
   "metadata": {},
   "outputs": [
    {
     "data": {
      "text/plain": [
       " . . . . .\n",
       ". . . . . .\n",
       " . . . . .\n",
       ". . . . . .\n",
       " . . . . .\n",
       ". . . . . .\n",
       " . . . . .\n",
       ". . . . . .\n",
       " . . . . ."
      ]
     },
     "execution_count": 34,
     "metadata": {},
     "output_type": "execute_result"
    }
   ],
   "source": [
    "Puzzle()"
   ]
  },
  {
   "cell_type": "code",
   "execution_count": 35,
   "metadata": {},
   "outputs": [
    {
     "data": {
      "text/plain": [
       "49"
      ]
     },
     "execution_count": 35,
     "metadata": {},
     "output_type": "execute_result"
    }
   ],
   "source": [
    "Puzzle().spaces_left()"
   ]
  },
  {
   "cell_type": "code",
   "execution_count": 36,
   "metadata": {},
   "outputs": [
    {
     "data": {
      "text/plain": [
       " . . . . .\n",
       ". . . . . .\n",
       " . . . . -\n",
       ". . . . | |\n",
       " . . . . -\n",
       ". . . . . .\n",
       " . . . . .\n",
       ". . . . . .\n",
       " . . . . ."
      ]
     },
     "execution_count": 36,
     "metadata": {},
     "output_type": "execute_result"
    }
   ],
   "source": [
    "Puzzle().with_piece(pieces[0], 1, 4)"
   ]
  },
  {
   "cell_type": "code",
   "execution_count": 37,
   "metadata": {},
   "outputs": [
    {
     "data": {
      "text/plain": [
       " - - . . .\n",
       "| . . . . .\n",
       " . . . . .\n",
       ". . . . . .\n",
       " . . . . .\n",
       ". . . . . .\n",
       " . . . . .\n",
       ". . . . . .\n",
       " . . . . ."
      ]
     },
     "execution_count": 37,
     "metadata": {},
     "output_type": "execute_result"
    }
   ],
   "source": [
    "Puzzle().with_piece(pieces[7].rotated(), 0, 0)"
   ]
  },
  {
   "cell_type": "code",
   "execution_count": 38,
   "metadata": {},
   "outputs": [
    {
     "data": {
      "text/plain": [
       " - - - . .\n",
       ". | | . . .\n",
       " - - . . .\n",
       ". | . . . .\n",
       " - . . . .\n",
       ". . . . . .\n",
       " . . . . .\n",
       ". . . . . .\n",
       " . . . . ."
      ]
     },
     "execution_count": 38,
     "metadata": {},
     "output_type": "execute_result"
    }
   ],
   "source": [
    "Puzzle().with_piece(pieces[3], 0, 0).with_piece(pieces[4].rotated(), 0, 1)"
   ]
  },
  {
   "cell_type": "code",
   "execution_count": 39,
   "metadata": {},
   "outputs": [
    {
     "data": {
      "text/plain": [
       " . . . . .\n",
       ". . . . . .\n",
       " . - . . .\n",
       "| | | . . .\n",
       " - - . . .\n",
       ". . . . . .\n",
       " . . . . .\n",
       ". . . . . .\n",
       " . . . . ."
      ]
     },
     "execution_count": 39,
     "metadata": {},
     "output_type": "execute_result"
    }
   ],
   "source": [
    "Puzzle().with_piece(pieces[9].rotated().rotated().rotated(), 1, 0)"
   ]
  },
  {
   "cell_type": "code",
   "execution_count": 40,
   "metadata": {},
   "outputs": [],
   "source": [
    "from copy import copy\n",
    "\n",
    "bad_puzzles = set()\n",
    "\n",
    "# pick a puzzle piece\n",
    "# choose rotation\n",
    "# find top-left free corner\n",
    "# put piece if it fits\n",
    "# check for solved\n",
    "def attempt(puzzle: Puzzle, used_pieces: dict[int, tuple]):\n",
    "  if puzzle in bad_puzzles:\n",
    "    return None\n",
    "  if puzzle.spaces_left() == 2:\n",
    "    return puzzle, used_pieces\n",
    "  \n",
    "  candidates = []\n",
    "  for i in range(len(pieces)):\n",
    "    if i in used_pieces:\n",
    "      continue\n",
    "\n",
    "    for rotation in pieces[i].rotations():\n",
    "      for row in range(0, len(puzzle.rows)):\n",
    "        for col in range(0, len(puzzle.cols)):\n",
    "          candidate = puzzle.with_piece(rotation, row, col)\n",
    "    \n",
    "          if candidate is not None:\n",
    "            if candidate in bad_puzzles:\n",
    "              continue\n",
    "\n",
    "            candidate_used_pieces = copy(used_pieces)\n",
    "            candidate_used_pieces[i] = (rotation, row, col)\n",
    "            candidates.append((candidate, candidate_used_pieces))\n",
    "    \n",
    "  for candidate, candidate_used_pieces in candidates:\n",
    "    result = attempt(candidate, candidate_used_pieces)\n",
    "    if result is not None:\n",
    "      return result\n",
    "\n",
    "  bad_puzzles.add(puzzle)\n",
    "  return None"
   ]
  },
  {
   "cell_type": "code",
   "execution_count": 41,
   "metadata": {},
   "outputs": [
    {
     "name": "stdout",
     "output_type": "stream",
     "text": [
      "*** KeyboardInterrupt exception caught in code being profiled."
     ]
    },
    {
     "name": "stdout",
     "output_type": "stream",
     "text": [
      "Timer unit: 1e-07 s\n",
      "\n",
      "Total time: 56.8086 s\n",
      "File: C:\\Users\\Vidminas\\AppData\\Local\\Temp\\ipykernel_3928\\3240605786.py\n",
      "Function: attempt at line 10\n",
      "\n",
      "Line #      Hits         Time  Per Hit   % Time  Line Contents\n",
      "==============================================================\n",
      "    10                                           def attempt(puzzle: Puzzle, used_pieces: dict[int, tuple]):\n",
      "    11     10962    1515514.0    138.3      0.3    if puzzle in bad_puzzles:\n",
      "    12                                               return None\n",
      "    13     10962    2362254.0    215.5      0.4    if puzzle.spaces_left() == 2:\n",
      "    14                                               return puzzle, used_pieces\n",
      "    15                                             \n",
      "    16     10962      65394.0      6.0      0.0    candidates = []\n",
      "    17    120575     797065.0      6.6      0.1    for i in range(len(pieces)):\n",
      "    18    109614     739272.0      6.7      0.1      if i in used_pieces:\n",
      "    19     79487     326747.0      4.1      0.1        continue\n",
      "    20                                           \n",
      "    21    118871    5643940.0     47.5      1.0      for rotation in pieces[i].rotations():\n",
      "    22    532468    3538308.0      6.6      0.6        for row in range(0, len(puzzle.rows)):\n",
      "    23   2218619   19601820.0      8.8      3.5          for col in range(0, len(puzzle.cols)):\n",
      "    24   1774896  508651204.0    286.6     89.5            candidate = puzzle.with_piece(rotation, row, col)\n",
      "    25                                               \n",
      "    26   1774895    9726916.0      5.5      1.7            if candidate is not None:\n",
      "    27     29749   11666575.0    392.2      2.1              if candidate in bad_puzzles:\n",
      "    28     18150      91959.0      5.1      0.0                continue\n",
      "    29                                           \n",
      "    30     11599     622366.0     53.7      0.1              candidate_used_pieces = copy(used_pieces)\n",
      "    31     11599     142443.0     12.3      0.0              candidate_used_pieces[i] = (rotation, row, col)\n",
      "    32     11599     212102.0     18.3      0.0              candidates.append((candidate, candidate_used_pieces))\n",
      "    33                                               \n",
      "    34     21915     198761.0      9.1      0.0    for candidate, candidate_used_pieces in candidates:\n",
      "    35     10961     170361.0     15.5      0.0      result = attempt(candidate, candidate_used_pieces)\n",
      "    36     10954      87478.0      8.0      0.0      if result is not None:\n",
      "    37                                                 return result\n",
      "    38                                           \n",
      "    39     10954    1877111.0    171.4      0.3    bad_puzzles.add(puzzle)\n",
      "    40     10954      48255.0      4.4      0.0    return None"
     ]
    }
   ],
   "source": [
    "rot9 = pieces[9].rotated().rotated().rotated()\n",
    "puzzle = Puzzle().with_piece(rot9, 1, 0)\n",
    "%lprun -f attempt attempt(puzzle, {9: (rot9, 1, 0)})"
   ]
  },
  {
   "cell_type": "code",
   "execution_count": 42,
   "metadata": {},
   "outputs": [
    {
     "data": {
      "text/plain": [
       "10954"
      ]
     },
     "execution_count": 42,
     "metadata": {},
     "output_type": "execute_result"
    }
   ],
   "source": [
    "len(bad_puzzles)"
   ]
  },
  {
   "cell_type": "code",
   "execution_count": 43,
   "metadata": {},
   "outputs": [
    {
     "data": {
      "text/plain": [
       " - - - - .\n",
       "| | . . | .\n",
       " - - . - .\n",
       "| | | | . .\n",
       " - - . - .\n",
       ". . | . . .\n",
       " . - . - -\n",
       ". | | | | |\n",
       " - - - - -"
      ]
     },
     "execution_count": 43,
     "metadata": {},
     "output_type": "execute_result"
    }
   ],
   "source": [
    "next(iter(bad_puzzles))"
   ]
  }
 ],
 "metadata": {
  "kernelspec": {
   "display_name": "inf1b-ptas",
   "language": "python",
   "name": "python3"
  },
  "language_info": {
   "codemirror_mode": {
    "name": "ipython",
    "version": 3
   },
   "file_extension": ".py",
   "mimetype": "text/x-python",
   "name": "python",
   "nbconvert_exporter": "python",
   "pygments_lexer": "ipython3",
   "version": "3.11.3"
  }
 },
 "nbformat": 4,
 "nbformat_minor": 2
}
