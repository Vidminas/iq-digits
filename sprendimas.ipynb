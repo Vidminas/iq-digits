{
 "cells": [
  {
   "cell_type": "code",
   "execution_count": 227,
   "metadata": {},
   "outputs": [
    {
     "name": "stdout",
     "output_type": "stream",
     "text": [
      "The line_profiler extension is already loaded. To reload it, use:\n",
      "  %reload_ext line_profiler\n"
     ]
    }
   ],
   "source": [
    "import numpy as np\n",
    "from functools import cache\n",
    "from itertools import zip_longest\n",
    "import sys\n",
    "\n",
    "%load_ext line_profiler"
   ]
  },
  {
   "cell_type": "code",
   "execution_count": 228,
   "metadata": {},
   "outputs": [
    {
     "name": "stdout",
     "output_type": "stream",
     "text": [
      "129\n"
     ]
    }
   ],
   "source": [
    "class Piece():\n",
    "  rows: np.ndarray[np.uint8, np.uint8]\n",
    "  columns: np.ndarray[np.uint8, np.uint8]\n",
    "  rows_height: int\n",
    "  rows_width: int\n",
    "  cols_height: int\n",
    "  cols_width: int\n",
    "\n",
    "  def __init__(self, rows: tuple[tuple[bool]] | np.ndarray[np.uint8, np.uint8], columns: tuple[tuple[bool]] | np.ndarray[np.uint8, np.uint8]):\n",
    "    rows = np.asarray(rows)\n",
    "    columns = np.asarray(columns)\n",
    "\n",
    "    # Trim piece to size\n",
    "    while rows.size and ~np.any(rows[-1]) and columns.size and ~np.any(columns[-1]):\n",
    "       rows = rows[:-1]\n",
    "       columns = columns[:-1]\n",
    "\n",
    "    while rows.size and ~np.any(rows[:,-1]) and columns.size and ~np.any(columns[:,-1]):\n",
    "       rows = rows[:,:-1]\n",
    "       columns = columns[:,:-1]\n",
    "    \n",
    "    # Edge case: when all rows or columns are trimmed from one side\n",
    "    self.rows_height = 0 if not rows.size else rows.shape[0]\n",
    "    self.rows_width = 0 if not rows.size else rows.shape[1]\n",
    "    self.cols_height = 0 if not columns.size else columns.shape[0]\n",
    "    self.cols_width = 0 if not columns.size else columns.shape[1]\n",
    "    self.rows = np.packbits(rows, axis=0)\n",
    "    self.columns = np.packbits(columns, axis=0)\n",
    "\n",
    "  def __repr__(self):\n",
    "    rows = np.unpackbits(self.rows, axis=0, count=self.rows_height)\n",
    "    columns = np.unpackbits(self.columns, axis=0, count=self.cols_height)\n",
    "    buffer = []\n",
    "    for row, column in zip_longest(rows, columns):\n",
    "        if row is not None:\n",
    "          buffer.append(\" \" + \" \".join('-' if elem else ' ' for elem in row))\n",
    "        if column is not None:\n",
    "          buffer.append(\" \".join('|' if elem else ' ' for elem in column))\n",
    "    return \"\\n\".join(buffer)\n",
    "  \n",
    "  def __hash__(self):\n",
    "     return hash((tuple(self.rows.flatten()), tuple(self.columns.flatten())))\n",
    "\n",
    "  def __eq__(self, other):\n",
    "      if isinstance(other, Piece):\n",
    "          return np.array_equal(self.rows, other.rows) and np.array_equal(self.columns, other.columns)\n",
    "      return NotImplemented\n",
    "    \n",
    "  def rotated(self):\n",
    "    unpacked_rows = np.unpackbits(self.rows, axis=0, count=self.rows_height)\n",
    "    unpacked_columns = np.unpackbits(self.columns, axis=0, count=self.cols_height)\n",
    "\n",
    "    rows = np.rot90(unpacked_columns, 1)\n",
    "    columns = np.rot90(unpacked_rows, 1)\n",
    "\n",
    "    while rows.size and ~np.any(rows[0]) and columns.size and ~np.any(columns[0]):\n",
    "      # top row is empty, so we can shift digit up\n",
    "      rows = np.roll(rows, -1, 0)\n",
    "      columns = np.roll(columns, -1, 0)\n",
    "\n",
    "    return Piece(rows, columns)\n",
    "  \n",
    "  @cache\n",
    "  def rotations(self):\n",
    "    a = self\n",
    "    b = a.rotated()\n",
    "    c = b.rotated()\n",
    "    d = c.rotated()\n",
    "    return set((a, b, c, d))\n",
    "\n",
    "pieces = [\n",
    "  Piece(rows=((True, False), (True, False), (False, False)), columns=((True, True, False), (False, False, False))),\n",
    "  Piece(rows=((False, False), (False, False), (False, False)), columns=((True, False, False), (True, False, False))),\n",
    "  Piece(rows=((True, False), (True, False), (True, False)), columns=((False, True, False), (True, False, False))),\n",
    "  Piece(rows=((True, False), (True, False), (True, False)), columns=((False, True, False), (False, True, False))),\n",
    "  Piece(rows=((False, False), (True, False), (False, False)), columns=((True, True, False), (False, True, False))),\n",
    "  Piece(rows=((True, False), (True, False), (True, False)), columns=((True, False, False), (False, True, False))),\n",
    "  Piece(rows=((True, False), (True, False), (True, False)), columns=((True, False, False), (True, True, False))),\n",
    "  Piece(rows=((True, False), (False, False), (False, False)), columns=((False, True, False), (False, True, False))),\n",
    "  Piece(rows=((True, False), (True, False), (True, False)), columns=((True, True, False), (True, True, False))),\n",
    "  Piece(rows=((True, False), (True, False), (True, False)), columns=((True, True, False), (False, True, False))),\n",
    "]\n",
    "\n",
    "print(sys.getsizeof(pieces[0].rows))"
   ]
  },
  {
   "cell_type": "code",
   "execution_count": 229,
   "metadata": {},
   "outputs": [
    {
     "data": {
      "text/plain": [
       " -\n",
       "| |\n",
       " -"
      ]
     },
     "execution_count": 229,
     "metadata": {},
     "output_type": "execute_result"
    }
   ],
   "source": [
    "pieces[0]"
   ]
  },
  {
   "cell_type": "code",
   "execution_count": 230,
   "metadata": {},
   "outputs": [
    {
     "data": {
      "text/plain": [
       "|\n",
       "|"
      ]
     },
     "execution_count": 230,
     "metadata": {},
     "output_type": "execute_result"
    }
   ],
   "source": [
    "pieces[1]"
   ]
  },
  {
   "cell_type": "code",
   "execution_count": 231,
   "metadata": {},
   "outputs": [
    {
     "data": {
      "text/plain": [
       "{   -\n",
       " | | |\n",
       "  - -,\n",
       "  -\n",
       " |  \n",
       "  -\n",
       " | |\n",
       "  -,\n",
       "  -\n",
       " | |\n",
       "  -\n",
       "   |\n",
       "  -,\n",
       "  - -\n",
       " | | |\n",
       "  -  }"
      ]
     },
     "execution_count": 231,
     "metadata": {},
     "output_type": "execute_result"
    }
   ],
   "source": [
    "pieces[9].rotations()"
   ]
  },
  {
   "cell_type": "code",
   "execution_count": 232,
   "metadata": {},
   "outputs": [
    {
     "data": {
      "text/plain": [
       "{ -\n",
       " | |\n",
       "  -}"
      ]
     },
     "execution_count": 232,
     "metadata": {},
     "output_type": "execute_result"
    }
   ],
   "source": [
    "pieces[0].rotations()"
   ]
  },
  {
   "cell_type": "code",
   "execution_count": 233,
   "metadata": {},
   "outputs": [],
   "source": [
    "class Puzzle():\n",
    "  ROWS_HEIGHT = 5\n",
    "  ROWS_WIDTH = 5\n",
    "  COLS_HEIGHT = 4\n",
    "  COLS_WIDTH = 6\n",
    "  rows: np.ndarray[np.uint8, np.uint8]\n",
    "  cols: np.ndarray[np.uint8, np.uint8]\n",
    "\n",
    "  def __init__(\n",
    "      self,\n",
    "      rows=np.packbits(np.zeros((ROWS_HEIGHT,ROWS_WIDTH), dtype=np.uint8), axis=0),\n",
    "      cols=np.packbits(np.zeros((COLS_HEIGHT,COLS_WIDTH), dtype=np.uint8), axis=0),\n",
    "    ):\n",
    "    # self.rows = np.packbits(rows, axis=0)\n",
    "    # self.cols = np.packbits(cols, axis=0)\n",
    "    self.rows = rows\n",
    "    self.cols = cols\n",
    "\n",
    "  def __repr__(self):\n",
    "    rows = np.unpackbits(self.rows, axis=0, count=self.ROWS_HEIGHT)\n",
    "    cols = np.unpackbits(self.cols, axis=0, count=self.COLS_HEIGHT)\n",
    "    buffer = []\n",
    "    for row, column in zip_longest(rows, cols):\n",
    "        if row is not None:\n",
    "          buffer.append(\" \" + \" \".join('-' if elem else '.' for elem in row))\n",
    "        if column is not None:\n",
    "          buffer.append(\" \".join('|' if elem else '.' for elem in column))\n",
    "    return \"\\n\".join(buffer)\n",
    "\n",
    "  def __hash__(self):\n",
    "    return hash((tuple(self.rows.flatten()), tuple(self.cols.flatten())))\n",
    "\n",
    "  def __eq__(self, other):\n",
    "    if isinstance(other, Puzzle):\n",
    "        return np.array_equal(self.rows, other.rows) and np.array_equal(self.cols, other.cols)\n",
    "    return NotImplemented\n",
    "\n",
    "  def with_piece(self, piece: Piece, toprow: int, topcol: int) -> \"Puzzle\":\n",
    "    if (toprow + piece.rows_height > self.ROWS_HEIGHT):\n",
    "      return None\n",
    "    if (topcol + piece.rows_width > self.ROWS_WIDTH):\n",
    "      return None\n",
    "    if (toprow + piece.cols_height > self.COLS_HEIGHT):\n",
    "      return None\n",
    "    if (topcol + piece.cols_width > self.COLS_WIDTH):\n",
    "      return None\n",
    "    \n",
    "    mask_rows = np.zeros_like(self.rows)\n",
    "    if piece.rows.size:\n",
    "      mask_rows[:,topcol:topcol+piece.rows.shape[1]] = piece.rows >> toprow\n",
    "\n",
    "    mask_cols = np.zeros_like(self.cols)\n",
    "    if piece.columns.size:\n",
    "      mask_cols[:,topcol:topcol+piece.columns.shape[1]] = piece.columns >> toprow\n",
    "\n",
    "    if np.any(np.bitwise_and(self.rows, mask_rows)):\n",
    "      return None\n",
    "    if np.any(np.bitwise_and(self.cols, mask_cols)):\n",
    "      return None\n",
    "\n",
    "    np.bitwise_or(self.rows, mask_rows, out=mask_rows)\n",
    "    np.bitwise_or(self.cols, mask_cols, out=mask_cols)\n",
    "\n",
    "    return Puzzle(mask_rows, mask_cols)\n",
    "  \n",
    "  def spaces_left(self):\n",
    "    unpacked_rows = np.unpackbits(self.rows, axis=0, count=self.ROWS_HEIGHT)\n",
    "    unpacked_cols = np.unpackbits(self.cols, axis=0, count=self.COLS_HEIGHT)\n",
    "    return np.size(unpacked_cols) - np.count_nonzero(unpacked_cols) + np.size(unpacked_rows) - np.count_nonzero(unpacked_rows)"
   ]
  },
  {
   "cell_type": "code",
   "execution_count": 234,
   "metadata": {},
   "outputs": [
    {
     "name": "stdout",
     "output_type": "stream",
     "text": [
      "37.9 µs ± 5.75 µs per loop (mean ± std. dev. of 7 runs, 10,000 loops each)\n"
     ]
    }
   ],
   "source": [
    "%timeit Puzzle().with_piece(pieces[7], 2, 3)"
   ]
  },
  {
   "cell_type": "code",
   "execution_count": 235,
   "metadata": {},
   "outputs": [
    {
     "name": "stdout",
     "output_type": "stream",
     "text": [
      "Timer unit: 1e-07 s\n",
      "\n",
      "Total time: 0.0002198 s\n",
      "File: C:\\Users\\Vidminas\\AppData\\Local\\Temp\\ipykernel_16496\\2132562078.py\n",
      "Function: with_piece at line 38\n",
      "\n",
      "Line #      Hits         Time  Per Hit   % Time  Line Contents\n",
      "==============================================================\n",
      "    38                                             def with_piece(self, piece: Piece, toprow: int, topcol: int) -> \"Puzzle\":\n",
      "    39         1         39.0     39.0      1.8      if (toprow + piece.rows_height > self.ROWS_HEIGHT):\n",
      "    40                                                 return None\n",
      "    41         1         20.0     20.0      0.9      if (topcol + piece.rows_width > self.ROWS_WIDTH):\n",
      "    42                                                 return None\n",
      "    43         1         11.0     11.0      0.5      if (toprow + piece.cols_height > self.COLS_HEIGHT):\n",
      "    44                                                 return None\n",
      "    45         1         12.0     12.0      0.5      if (topcol + piece.cols_width > self.COLS_WIDTH):\n",
      "    46                                                 return None\n",
      "    47                                               \n",
      "    48         1        441.0    441.0     20.1      mask_rows = np.zeros_like(self.rows)\n",
      "    49         1         16.0     16.0      0.7      if piece.rows.size:\n",
      "    50         1        432.0    432.0     19.7        mask_rows[:,topcol:topcol+piece.rows.shape[1]] = piece.rows >> toprow\n",
      "    51                                           \n",
      "    52         1        193.0    193.0      8.8      mask_cols = np.zeros_like(self.cols)\n",
      "    53         1         11.0     11.0      0.5      if piece.columns.size:\n",
      "    54         1        136.0    136.0      6.2        mask_cols[:,topcol:topcol+piece.columns.shape[1]] = piece.columns >> toprow\n",
      "    55                                           \n",
      "    56         1        511.0    511.0     23.2      if np.any(np.bitwise_and(self.rows, mask_rows)):\n",
      "    57                                                 return None\n",
      "    58         1        264.0    264.0     12.0      if np.any(np.bitwise_and(self.cols, mask_cols)):\n",
      "    59                                                 return None\n",
      "    60                                           \n",
      "    61         1         46.0     46.0      2.1      np.bitwise_or(self.rows, mask_rows, out=mask_rows)\n",
      "    62         1         25.0     25.0      1.1      np.bitwise_or(self.cols, mask_cols, out=mask_cols)\n",
      "    63                                           \n",
      "    64         1         41.0     41.0      1.9      return Puzzle(mask_rows, mask_cols)"
     ]
    }
   ],
   "source": [
    "%lprun -f Puzzle.with_piece Puzzle().with_piece(pieces[7], 2, 3)"
   ]
  },
  {
   "cell_type": "code",
   "execution_count": 236,
   "metadata": {},
   "outputs": [
    {
     "data": {
      "text/plain": [
       " . . . . .\n",
       ". . . . . .\n",
       " . . . . .\n",
       ". . . . . .\n",
       " . . . . .\n",
       ". . . . . .\n",
       " . . . . .\n",
       ". . . . . .\n",
       " . . . . ."
      ]
     },
     "execution_count": 236,
     "metadata": {},
     "output_type": "execute_result"
    }
   ],
   "source": [
    "Puzzle()"
   ]
  },
  {
   "cell_type": "code",
   "execution_count": 237,
   "metadata": {},
   "outputs": [
    {
     "data": {
      "text/plain": [
       "49"
      ]
     },
     "execution_count": 237,
     "metadata": {},
     "output_type": "execute_result"
    }
   ],
   "source": [
    "Puzzle().spaces_left()"
   ]
  },
  {
   "cell_type": "code",
   "execution_count": 238,
   "metadata": {},
   "outputs": [
    {
     "data": {
      "text/plain": [
       " . . . . .\n",
       ". . . . . .\n",
       " . . . . .\n",
       ". . . . . .\n",
       " . . . . .\n",
       ". . . . . .\n",
       " . . . . -\n",
       ". . . . | |\n",
       " . . . . -"
      ]
     },
     "execution_count": 238,
     "metadata": {},
     "output_type": "execute_result"
    }
   ],
   "source": [
    "Puzzle().with_piece(pieces[0], 3, 4)"
   ]
  },
  {
   "cell_type": "code",
   "execution_count": 239,
   "metadata": {},
   "outputs": [
    {
     "data": {
      "text/plain": [
       " - - . . .\n",
       "| . . . . .\n",
       " . . . . .\n",
       ". . . . . .\n",
       " . . . . .\n",
       ". . . . . .\n",
       " . . . . .\n",
       ". . . . . .\n",
       " . . . . ."
      ]
     },
     "execution_count": 239,
     "metadata": {},
     "output_type": "execute_result"
    }
   ],
   "source": [
    "Puzzle().with_piece(pieces[7].rotated(), 0, 0)"
   ]
  },
  {
   "cell_type": "code",
   "execution_count": 240,
   "metadata": {},
   "outputs": [
    {
     "data": {
      "text/plain": [
       " - - - . .\n",
       ". | | . . .\n",
       " - - . . .\n",
       ". | . . . .\n",
       " - . . . .\n",
       ". . . . . .\n",
       " . . . . .\n",
       ". . . . . .\n",
       " . . . . ."
      ]
     },
     "execution_count": 240,
     "metadata": {},
     "output_type": "execute_result"
    }
   ],
   "source": [
    "Puzzle().with_piece(pieces[3], 0, 0).with_piece(pieces[4].rotated(), 0, 1)"
   ]
  },
  {
   "cell_type": "code",
   "execution_count": 241,
   "metadata": {},
   "outputs": [
    {
     "data": {
      "text/plain": [
       " . . . . .\n",
       ". . . . . .\n",
       " . - . . .\n",
       "| | | . . .\n",
       " - - . . .\n",
       ". . . . . .\n",
       " . . . . .\n",
       ". . . . . .\n",
       " . . . . ."
      ]
     },
     "execution_count": 241,
     "metadata": {},
     "output_type": "execute_result"
    }
   ],
   "source": [
    "Puzzle().with_piece(pieces[9].rotated().rotated().rotated(), 1, 0)"
   ]
  },
  {
   "cell_type": "code",
   "execution_count": 244,
   "metadata": {},
   "outputs": [],
   "source": [
    "from copy import copy\n",
    "\n",
    "bad_puzzles = set()\n",
    "\n",
    "# pick a puzzle piece\n",
    "# choose rotation\n",
    "# find top-left free corner\n",
    "# put piece if it fits\n",
    "# check for solved\n",
    "def attempt(puzzle: Puzzle, used_pieces: dict[int, tuple]):\n",
    "  if puzzle in bad_puzzles:\n",
    "    return None\n",
    "  if puzzle.spaces_left() == 2:\n",
    "    return puzzle, used_pieces\n",
    "  \n",
    "  candidates = []\n",
    "  for i in range(len(pieces)):\n",
    "    if i in used_pieces:\n",
    "      continue\n",
    "\n",
    "    for rotation in pieces[i].rotations():\n",
    "      for row in range(0, puzzle.ROWS_HEIGHT):\n",
    "        for col in range(0, puzzle.COLS_HEIGHT):\n",
    "          candidate = puzzle.with_piece(rotation, row, col)\n",
    "    \n",
    "          if candidate is not None:\n",
    "            if candidate in bad_puzzles:\n",
    "              continue\n",
    "\n",
    "            candidate_used_pieces = copy(used_pieces)\n",
    "            candidate_used_pieces[i] = (rotation, row, col)\n",
    "            candidates.append((candidate, candidate_used_pieces))\n",
    "    \n",
    "  for candidate, candidate_used_pieces in candidates:\n",
    "    result = attempt(candidate, candidate_used_pieces)\n",
    "    if result is not None:\n",
    "      return result\n",
    "\n",
    "  bad_puzzles.add(puzzle)\n",
    "  return None"
   ]
  },
  {
   "cell_type": "code",
   "execution_count": 245,
   "metadata": {},
   "outputs": [
    {
     "name": "stdout",
     "output_type": "stream",
     "text": [
      "*** KeyboardInterrupt exception caught in code being profiled."
     ]
    },
    {
     "name": "stdout",
     "output_type": "stream",
     "text": [
      "Timer unit: 1e-07 s\n",
      "\n",
      "Total time: 29.5767 s\n",
      "File: C:\\Users\\Vidminas\\AppData\\Local\\Temp\\ipykernel_16496\\389121045.py\n",
      "Function: attempt at line 10\n",
      "\n",
      "Line #      Hits         Time  Per Hit   % Time  Line Contents\n",
      "==============================================================\n",
      "    10                                           def attempt(puzzle: Puzzle, used_pieces: dict[int, tuple]):\n",
      "    11      3260     349122.0    107.1      0.1    if puzzle in bad_puzzles:\n",
      "    12                                               return None\n",
      "    13      3260    1067169.0    327.4      0.4    if puzzle.spaces_left() == 2:\n",
      "    14                                               return puzzle, used_pieces\n",
      "    15                                             \n",
      "    16      3260      17390.0      5.3      0.0    candidates = []\n",
      "    17     35858     224911.0      6.3      0.1    for i in range(len(pieces)):\n",
      "    18     32599     197758.0      6.1      0.1      if i in used_pieces:\n",
      "    19     21909      71137.0      3.2      0.0        continue\n",
      "    20                                           \n",
      "    21     42525    2125293.0     50.0      0.7      for rotation in pieces[i].rotations():\n",
      "    22    191012    1040221.0      5.4      0.4        for row in range(0, puzzle.ROWS_HEIGHT):\n",
      "    23    795884    6121197.0      7.7      2.1          for col in range(0, puzzle.COLS_HEIGHT):\n",
      "    24    636708  277754597.0    436.2     93.9            candidate = puzzle.with_piece(rotation, row, col)\n",
      "    25                                               \n",
      "    26    636707    3165482.0      5.0      1.1            if candidate is not None:\n",
      "    27      8676    2657914.0    306.4      0.9              if candidate in bad_puzzles:\n",
      "    28      4820      21756.0      4.5      0.0                continue\n",
      "    29                                           \n",
      "    30      3856     202827.0     52.6      0.1              candidate_used_pieces = copy(used_pieces)\n",
      "    31      3856      39811.0     10.3      0.0              candidate_used_pieces[i] = (rotation, row, col)\n",
      "    32      3856      45237.0     11.7      0.0              candidates.append((candidate, candidate_used_pieces))\n",
      "    33                                               \n",
      "    34      6512      67160.0     10.3      0.0    for candidate, candidate_used_pieces in candidates:\n",
      "    35      3259      47093.0     14.5      0.0      result = attempt(candidate, candidate_used_pieces)\n",
      "    36      3253      24372.0      7.5      0.0      if result is not None:\n",
      "    37                                                 return result\n",
      "    38                                           \n",
      "    39      3253     513339.0    157.8      0.2    bad_puzzles.add(puzzle)\n",
      "    40      3253      13345.0      4.1      0.0    return None"
     ]
    }
   ],
   "source": [
    "rot9 = pieces[9].rotated().rotated().rotated()\n",
    "puzzle = Puzzle().with_piece(rot9, 1, 0)\n",
    "# solution = attempt(puzzle, {9: (rot9, 1, 0)})\n",
    "# solution\n",
    "%lprun -f attempt attempt(puzzle, {9: (rot9, 1, 0)})"
   ]
  },
  {
   "cell_type": "code",
   "execution_count": 246,
   "metadata": {},
   "outputs": [
    {
     "data": {
      "text/plain": [
       "3253"
      ]
     },
     "execution_count": 246,
     "metadata": {},
     "output_type": "execute_result"
    }
   ],
   "source": [
    "len(bad_puzzles)"
   ]
  },
  {
   "cell_type": "code",
   "execution_count": 247,
   "metadata": {},
   "outputs": [
    {
     "data": {
      "text/plain": [
       " - . - - .\n",
       "| | | | . .\n",
       " - - . . .\n",
       "| | | | . .\n",
       " - - - - .\n",
       ". . | | | |\n",
       " . - - . -\n",
       ". . | | | .\n",
       " . . - - ."
      ]
     },
     "execution_count": 247,
     "metadata": {},
     "output_type": "execute_result"
    }
   ],
   "source": [
    "next(iter(bad_puzzles))"
   ]
  }
 ],
 "metadata": {
  "kernelspec": {
   "display_name": "inf1b-ptas",
   "language": "python",
   "name": "python3"
  },
  "language_info": {
   "codemirror_mode": {
    "name": "ipython",
    "version": 3
   },
   "file_extension": ".py",
   "mimetype": "text/x-python",
   "name": "python",
   "nbconvert_exporter": "python",
   "pygments_lexer": "ipython3",
   "version": "3.11.3"
  }
 },
 "nbformat": 4,
 "nbformat_minor": 2
}
