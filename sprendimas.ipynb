{
 "cells": [
  {
   "cell_type": "code",
   "execution_count": 50,
   "metadata": {},
   "outputs": [
    {
     "name": "stdout",
     "output_type": "stream",
     "text": [
      "The line_profiler extension is already loaded. To reload it, use:\n",
      "  %reload_ext line_profiler\n"
     ]
    }
   ],
   "source": [
    "import numpy as np\n",
    "from functools import cache\n",
    "from itertools import zip_longest\n",
    "import sys\n",
    "\n",
    "%load_ext line_profiler"
   ]
  },
  {
   "cell_type": "code",
   "execution_count": 51,
   "metadata": {},
   "outputs": [
    {
     "name": "stdout",
     "output_type": "stream",
     "text": [
      "129\n"
     ]
    }
   ],
   "source": [
    "class Piece():\n",
    "  h_edges: np.ndarray[np.uint8, np.uint8]\n",
    "  v_edges: np.ndarray[np.uint8, np.uint8]\n",
    "  h_height: int\n",
    "  h_width: int\n",
    "  v_height: int\n",
    "  v_width: int\n",
    "\n",
    "  def __init__(self, h_edges: tuple[tuple[bool]] | np.ndarray[np.uint8, np.uint8], v_edges: tuple[tuple[bool]] | np.ndarray[np.uint8, np.uint8]):\n",
    "    h_edges = np.asarray(h_edges)\n",
    "    v_edges = np.asarray(v_edges)\n",
    "\n",
    "    # Trim piece to size\n",
    "    while h_edges.size and ~np.any(h_edges[-1]) and v_edges.size and ~np.any(v_edges[-1]):\n",
    "       h_edges = h_edges[:-1]\n",
    "       v_edges = v_edges[:-1]\n",
    "\n",
    "    while h_edges.size and ~np.any(h_edges[:,-1]) and v_edges.size and ~np.any(v_edges[:,-1]):\n",
    "       h_edges = h_edges[:,:-1]\n",
    "       v_edges = v_edges[:,:-1]\n",
    "    \n",
    "    # Edge case: when all h_edges or v_edges are trimmed from one side\n",
    "    self.h_height = 0 if not h_edges.size else h_edges.shape[0]\n",
    "    self.h_width = 0 if not h_edges.size else h_edges.shape[1]\n",
    "    self.v_height = 0 if not v_edges.size else v_edges.shape[0]\n",
    "    self.v_width = 0 if not v_edges.size else v_edges.shape[1]\n",
    "    self.h_edges = np.packbits(h_edges, axis=0)\n",
    "    self.v_edges = np.packbits(v_edges, axis=0)\n",
    "\n",
    "  def __repr__(self):\n",
    "    h_edges = np.unpackbits(self.h_edges, axis=0, count=self.h_height)\n",
    "    v_edges = np.unpackbits(self.v_edges, axis=0, count=self.v_height)\n",
    "    buffer = []\n",
    "    for h_row, v_row in zip_longest(h_edges, v_edges):\n",
    "        if h_row is not None:\n",
    "          buffer.append(\" \" + \" \".join('-' if h_edge else ' ' for h_edge in h_row))\n",
    "        if v_row is not None:\n",
    "          buffer.append(\" \".join('|' if v_edge else ' ' for v_edge in v_row))\n",
    "    return \"\\n\".join(buffer)\n",
    "  \n",
    "  def __hash__(self):\n",
    "     return hash((tuple(self.h_edges.flatten()), tuple(self.v_edges.flatten())))\n",
    "\n",
    "  def __eq__(self, other):\n",
    "      if isinstance(other, Piece):\n",
    "          return np.array_equal(self.h_edges, other.h_edges) and np.array_equal(self.v_edges, other.v_edges)\n",
    "      return NotImplemented\n",
    "    \n",
    "  def rotated(self):\n",
    "    unpacked_h_edges = np.unpackbits(self.h_edges, axis=0, count=self.h_height)\n",
    "    unpacked_v_edges = np.unpackbits(self.v_edges, axis=0, count=self.v_height)\n",
    "\n",
    "    h_edges = np.rot90(unpacked_v_edges, 1)\n",
    "    v_edges = np.rot90(unpacked_h_edges, 1)\n",
    "\n",
    "    while h_edges.size and ~np.any(h_edges[0]) and v_edges.size and ~np.any(v_edges[0]):\n",
    "      # top row is empty, so we can shift digit up\n",
    "      h_edges = np.roll(h_edges, -1, 0)\n",
    "      v_edges = np.roll(v_edges, -1, 0)\n",
    "\n",
    "    return Piece(h_edges, v_edges)\n",
    "  \n",
    "  @cache\n",
    "  def rotations(self):\n",
    "    a = self\n",
    "    b = a.rotated()\n",
    "    c = b.rotated()\n",
    "    d = c.rotated()\n",
    "    return set((a, b, c, d))\n",
    "\n",
    "pieces = [\n",
    "  Piece(h_edges=((True, False), (True, False), (False, False)), v_edges=((True, True, False), (False, False, False))),\n",
    "  Piece(h_edges=((False, False), (False, False), (False, False)), v_edges=((True, False, False), (True, False, False))),\n",
    "  Piece(h_edges=((True, False), (True, False), (True, False)), v_edges=((False, True, False), (True, False, False))),\n",
    "  Piece(h_edges=((True, False), (True, False), (True, False)), v_edges=((False, True, False), (False, True, False))),\n",
    "  Piece(h_edges=((False, False), (True, False), (False, False)), v_edges=((True, True, False), (False, True, False))),\n",
    "  Piece(h_edges=((True, False), (True, False), (True, False)), v_edges=((True, False, False), (False, True, False))),\n",
    "  Piece(h_edges=((True, False), (True, False), (True, False)), v_edges=((True, False, False), (True, True, False))),\n",
    "  Piece(h_edges=((True, False), (False, False), (False, False)), v_edges=((False, True, False), (False, True, False))),\n",
    "  Piece(h_edges=((True, False), (True, False), (True, False)), v_edges=((True, True, False), (True, True, False))),\n",
    "  Piece(h_edges=((True, False), (True, False), (True, False)), v_edges=((True, True, False), (False, True, False))),\n",
    "]\n",
    "\n",
    "print(sys.getsizeof(pieces[0].h_edges))"
   ]
  },
  {
   "cell_type": "code",
   "execution_count": 52,
   "metadata": {},
   "outputs": [
    {
     "data": {
      "text/plain": [
       " -\n",
       "| |\n",
       " -"
      ]
     },
     "execution_count": 52,
     "metadata": {},
     "output_type": "execute_result"
    }
   ],
   "source": [
    "pieces[0]"
   ]
  },
  {
   "cell_type": "code",
   "execution_count": 53,
   "metadata": {},
   "outputs": [
    {
     "data": {
      "text/plain": [
       "|\n",
       "|"
      ]
     },
     "execution_count": 53,
     "metadata": {},
     "output_type": "execute_result"
    }
   ],
   "source": [
    "pieces[1]"
   ]
  },
  {
   "cell_type": "code",
   "execution_count": 54,
   "metadata": {},
   "outputs": [
    {
     "data": {
      "text/plain": [
       "{   -\n",
       " | | |\n",
       "  - -,\n",
       "  -\n",
       " |  \n",
       "  -\n",
       " | |\n",
       "  -,\n",
       "  -\n",
       " | |\n",
       "  -\n",
       "   |\n",
       "  -,\n",
       "  - -\n",
       " | | |\n",
       "  -  }"
      ]
     },
     "execution_count": 54,
     "metadata": {},
     "output_type": "execute_result"
    }
   ],
   "source": [
    "pieces[9].rotations()"
   ]
  },
  {
   "cell_type": "code",
   "execution_count": 55,
   "metadata": {},
   "outputs": [
    {
     "data": {
      "text/plain": [
       "{ -\n",
       " | |\n",
       "  -}"
      ]
     },
     "execution_count": 55,
     "metadata": {},
     "output_type": "execute_result"
    }
   ],
   "source": [
    "pieces[0].rotations()"
   ]
  },
  {
   "cell_type": "code",
   "execution_count": 56,
   "metadata": {},
   "outputs": [],
   "source": [
    "class Puzzle():\n",
    "  H_HEIGHT = 5\n",
    "  H_WIDTH = 5\n",
    "  V_HEIGHT = 4\n",
    "  V_WIDTH = 6\n",
    "  h_edges: np.ndarray[np.uint8, np.uint8]\n",
    "  v_edges: np.ndarray[np.uint8, np.uint8]\n",
    "\n",
    "  def __init__(\n",
    "      self,\n",
    "      h_edges=np.packbits(np.zeros((H_HEIGHT,H_WIDTH), dtype=np.uint8), axis=0),\n",
    "      v_edges=np.packbits(np.zeros((V_HEIGHT,V_WIDTH), dtype=np.uint8), axis=0),\n",
    "    ):\n",
    "    self.h_edges = h_edges\n",
    "    self.v_edges = v_edges\n",
    "\n",
    "  def __repr__(self):\n",
    "    h_edges = np.unpackbits(self.h_edges, axis=0, count=self.H_HEIGHT)\n",
    "    v_edges = np.unpackbits(self.v_edges, axis=0, count=self.V_HEIGHT)\n",
    "    buffer = []  \n",
    "    for h_row, v_row in zip_longest(h_edges, v_edges):\n",
    "        if h_row is not None:\n",
    "          buffer.append(\" \" + \" \".join('-' if h_edge else '.' for h_edge in h_row))\n",
    "        if v_row is not None:\n",
    "          buffer.append(\" \".join('|' if v_edge else '.' for v_edge in v_row))\n",
    "    return \"\\n\".join(buffer)\n",
    "\n",
    "  def __hash__(self):\n",
    "    return hash((tuple(self.h_edges.flatten()), tuple(self.v_edges.flatten())))\n",
    "\n",
    "  def __eq__(self, other):\n",
    "    if isinstance(other, Puzzle):\n",
    "        return np.array_equal(self.h_edges, other.h_edges) and np.array_equal(self.v_edges, other.v_edges)\n",
    "    return NotImplemented\n",
    "\n",
    "  def with_piece(self, piece: Piece, v_offset: int, h_offset: int) -> \"Puzzle\":\n",
    "    if (v_offset + piece.h_height > self.H_HEIGHT):\n",
    "      return None\n",
    "    if (h_offset + piece.h_width > self.H_WIDTH):\n",
    "      return None\n",
    "    if (v_offset + piece.v_height > self.V_HEIGHT):\n",
    "      return None\n",
    "    if (h_offset + piece.v_width > self.V_WIDTH):\n",
    "      return None\n",
    "    \n",
    "    mask_h_edges = np.zeros_like(self.h_edges)\n",
    "    if piece.h_edges.size:\n",
    "      mask_h_edges[:,h_offset:h_offset+piece.h_edges.shape[1]] = piece.h_edges >> v_offset\n",
    "\n",
    "    mask_v_edges = np.zeros_like(self.v_edges)\n",
    "    if piece.v_edges.size:\n",
    "      mask_v_edges[:,h_offset:h_offset+piece.v_edges.shape[1]] = piece.v_edges >> v_offset\n",
    "\n",
    "    if np.any(np.bitwise_and(self.h_edges, mask_h_edges)):\n",
    "      return None\n",
    "    if np.any(np.bitwise_and(self.v_edges, mask_v_edges)):\n",
    "      return None\n",
    "\n",
    "    np.bitwise_or(self.h_edges, mask_h_edges, out=mask_h_edges)\n",
    "    np.bitwise_or(self.v_edges, mask_v_edges, out=mask_v_edges)\n",
    "\n",
    "    return Puzzle(mask_h_edges, mask_v_edges)"
   ]
  },
  {
   "cell_type": "code",
   "execution_count": 57,
   "metadata": {},
   "outputs": [
    {
     "name": "stdout",
     "output_type": "stream",
     "text": [
      "135 µs ± 49.7 µs per loop (mean ± std. dev. of 7 runs, 1,000 loops each)\n"
     ]
    }
   ],
   "source": [
    "%timeit Puzzle().with_piece(pieces[7], 2, 3)"
   ]
  },
  {
   "cell_type": "code",
   "execution_count": 58,
   "metadata": {},
   "outputs": [
    {
     "name": "stdout",
     "output_type": "stream",
     "text": [
      "Timer unit: 1e-07 s\n",
      "\n",
      "Total time: 0.0003356 s\n",
      "File: C:\\Users\\Vidminas\\AppData\\Local\\Temp\\ipykernel_9708\\438001354.py\n",
      "Function: with_piece at line 36\n",
      "\n",
      "Line #      Hits         Time  Per Hit   % Time  Line Contents\n",
      "==============================================================\n",
      "    36                                             def with_piece(self, piece: Piece, v_offset: int, h_offset: int) -> \"Puzzle\":\n",
      "    37         1         54.0     54.0      1.6      if (v_offset + piece.h_height > self.H_HEIGHT):\n",
      "    38                                                 return None\n",
      "    39         1         21.0     21.0      0.6      if (h_offset + piece.h_width > self.H_WIDTH):\n",
      "    40                                                 return None\n",
      "    41         1         15.0     15.0      0.4      if (v_offset + piece.v_height > self.V_HEIGHT):\n",
      "    42                                                 return None\n",
      "    43         1         19.0     19.0      0.6      if (h_offset + piece.v_width > self.V_WIDTH):\n",
      "    44                                                 return None\n",
      "    45                                               \n",
      "    46         1        634.0    634.0     18.9      mask_h_edges = np.zeros_like(self.h_edges)\n",
      "    47         1         23.0     23.0      0.7      if piece.h_edges.size:\n",
      "    48         1        509.0    509.0     15.2        mask_h_edges[:,h_offset:h_offset+piece.h_edges.shape[1]] = piece.h_edges >> v_offset\n",
      "    49                                           \n",
      "    50         1        261.0    261.0      7.8      mask_v_edges = np.zeros_like(self.v_edges)\n",
      "    51         1         20.0     20.0      0.6      if piece.v_edges.size:\n",
      "    52         1        222.0    222.0      6.6        mask_v_edges[:,h_offset:h_offset+piece.v_edges.shape[1]] = piece.v_edges >> v_offset\n",
      "    53                                           \n",
      "    54         1        991.0    991.0     29.5      if np.any(np.bitwise_and(self.h_edges, mask_h_edges)):\n",
      "    55                                                 return None\n",
      "    56         1        437.0    437.0     13.0      if np.any(np.bitwise_and(self.v_edges, mask_v_edges)):\n",
      "    57                                                 return None\n",
      "    58                                           \n",
      "    59         1         65.0     65.0      1.9      np.bitwise_or(self.h_edges, mask_h_edges, out=mask_h_edges)\n",
      "    60         1         29.0     29.0      0.9      np.bitwise_or(self.v_edges, mask_v_edges, out=mask_v_edges)\n",
      "    61                                           \n",
      "    62         1         56.0     56.0      1.7      return Puzzle(mask_h_edges, mask_v_edges)"
     ]
    }
   ],
   "source": [
    "%lprun -f Puzzle.with_piece Puzzle().with_piece(pieces[7], 2, 3)"
   ]
  },
  {
   "cell_type": "code",
   "execution_count": 59,
   "metadata": {},
   "outputs": [
    {
     "data": {
      "text/plain": [
       " . . . . .\n",
       ". . . . . .\n",
       " . . . . .\n",
       ". . . . . .\n",
       " . . . . .\n",
       ". . . . . .\n",
       " . . . . .\n",
       ". . . . . .\n",
       " . . . . ."
      ]
     },
     "execution_count": 59,
     "metadata": {},
     "output_type": "execute_result"
    }
   ],
   "source": [
    "Puzzle()"
   ]
  },
  {
   "cell_type": "code",
   "execution_count": 60,
   "metadata": {},
   "outputs": [
    {
     "data": {
      "text/plain": [
       " . . . . .\n",
       ". . . . . .\n",
       " . . . . .\n",
       ". . . . . .\n",
       " . . . . .\n",
       ". . . . . .\n",
       " . . . . -\n",
       ". . . . | |\n",
       " . . . . -"
      ]
     },
     "execution_count": 60,
     "metadata": {},
     "output_type": "execute_result"
    }
   ],
   "source": [
    "Puzzle().with_piece(pieces[0], 3, 4)"
   ]
  },
  {
   "cell_type": "code",
   "execution_count": 61,
   "metadata": {},
   "outputs": [
    {
     "data": {
      "text/plain": [
       " - - . . .\n",
       "| . . . . .\n",
       " . . . . .\n",
       ". . . . . .\n",
       " . . . . .\n",
       ". . . . . .\n",
       " . . . . .\n",
       ". . . . . .\n",
       " . . . . ."
      ]
     },
     "execution_count": 61,
     "metadata": {},
     "output_type": "execute_result"
    }
   ],
   "source": [
    "Puzzle().with_piece(pieces[7].rotated(), 0, 0)"
   ]
  },
  {
   "cell_type": "code",
   "execution_count": 62,
   "metadata": {},
   "outputs": [
    {
     "data": {
      "text/plain": [
       " - - - . .\n",
       ". | | . . .\n",
       " - - . . .\n",
       ". | . . . .\n",
       " - . . . .\n",
       ". . . . . .\n",
       " . . . . .\n",
       ". . . . . .\n",
       " . . . . ."
      ]
     },
     "execution_count": 62,
     "metadata": {},
     "output_type": "execute_result"
    }
   ],
   "source": [
    "Puzzle().with_piece(pieces[3], 0, 0).with_piece(pieces[4].rotated(), 0, 1)"
   ]
  },
  {
   "cell_type": "code",
   "execution_count": 63,
   "metadata": {},
   "outputs": [
    {
     "data": {
      "text/plain": [
       " . . . . .\n",
       ". . . . . .\n",
       " . - . . .\n",
       "| | | . . .\n",
       " - - . . .\n",
       ". . . . . .\n",
       " . . . . .\n",
       ". . . . . .\n",
       " . . . . ."
      ]
     },
     "execution_count": 63,
     "metadata": {},
     "output_type": "execute_result"
    }
   ],
   "source": [
    "Puzzle().with_piece(pieces[9].rotated().rotated().rotated(), 1, 0)"
   ]
  },
  {
   "cell_type": "code",
   "execution_count": 74,
   "metadata": {},
   "outputs": [],
   "source": [
    "# larger pieces ordered first, as this prunes more candidate solutions\n",
    "pieces_order = (8, 9, 6, 5, 2, 0, 4, 3, 7, 1)\n",
    "bad_puzzles = set()\n",
    "\n",
    "# pick a puzzle piece\n",
    "# choose rotation\n",
    "# find top-left free corner\n",
    "# put piece if it fits\n",
    "# check if solved\n",
    "def attempt(puzzle: Puzzle, used_pieces: dict[int, tuple]):\n",
    "  if puzzle in bad_puzzles:\n",
    "    return None\n",
    "  if len(used_pieces) == len(pieces):\n",
    "    return puzzle, used_pieces\n",
    "  \n",
    "  for i in pieces_order:\n",
    "    if i in used_pieces:\n",
    "      continue\n",
    "\n",
    "    for rotation in pieces[i].rotations():\n",
    "      for v_offset in range(0, max(puzzle.H_HEIGHT, puzzle.V_HEIGHT)):\n",
    "        for h_offset in range(0, max(puzzle.H_WIDTH, puzzle.V_WIDTH)):\n",
    "          candidate = puzzle.with_piece(rotation, v_offset, h_offset)\n",
    "    \n",
    "          if candidate is not None:\n",
    "            if candidate in bad_puzzles:\n",
    "              continue\n",
    "\n",
    "            candidate_used_pieces = used_pieces.copy()\n",
    "            candidate_used_pieces[i] = (rotation, v_offset, h_offset)\n",
    "            result = attempt(candidate, candidate_used_pieces)\n",
    "            if result is not None:\n",
    "              return result\n",
    "\n",
    "  bad_puzzles.add(puzzle)\n",
    "  return None"
   ]
  },
  {
   "cell_type": "code",
   "execution_count": 75,
   "metadata": {},
   "outputs": [
    {
     "name": "stdout",
     "output_type": "stream",
     "text": [
      "*** KeyboardInterrupt exception caught in code being profiled."
     ]
    },
    {
     "name": "stdout",
     "output_type": "stream",
     "text": [
      "Timer unit: 1e-07 s\n",
      "\n",
      "Total time: 57.4813 s\n",
      "File: C:\\Users\\Vidminas\\AppData\\Local\\Temp\\ipykernel_9708\\291928648.py\n",
      "Function: attempt at line 10\n",
      "\n",
      "Line #      Hits         Time  Per Hit   % Time  Line Contents\n",
      "==============================================================\n",
      "    10                                           def attempt(puzzle: Puzzle, used_pieces: dict[int, tuple]):\n",
      "    11      5429     503217.0     92.7      0.1    if puzzle in bad_puzzles:\n",
      "    12                                               return None\n",
      "    13      5429     120862.0     22.3      0.0    if len(used_pieces) == len(pieces):\n",
      "    14                                               return puzzle, used_pieces\n",
      "    15                                             \n",
      "    16     59670     334852.0      5.6      0.1    for i in pieces_order:\n",
      "    17     54250     343905.0      6.3      0.1      if i in used_pieces:\n",
      "    18     37375     131275.0      3.5      0.0        continue\n",
      "    19                                           \n",
      "    20     63842    3505481.0     54.9      0.6      for rotation in pieces[i].rotations():\n",
      "    21    281823    2068754.0      7.3      0.4        for v_offset in range(0, max(puzzle.H_HEIGHT, puzzle.V_HEIGHT)):\n",
      "    22   1643953   14245387.0      8.7      2.5          for h_offset in range(0, max(puzzle.H_WIDTH, puzzle.V_WIDTH)):\n",
      "    23   1409106  537302905.0    381.3     93.5            candidate = puzzle.with_piece(rotation, v_offset, h_offset)\n",
      "    24                                               \n",
      "    25   1409105    7401625.0      5.3      1.3            if candidate is not None:\n",
      "    26     17212    7345959.0    426.8      1.3              if candidate in bad_puzzles:\n",
      "    27     11784      53615.0      4.5      0.0                continue\n",
      "    28                                           \n",
      "    29      5428     108801.0     20.0      0.0              candidate_used_pieces = used_pieces.copy()\n",
      "    30      5428      61527.0     11.3      0.0              candidate_used_pieces[i] = (rotation, v_offset, h_offset)\n",
      "    31      5428      74688.0     13.8      0.0              result = attempt(candidate, candidate_used_pieces)\n",
      "    32      5420      44050.0      8.1      0.0              if result is not None:\n",
      "    33                                                         return result\n",
      "    34                                           \n",
      "    35      5420    1141596.0    210.6      0.2    bad_puzzles.add(puzzle)\n",
      "    36      5420      24650.0      4.5      0.0    return None"
     ]
    }
   ],
   "source": [
    "# A blank start does not have a unique solution, so this is just for profiling\n",
    "# Interrupt manually after it runs for about a minute\n",
    "%lprun -f attempt attempt(Puzzle(), {})"
   ]
  },
  {
   "cell_type": "code",
   "execution_count": 76,
   "metadata": {},
   "outputs": [
    {
     "name": "stdout",
     "output_type": "stream",
     "text": [
      " . - - - -\n",
      ". . | | | |\n",
      " . - - - -\n",
      ". . | | | |\n",
      " . - . - .\n",
      "| | . . . |\n",
      " . - . - .\n",
      "| | | | | .\n",
      " . - - - .\n",
      "\n",
      " - - - - -\n",
      "| | | | | |\n",
      " - - - - -\n",
      "| | | | | |\n",
      " - - - - -\n",
      "| | | | | |\n",
      " . - - - -\n",
      "| | | | | |\n",
      " . - - - -\n"
     ]
    }
   ],
   "source": [
    "# Puzzle 1 - Starter\n",
    "bad_puzzles = set()\n",
    "puzzle1_config = {\n",
    "  1: (pieces[1], 2, 0),\n",
    "  2: (pieces[2].rotated(), 1, 2),\n",
    "  3: (pieces[3].rotated().rotated(), 2, 1),\n",
    "  4: (pieces[4].rotated(), 0, 1),\n",
    "  6: (pieces[6].rotated(), 3, 2),\n",
    "  7: (pieces[7], 1, 4),\n",
    "  9: (pieces[9].rotated(), 0, 3),\n",
    "}\n",
    "puzzle1 = Puzzle()\n",
    "for starting_piece, v_offset, h_offset in puzzle1_config.values():\n",
    "  puzzle1 = puzzle1.with_piece(starting_piece, v_offset, h_offset)\n",
    "print(puzzle1)\n",
    "print()\n",
    "\n",
    "solution1 = attempt(puzzle1, puzzle1_config)\n",
    "assert solution1 is not None\n",
    "print(solution1[0])\n",
    "assert solution1[1][8] == (pieces[8], 0, 0)\n",
    "assert solution1[1][5] == (pieces[5], 2, 4)\n",
    "assert solution1[1][0] == (pieces[0], 2, 2)"
   ]
  },
  {
   "cell_type": "code",
   "execution_count": 77,
   "metadata": {},
   "outputs": [
    {
     "name": "stdout",
     "output_type": "stream",
     "text": [
      " - - - - -\n",
      "| | | | | |\n",
      " - - - - -\n",
      "| | | | | |\n",
      " - - - - -\n",
      "| | | | | |\n",
      " - - - . -\n",
      ". . . . . .\n",
      " . . . . .\n",
      "\n",
      " - - - - -\n",
      "| | | | | |\n",
      " - - - - -\n",
      "| | | | | |\n",
      " - - - - -\n",
      "| | | | | |\n",
      " - - - - -\n",
      ". . | | | |\n",
      " - - - - -\n"
     ]
    }
   ],
   "source": [
    "# Puzzle 2 - Starter\n",
    "bad_puzzles = set()\n",
    "puzzle2_config = {\n",
    "  8: (pieces[8], 0, 0),\n",
    "  4: (pieces[4].rotated(), 0, 1),\n",
    "  3: (pieces[3].rotated(), 0, 3),\n",
    "  9: (pieces[9].rotated().rotated().rotated(), 2, 0),\n",
    "  5: (pieces[5], 1, 2),\n",
    "  6: (pieces[6].rotated().rotated().rotated(), 1, 3),\n",
    "  0: (pieces[0], 2, 4),\n",
    "}\n",
    "puzzle2 = Puzzle()\n",
    "for starting_piece, v_offset, h_offset in puzzle2_config.values():\n",
    "  puzzle2 = puzzle2.with_piece(starting_piece, v_offset, h_offset)\n",
    "print(puzzle2)\n",
    "print()\n",
    "\n",
    "solution2 = attempt(puzzle2, puzzle2_config)\n",
    "assert solution2 is not None\n",
    "print(solution2[0])\n",
    "assert solution2[1][7] == (pieces[7].rotated().rotated().rotated(), 3, 0)\n",
    "assert solution2[1][1] == (pieces[1].rotated(), 4, 2)\n",
    "assert solution2[1][2] == (pieces[2].rotated(), 3, 3)"
   ]
  },
  {
   "cell_type": "code",
   "execution_count": 78,
   "metadata": {},
   "outputs": [
    {
     "name": "stdout",
     "output_type": "stream",
     "text": [
      " . . . . .\n",
      ". . . . . .\n",
      " . . . . .\n",
      ". . . . . .\n",
      " - - - . -\n",
      "| | | | | .\n",
      " - - - - -\n",
      "| | | | | |\n",
      " - - - - -\n",
      "\n"
     ]
    },
    {
     "name": "stdout",
     "output_type": "stream",
     "text": [
      " - - . - -\n",
      "| | | | | |\n",
      " - - - - -\n",
      "| . | | | |\n",
      " - - - - -\n",
      "| | | | | |\n",
      " - - - - -\n",
      "| | | | | |\n",
      " - - - - -\n"
     ]
    }
   ],
   "source": [
    "# Puzzle 10 - Starter\n",
    "bad_puzzles = set()\n",
    "puzzle10_config = {\n",
    "  6: (pieces[6], 2, 0),\n",
    "  9: (pieces[9].rotated(), 2, 1),\n",
    "  4: (pieces[4].rotated().rotated().rotated(), 3, 1),\n",
    "  0: (pieces[0], 3, 3),\n",
    "  5: (pieces[5], 2, 4),\n",
    "}\n",
    "puzzle10 = Puzzle()\n",
    "for starting_piece, v_offset, h_offset in puzzle10_config.values():\n",
    "  puzzle10 = puzzle10.with_piece(starting_piece, v_offset, h_offset)\n",
    "print(puzzle10)\n",
    "print()\n",
    "\n",
    "solution10 = attempt(puzzle10, puzzle10_config)\n",
    "assert solution10 is not None\n",
    "print(solution10[0])\n",
    "assert solution10[1][3] == (pieces[3].rotated(), 0, 0)\n",
    "assert solution10[1][8] == (pieces[8].rotated(), 0, 3)\n",
    "assert solution10[1][7] == (pieces[7].rotated(), 1, 0)\n",
    "assert solution10[1][2] == (pieces[2].rotated(), 1, 2)\n",
    "assert solution10[1][1] == (pieces[1], 1, 5)"
   ]
  },
  {
   "cell_type": "code",
   "execution_count": 79,
   "metadata": {},
   "outputs": [
    {
     "name": "stdout",
     "output_type": "stream",
     "text": [
      " . . . . -\n",
      ". . . | | |\n",
      " . . . - -\n",
      ". . . . . .\n",
      " - . - - .\n",
      ". | | | | .\n",
      " - . - - .\n",
      "| . . . . .\n",
      " - . . . .\n",
      "\n",
      " - - - - -\n",
      "| | | | | |\n",
      " - - - - -\n",
      "| | | | | |\n",
      " - - - - -\n",
      ". | | | | |\n",
      " - - - - -\n",
      "| | | | | |\n",
      " - - . - -\n"
     ]
    }
   ],
   "source": [
    "# Puzzle 16 - Starter\n",
    "bad_puzzles = set()\n",
    "puzzle16_config = {\n",
    "  2: (pieces[2], 2, 0),\n",
    "  8: (pieces[8].rotated(), 2, 2),\n",
    "  9: (pieces[9].rotated().rotated().rotated(), 0, 3),\n",
    "}\n",
    "puzzle16 = Puzzle()\n",
    "for starting_piece, v_offset, h_offset in puzzle16_config.values():\n",
    "  puzzle16 = puzzle16.with_piece(starting_piece, v_offset, h_offset)\n",
    "print(puzzle16)\n",
    "print()\n",
    "\n",
    "solution16 = attempt(puzzle16, puzzle16_config)\n",
    "assert solution16 is not None\n",
    "print(solution16[0])\n",
    "assert solution16[1][3] == (pieces[3].rotated(), 0, 0)\n",
    "assert solution16[1][1] == (pieces[1].rotated(), 0, 2)\n",
    "assert solution16[1][7] == (pieces[7].rotated(), 1, 0)\n",
    "assert solution16[1][5] == (pieces[5].rotated(), 1, 1)\n",
    "assert solution16[1][4] == (pieces[4], 1, 4)\n",
    "assert solution16[1][0] == (pieces[0], 3, 1)\n",
    "assert solution16[1][6] == (pieces[6].rotated(), 3, 3)"
   ]
  },
  {
   "cell_type": "code",
   "execution_count": 80,
   "metadata": {},
   "outputs": [
    {
     "name": "stdout",
     "output_type": "stream",
     "text": [
      " - . . - -\n",
      "| . . | | |\n",
      " - . . . .\n",
      "| | . . . .\n",
      " - . . . -\n",
      ". . . . | .\n",
      " - - . . -\n",
      ". | . . . |\n",
      " - . . . -\n",
      "\n",
      " - - . - -\n",
      "| | | | | |\n",
      " - - - - -\n",
      "| | | | | |\n",
      " - - - - -\n",
      "| | | | | |\n",
      " - - - - -\n",
      "| | | | | |\n",
      " - . - - -\n"
     ]
    }
   ],
   "source": [
    "# Puzzle 112 - Master\n",
    "bad_puzzles = set()\n",
    "puzzle112_config = {\n",
    "  6: (pieces[6], 0, 0),\n",
    "  3: (pieces[3].rotated(), 0, 3),\n",
    "  4: (pieces[4].rotated(), 3, 0),\n",
    "  5: (pieces[5], 2, 4)\n",
    "}\n",
    "puzzle112 = Puzzle()\n",
    "for starting_piece, v_offset, h_offset in puzzle112_config.values():\n",
    "  puzzle112 = puzzle112.with_piece(starting_piece, v_offset, h_offset)\n",
    "print(puzzle112)\n",
    "print()\n",
    "\n",
    "solution112 = attempt(puzzle112, puzzle112_config)\n",
    "assert solution112 is not None\n",
    "print(solution112[0])\n",
    "assert solution112[1][0] == (pieces[0], 0, 1)\n",
    "assert solution112[1][8] == (pieces[8].rotated(), 1, 2)\n",
    "assert solution112[1][1] == (pieces[1], 2, 0)\n",
    "assert solution112[1][2] == (pieces[2].rotated(), 2, 1)\n",
    "assert solution112[1][7] == (pieces[7], 1, 4)\n",
    "assert solution112[1][9] == (pieces[9].rotated().rotated().rotated(), 3, 2)"
   ]
  },
  {
   "cell_type": "code",
   "execution_count": 81,
   "metadata": {},
   "outputs": [
    {
     "name": "stdout",
     "output_type": "stream",
     "text": [
      " . . . . .\n",
      ". . . . . .\n",
      " . - . . .\n",
      "| | | . . .\n",
      " - - . . .\n",
      ". . . . . .\n",
      " . . . . .\n",
      ". . . . . .\n",
      " . . . . .\n",
      "\n"
     ]
    },
    {
     "ename": "KeyboardInterrupt",
     "evalue": "",
     "output_type": "error",
     "traceback": [
      "\u001b[1;31m---------------------------------------------------------------------------\u001b[0m",
      "\u001b[1;31mKeyboardInterrupt\u001b[0m                         Traceback (most recent call last)",
      "Cell \u001b[1;32mIn[81], line 8\u001b[0m\n\u001b[0;32m      5\u001b[0m \u001b[38;5;28mprint\u001b[39m(puzzle120)\n\u001b[0;32m      6\u001b[0m \u001b[38;5;28mprint\u001b[39m()\n\u001b[1;32m----> 8\u001b[0m solution120 \u001b[38;5;241m=\u001b[39m \u001b[43mattempt\u001b[49m\u001b[43m(\u001b[49m\u001b[43mpuzzle120\u001b[49m\u001b[43m,\u001b[49m\u001b[43m \u001b[49m\u001b[43m{\u001b[49m\u001b[38;5;241;43m9\u001b[39;49m\u001b[43m:\u001b[49m\u001b[43m \u001b[49m\u001b[43m(\u001b[49m\u001b[43mrot9\u001b[49m\u001b[43m,\u001b[49m\u001b[43m \u001b[49m\u001b[38;5;241;43m1\u001b[39;49m\u001b[43m,\u001b[49m\u001b[43m \u001b[49m\u001b[38;5;241;43m0\u001b[39;49m\u001b[43m)\u001b[49m\u001b[43m}\u001b[49m\u001b[43m)\u001b[49m\n\u001b[0;32m      9\u001b[0m \u001b[38;5;28;01massert\u001b[39;00m solution120 \u001b[38;5;129;01mis\u001b[39;00m \u001b[38;5;129;01mnot\u001b[39;00m \u001b[38;5;28;01mNone\u001b[39;00m\n\u001b[0;32m     10\u001b[0m \u001b[38;5;28mprint\u001b[39m(solution120[\u001b[38;5;241m0\u001b[39m])\n",
      "Cell \u001b[1;32mIn[74], line 31\u001b[0m, in \u001b[0;36mattempt\u001b[1;34m(puzzle, used_pieces)\u001b[0m\n\u001b[0;32m     29\u001b[0m candidate_used_pieces \u001b[38;5;241m=\u001b[39m used_pieces\u001b[38;5;241m.\u001b[39mcopy()\n\u001b[0;32m     30\u001b[0m candidate_used_pieces[i] \u001b[38;5;241m=\u001b[39m (rotation, v_offset, h_offset)\n\u001b[1;32m---> 31\u001b[0m result \u001b[38;5;241m=\u001b[39m \u001b[43mattempt\u001b[49m\u001b[43m(\u001b[49m\u001b[43mcandidate\u001b[49m\u001b[43m,\u001b[49m\u001b[43m \u001b[49m\u001b[43mcandidate_used_pieces\u001b[49m\u001b[43m)\u001b[49m\n\u001b[0;32m     32\u001b[0m \u001b[38;5;28;01mif\u001b[39;00m result \u001b[38;5;129;01mis\u001b[39;00m \u001b[38;5;129;01mnot\u001b[39;00m \u001b[38;5;28;01mNone\u001b[39;00m:\n\u001b[0;32m     33\u001b[0m   \u001b[38;5;28;01mreturn\u001b[39;00m result\n",
      "Cell \u001b[1;32mIn[74], line 31\u001b[0m, in \u001b[0;36mattempt\u001b[1;34m(puzzle, used_pieces)\u001b[0m\n\u001b[0;32m     29\u001b[0m candidate_used_pieces \u001b[38;5;241m=\u001b[39m used_pieces\u001b[38;5;241m.\u001b[39mcopy()\n\u001b[0;32m     30\u001b[0m candidate_used_pieces[i] \u001b[38;5;241m=\u001b[39m (rotation, v_offset, h_offset)\n\u001b[1;32m---> 31\u001b[0m result \u001b[38;5;241m=\u001b[39m \u001b[43mattempt\u001b[49m\u001b[43m(\u001b[49m\u001b[43mcandidate\u001b[49m\u001b[43m,\u001b[49m\u001b[43m \u001b[49m\u001b[43mcandidate_used_pieces\u001b[49m\u001b[43m)\u001b[49m\n\u001b[0;32m     32\u001b[0m \u001b[38;5;28;01mif\u001b[39;00m result \u001b[38;5;129;01mis\u001b[39;00m \u001b[38;5;129;01mnot\u001b[39;00m \u001b[38;5;28;01mNone\u001b[39;00m:\n\u001b[0;32m     33\u001b[0m   \u001b[38;5;28;01mreturn\u001b[39;00m result\n",
      "    \u001b[1;31m[... skipping similar frames: attempt at line 31 (3 times)]\u001b[0m\n",
      "Cell \u001b[1;32mIn[74], line 31\u001b[0m, in \u001b[0;36mattempt\u001b[1;34m(puzzle, used_pieces)\u001b[0m\n\u001b[0;32m     29\u001b[0m candidate_used_pieces \u001b[38;5;241m=\u001b[39m used_pieces\u001b[38;5;241m.\u001b[39mcopy()\n\u001b[0;32m     30\u001b[0m candidate_used_pieces[i] \u001b[38;5;241m=\u001b[39m (rotation, v_offset, h_offset)\n\u001b[1;32m---> 31\u001b[0m result \u001b[38;5;241m=\u001b[39m \u001b[43mattempt\u001b[49m\u001b[43m(\u001b[49m\u001b[43mcandidate\u001b[49m\u001b[43m,\u001b[49m\u001b[43m \u001b[49m\u001b[43mcandidate_used_pieces\u001b[49m\u001b[43m)\u001b[49m\n\u001b[0;32m     32\u001b[0m \u001b[38;5;28;01mif\u001b[39;00m result \u001b[38;5;129;01mis\u001b[39;00m \u001b[38;5;129;01mnot\u001b[39;00m \u001b[38;5;28;01mNone\u001b[39;00m:\n\u001b[0;32m     33\u001b[0m   \u001b[38;5;28;01mreturn\u001b[39;00m result\n",
      "Cell \u001b[1;32mIn[74], line 23\u001b[0m, in \u001b[0;36mattempt\u001b[1;34m(puzzle, used_pieces)\u001b[0m\n\u001b[0;32m     21\u001b[0m \u001b[38;5;28;01mfor\u001b[39;00m v_offset \u001b[38;5;129;01min\u001b[39;00m \u001b[38;5;28mrange\u001b[39m(\u001b[38;5;241m0\u001b[39m, \u001b[38;5;28mmax\u001b[39m(puzzle\u001b[38;5;241m.\u001b[39mH_HEIGHT, puzzle\u001b[38;5;241m.\u001b[39mV_HEIGHT)):\n\u001b[0;32m     22\u001b[0m   \u001b[38;5;28;01mfor\u001b[39;00m h_offset \u001b[38;5;129;01min\u001b[39;00m \u001b[38;5;28mrange\u001b[39m(\u001b[38;5;241m0\u001b[39m, \u001b[38;5;28mmax\u001b[39m(puzzle\u001b[38;5;241m.\u001b[39mH_WIDTH, puzzle\u001b[38;5;241m.\u001b[39mV_WIDTH)):\n\u001b[1;32m---> 23\u001b[0m     candidate \u001b[38;5;241m=\u001b[39m \u001b[43mpuzzle\u001b[49m\u001b[38;5;241;43m.\u001b[39;49m\u001b[43mwith_piece\u001b[49m\u001b[43m(\u001b[49m\u001b[43mrotation\u001b[49m\u001b[43m,\u001b[49m\u001b[43m \u001b[49m\u001b[43mv_offset\u001b[49m\u001b[43m,\u001b[49m\u001b[43m \u001b[49m\u001b[43mh_offset\u001b[49m\u001b[43m)\u001b[49m\n\u001b[0;32m     25\u001b[0m     \u001b[38;5;28;01mif\u001b[39;00m candidate \u001b[38;5;129;01mis\u001b[39;00m \u001b[38;5;129;01mnot\u001b[39;00m \u001b[38;5;28;01mNone\u001b[39;00m:\n\u001b[0;32m     26\u001b[0m       \u001b[38;5;28;01mif\u001b[39;00m candidate \u001b[38;5;129;01min\u001b[39;00m bad_puzzles:\n",
      "Cell \u001b[1;32mIn[56], line 54\u001b[0m, in \u001b[0;36mPuzzle.with_piece\u001b[1;34m(self, piece, v_offset, h_offset)\u001b[0m\n\u001b[0;32m     51\u001b[0m \u001b[38;5;28;01mif\u001b[39;00m piece\u001b[38;5;241m.\u001b[39mv_edges\u001b[38;5;241m.\u001b[39msize:\n\u001b[0;32m     52\u001b[0m   mask_v_edges[:,h_offset:h_offset\u001b[38;5;241m+\u001b[39mpiece\u001b[38;5;241m.\u001b[39mv_edges\u001b[38;5;241m.\u001b[39mshape[\u001b[38;5;241m1\u001b[39m]] \u001b[38;5;241m=\u001b[39m piece\u001b[38;5;241m.\u001b[39mv_edges \u001b[38;5;241m>>\u001b[39m v_offset\n\u001b[1;32m---> 54\u001b[0m \u001b[38;5;28;01mif\u001b[39;00m np\u001b[38;5;241m.\u001b[39many(\u001b[43mnp\u001b[49m\u001b[38;5;241;43m.\u001b[39;49m\u001b[43mbitwise_and\u001b[49m\u001b[43m(\u001b[49m\u001b[38;5;28;43mself\u001b[39;49m\u001b[38;5;241;43m.\u001b[39;49m\u001b[43mh_edges\u001b[49m\u001b[43m,\u001b[49m\u001b[43m \u001b[49m\u001b[43mmask_h_edges\u001b[49m\u001b[43m)\u001b[49m):\n\u001b[0;32m     55\u001b[0m   \u001b[38;5;28;01mreturn\u001b[39;00m \u001b[38;5;28;01mNone\u001b[39;00m\n\u001b[0;32m     56\u001b[0m \u001b[38;5;28;01mif\u001b[39;00m np\u001b[38;5;241m.\u001b[39many(np\u001b[38;5;241m.\u001b[39mbitwise_and(\u001b[38;5;28mself\u001b[39m\u001b[38;5;241m.\u001b[39mv_edges, mask_v_edges)):\n",
      "\u001b[1;31mKeyboardInterrupt\u001b[0m: "
     ]
    }
   ],
   "source": [
    "# Puzzle 120 - Master\n",
    "bad_puzzles = set()\n",
    "rot9 = pieces[9].rotated().rotated().rotated()\n",
    "puzzle120 = Puzzle().with_piece(rot9, 1, 0)\n",
    "print(puzzle120)\n",
    "print()\n",
    "\n",
    "solution120 = attempt(puzzle120, {9: (rot9, 1, 0)})\n",
    "assert solution120 is not None\n",
    "print(solution120[0])\n",
    "# total bad solutions = 11115514"
   ]
  },
  {
   "cell_type": "code",
   "execution_count": 82,
   "metadata": {},
   "outputs": [
    {
     "data": {
      "text/plain": [
       "3214"
      ]
     },
     "execution_count": 82,
     "metadata": {},
     "output_type": "execute_result"
    }
   ],
   "source": [
    "len(bad_puzzles)"
   ]
  },
  {
   "cell_type": "code",
   "execution_count": 83,
   "metadata": {},
   "outputs": [
    {
     "data": {
      "text/plain": [
       " - - . - .\n",
       "| | | | | .\n",
       " - - . - .\n",
       "| | | | | .\n",
       " - - - - -\n",
       ". . | . . |\n",
       " - . - . -\n",
       "| | . | | |\n",
       " - . - - -"
      ]
     },
     "execution_count": 83,
     "metadata": {},
     "output_type": "execute_result"
    }
   ],
   "source": [
    "next(iter(bad_puzzles))"
   ]
  }
 ],
 "metadata": {
  "kernelspec": {
   "display_name": "inf1b-ptas",
   "language": "python",
   "name": "python3"
  },
  "language_info": {
   "codemirror_mode": {
    "name": "ipython",
    "version": 3
   },
   "file_extension": ".py",
   "mimetype": "text/x-python",
   "name": "python",
   "nbconvert_exporter": "python",
   "pygments_lexer": "ipython3",
   "version": "3.11.3"
  }
 },
 "nbformat": 4,
 "nbformat_minor": 2
}
