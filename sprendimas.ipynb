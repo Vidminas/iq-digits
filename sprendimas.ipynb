{
 "cells": [
  {
   "cell_type": "code",
   "execution_count": 19,
   "metadata": {},
   "outputs": [],
   "source": [
    "import numpy as np\n",
    "from dataclasses import dataclass\n",
    "from functools import cache\n",
    "\n",
    "@dataclass\n",
    "class Piece():\n",
    "  rows: tuple[tuple[bool]]\n",
    "  columns: tuple[tuple[bool]]\n",
    "\n",
    "  def __repr__(self):\n",
    "    top = \" \" + \" \".join('-' if row else ' ' for row in self.rows[0])\n",
    "    first = \" \".join('|' if col else ' ' for col in self.columns[0])\n",
    "    middle = \" \" + \" \".join('-' if row else ' ' for row in self.rows[1])\n",
    "    second = \" \".join('|' if col else ' ' for col in self.columns[1])\n",
    "    bottom = \" \" + \" \".join('-' if row else ' ' for row in self.rows[2])\n",
    "    return \"\\n\".join((top, first, middle, second, bottom))\n",
    "  \n",
    "  def __hash__(self):\n",
    "      return hash((self.rows, self.columns))\n",
    "\n",
    "  def __eq__(self, other):\n",
    "      if isinstance(other, Piece):\n",
    "          return self.rows == other.rows and self.columns == other.columns\n",
    "      return NotImplemented\n",
    "    \n",
    "  def rotated(self):\n",
    "    rows = np.rot90(self.columns, 1)\n",
    "    columns = np.rot90(self.rows, 1)\n",
    "\n",
    "    while all(not x for x in rows[0]) and all(not y for y in columns[0]):\n",
    "      # top row is empty, so we can shift digit up\n",
    "      rows = np.roll(rows, -1, 0)\n",
    "      columns = np.roll(columns, -1, 0)\n",
    "\n",
    "    return Piece(rows=tuple(map(tuple, rows)), columns=tuple(map(tuple, columns)))\n",
    "  \n",
    "  @cache\n",
    "  def rotations(self):\n",
    "    a = self.rotated()\n",
    "    b = a.rotated()\n",
    "    c = b.rotated()\n",
    "    d = c.rotated()\n",
    "    return set((a, b, c, d))\n",
    "\n",
    "pieces = [\n",
    "  Piece(rows=((True, False), (True, False), (False, False)), columns=((True, True, False), (False, False, False))),\n",
    "  Piece(rows=((False, False), (False, False), (False, False)), columns=((True, False, False), (True, False, False))),\n",
    "  Piece(rows=((True, False), (True, False), (True, False)), columns=((False, True, False), (True, False, False))),\n",
    "  Piece(rows=((True, False), (True, False), (True, False)), columns=((False, True, False), (False, True, False))),\n",
    "  Piece(rows=((False, False), (True, False), (False, False)), columns=((True, True, False), (False, True, False))),\n",
    "  Piece(rows=((True, False), (True, False), (True, False)), columns=((True, False, False), (False, True, False))),\n",
    "  Piece(rows=((True, False), (True, False), (True, False)), columns=((True, False, False), (True, True, False))),\n",
    "  Piece(rows=((True, False), (False, False), (False, False)), columns=((False, True, False), (False, True, False))),\n",
    "  Piece(rows=((True, False), (True, False), (True, False)), columns=((True, True, False), (True, True, False))),\n",
    "  Piece(rows=((True, False), (True, False), (True, False)), columns=((True, True, False), (False, True, False))),\n",
    "]"
   ]
  },
  {
   "cell_type": "code",
   "execution_count": 20,
   "metadata": {},
   "outputs": [
    {
     "data": {
      "text/plain": [
       "{   -\n",
       " | | |\n",
       "  - -\n",
       "      \n",
       "     ,\n",
       "  -  \n",
       " |    \n",
       "  -  \n",
       " | |  \n",
       "  -  ,\n",
       "  -  \n",
       " | |  \n",
       "  -  \n",
       "   |  \n",
       "  -  ,\n",
       "  - -\n",
       " | | |\n",
       "  -  \n",
       "      \n",
       "     }"
      ]
     },
     "execution_count": 20,
     "metadata": {},
     "output_type": "execute_result"
    }
   ],
   "source": [
    "pieces[9].rotations()"
   ]
  },
  {
   "cell_type": "code",
   "execution_count": 21,
   "metadata": {},
   "outputs": [
    {
     "data": {
      "text/plain": [
       "{    \n",
       " |    \n",
       "     \n",
       " |    \n",
       "     ,\n",
       "  - -\n",
       "      \n",
       "     \n",
       "      \n",
       "     }"
      ]
     },
     "execution_count": 21,
     "metadata": {},
     "output_type": "execute_result"
    }
   ],
   "source": [
    "pieces[1].rotations()"
   ]
  },
  {
   "cell_type": "code",
   "execution_count": 22,
   "metadata": {},
   "outputs": [],
   "source": [
    "from marshal import loads, dumps\n",
    "\n",
    "class Puzzle():\n",
    "  rows: list[list[bool]]\n",
    "  cols: list[list[bool]]\n",
    "\n",
    "  def __init__(\n",
    "      self,\n",
    "      rows=[[False for _ in range(5)] for _ in range(5)],\n",
    "      cols=[[False for _ in range(6)] for _ in range(4)],\n",
    "    ):\n",
    "    self.rows = rows\n",
    "    self.cols = cols\n",
    "\n",
    "  def __repr__(self):\n",
    "    text = \"\"\n",
    "    for (row, col) in zip(self.rows, self.cols):\n",
    "      text += \" \"\n",
    "      text += \" \".join('-' if row_piece else '.' for row_piece in row)\n",
    "      text += \"\\n\"\n",
    "      text += \" \".join('|' if col_piece else '.' for col_piece in col)\n",
    "      text += \"\\n\"\n",
    "    text += \" \"\n",
    "    text += \" \".join('-' if row_piece else '.' for row_piece in self.rows[-1])\n",
    "    return text\n",
    "\n",
    "  def __hash__(self):\n",
    "      return hash((tuple(map(tuple, self.rows)), tuple(map(tuple, self.cols))))\n",
    "\n",
    "  def __eq__(self, other):\n",
    "      if isinstance(other, Puzzle):\n",
    "          return self.rows == other.rows and self.cols == other.cols\n",
    "      return NotImplemented\n",
    "  \n",
    "  @cache\n",
    "  def with_piece(self, piece: Piece, toprow: int, topcol: int) -> \"Puzzle\":\n",
    "    clone = Puzzle(loads(dumps(self.rows)), loads(dumps(self.cols)) )\n",
    "\n",
    "    for row in range(len(piece.rows)):\n",
    "      for col in range(len(piece.rows[row])):\n",
    "        # order matters\n",
    "        if piece.rows[row][col]:\n",
    "          if (toprow+row >= len(clone.rows) or topcol+col >= len(clone.rows[toprow+row])):\n",
    "            return None\n",
    "          if clone.rows[toprow+row][topcol+col]:\n",
    "            return None\n",
    "          clone.rows[toprow+row][topcol+col] = True\n",
    "\n",
    "    for row in range(len(piece.columns)):\n",
    "      for col in range(len(piece.columns[row])):\n",
    "        # order matters\n",
    "        if piece.columns[row][col]:\n",
    "          if (toprow+row >= len(clone.cols) or topcol+col >= len(clone.cols[toprow+row])):\n",
    "            return None\n",
    "          if clone.cols[toprow+row][topcol+col]:\n",
    "            return None\n",
    "          clone.cols[toprow+row][topcol+col] = True\n",
    "\n",
    "    return clone\n",
    "  \n",
    "  def spaces_left(self):\n",
    "    return np.size(self.cols) - np.count_nonzero(self.cols) + np.size(self.rows) - np.count_nonzero(self.rows)\n",
    "\n",
    "puzzle = Puzzle()"
   ]
  },
  {
   "cell_type": "code",
   "execution_count": 23,
   "metadata": {},
   "outputs": [
    {
     "name": "stdout",
     "output_type": "stream",
     "text": [
      "6.13 µs ± 1.85 µs per loop (mean ± std. dev. of 7 runs, 100,000 loops each)\n"
     ]
    }
   ],
   "source": [
    "%timeit Puzzle().with_piece(pieces[7], 3, 4)"
   ]
  },
  {
   "cell_type": "code",
   "execution_count": 24,
   "metadata": {},
   "outputs": [
    {
     "data": {
      "text/plain": [
       " . . . . .\n",
       ". . . . . .\n",
       " . . . . .\n",
       ". . . . . .\n",
       " . . . . .\n",
       ". . . . . .\n",
       " . . . . .\n",
       ". . . . . .\n",
       " . . . . ."
      ]
     },
     "execution_count": 24,
     "metadata": {},
     "output_type": "execute_result"
    }
   ],
   "source": [
    "Puzzle()"
   ]
  },
  {
   "cell_type": "code",
   "execution_count": 25,
   "metadata": {},
   "outputs": [
    {
     "data": {
      "text/plain": [
       "49"
      ]
     },
     "execution_count": 25,
     "metadata": {},
     "output_type": "execute_result"
    }
   ],
   "source": [
    "puzzle.spaces_left()"
   ]
  },
  {
   "cell_type": "code",
   "execution_count": 26,
   "metadata": {},
   "outputs": [
    {
     "data": {
      "text/plain": [
       " . . . . .\n",
       ". . . . . .\n",
       " . . . - .\n",
       ". . . | | .\n",
       " . . . - .\n",
       ". . . . . .\n",
       " . . . . .\n",
       ". . . . . .\n",
       " . . . . ."
      ]
     },
     "execution_count": 26,
     "metadata": {},
     "output_type": "execute_result"
    }
   ],
   "source": [
    "puzzle.with_piece(pieces[0], 1, 3)"
   ]
  },
  {
   "cell_type": "code",
   "execution_count": 27,
   "metadata": {},
   "outputs": [
    {
     "data": {
      "text/plain": [
       " - - . . .\n",
       "| . . . . .\n",
       " . . . . .\n",
       ". . . . . .\n",
       " . . . . .\n",
       ". . . . . .\n",
       " . . . . .\n",
       ". . . . . .\n",
       " . . . . ."
      ]
     },
     "execution_count": 27,
     "metadata": {},
     "output_type": "execute_result"
    }
   ],
   "source": [
    "puzzle.with_piece(pieces[7].rotated(), 0, 0)"
   ]
  },
  {
   "cell_type": "code",
   "execution_count": 28,
   "metadata": {},
   "outputs": [
    {
     "data": {
      "text/plain": [
       " - - - . .\n",
       ". | | . . .\n",
       " - - . . .\n",
       ". | . . . .\n",
       " - . . . .\n",
       ". . . . . .\n",
       " . . . . .\n",
       ". . . . . .\n",
       " . . . . ."
      ]
     },
     "execution_count": 28,
     "metadata": {},
     "output_type": "execute_result"
    }
   ],
   "source": [
    "puzzle.with_piece(pieces[3], 0, 0).with_piece(pieces[4].rotated(), 0, 1)"
   ]
  },
  {
   "cell_type": "code",
   "execution_count": 29,
   "metadata": {},
   "outputs": [
    {
     "data": {
      "text/plain": [
       " . . . . .\n",
       ". . . . . .\n",
       " . - . . .\n",
       "| | | . . .\n",
       " - - . . .\n",
       ". . . . . .\n",
       " . . . . .\n",
       ". . . . . .\n",
       " . . . . ."
      ]
     },
     "execution_count": 29,
     "metadata": {},
     "output_type": "execute_result"
    }
   ],
   "source": [
    "Puzzle().with_piece(pieces[9].rotated().rotated().rotated(), 1, 0)"
   ]
  },
  {
   "cell_type": "code",
   "execution_count": 30,
   "metadata": {},
   "outputs": [
    {
     "ename": "MemoryError",
     "evalue": "",
     "output_type": "error",
     "traceback": [
      "\u001b[1;31m---------------------------------------------------------------------------\u001b[0m",
      "\u001b[1;31mMemoryError\u001b[0m                               Traceback (most recent call last)",
      "Cell \u001b[1;32mIn[30], line 44\u001b[0m\n\u001b[0;32m     42\u001b[0m rot9 \u001b[38;5;241m=\u001b[39m pieces[\u001b[38;5;241m9\u001b[39m]\u001b[38;5;241m.\u001b[39mrotated()\u001b[38;5;241m.\u001b[39mrotated()\u001b[38;5;241m.\u001b[39mrotated()\n\u001b[0;32m     43\u001b[0m puzzle \u001b[38;5;241m=\u001b[39m Puzzle()\u001b[38;5;241m.\u001b[39mwith_piece(rot9, \u001b[38;5;241m1\u001b[39m, \u001b[38;5;241m0\u001b[39m)\n\u001b[1;32m---> 44\u001b[0m attempted \u001b[38;5;241m=\u001b[39m \u001b[43mattempt\u001b[49m\u001b[43m(\u001b[49m\u001b[43mpuzzle\u001b[49m\u001b[43m,\u001b[49m\u001b[43m \u001b[49m\u001b[43m[\u001b[49m\u001b[43m(\u001b[49m\u001b[38;5;241;43m9\u001b[39;49m\u001b[43m,\u001b[49m\u001b[43m \u001b[49m\u001b[43mrot9\u001b[49m\u001b[43m,\u001b[49m\u001b[43m \u001b[49m\u001b[38;5;241;43m1\u001b[39;49m\u001b[43m,\u001b[49m\u001b[43m \u001b[49m\u001b[38;5;241;43m0\u001b[39;49m\u001b[43m)\u001b[49m\u001b[43m]\u001b[49m\u001b[43m)\u001b[49m\n\u001b[0;32m     45\u001b[0m attempted\n",
      "Cell \u001b[1;32mIn[30], line 30\u001b[0m, in \u001b[0;36mattempt\u001b[1;34m(puzzle, used_pieces)\u001b[0m\n\u001b[0;32m     27\u001b[0m           candidates\u001b[38;5;241m.\u001b[39mappend((candidate, candidate_used_pieces))\n\u001b[0;32m     29\u001b[0m \u001b[38;5;28;01mfor\u001b[39;00m candidate, candidate_used_pieces \u001b[38;5;129;01min\u001b[39;00m candidates:\n\u001b[1;32m---> 30\u001b[0m   result \u001b[38;5;241m=\u001b[39m \u001b[43mattempt\u001b[49m\u001b[43m(\u001b[49m\u001b[43mcandidate\u001b[49m\u001b[43m,\u001b[49m\u001b[43m \u001b[49m\u001b[43mcandidate_used_pieces\u001b[49m\u001b[43m)\u001b[49m\n\u001b[0;32m     31\u001b[0m   \u001b[38;5;28;01mif\u001b[39;00m result \u001b[38;5;129;01mis\u001b[39;00m \u001b[38;5;129;01mnot\u001b[39;00m \u001b[38;5;28;01mNone\u001b[39;00m:\n\u001b[0;32m     32\u001b[0m     \u001b[38;5;28;01mreturn\u001b[39;00m result\n",
      "Cell \u001b[1;32mIn[30], line 30\u001b[0m, in \u001b[0;36mattempt\u001b[1;34m(puzzle, used_pieces)\u001b[0m\n\u001b[0;32m     27\u001b[0m           candidates\u001b[38;5;241m.\u001b[39mappend((candidate, candidate_used_pieces))\n\u001b[0;32m     29\u001b[0m \u001b[38;5;28;01mfor\u001b[39;00m candidate, candidate_used_pieces \u001b[38;5;129;01min\u001b[39;00m candidates:\n\u001b[1;32m---> 30\u001b[0m   result \u001b[38;5;241m=\u001b[39m \u001b[43mattempt\u001b[49m\u001b[43m(\u001b[49m\u001b[43mcandidate\u001b[49m\u001b[43m,\u001b[49m\u001b[43m \u001b[49m\u001b[43mcandidate_used_pieces\u001b[49m\u001b[43m)\u001b[49m\n\u001b[0;32m     31\u001b[0m   \u001b[38;5;28;01mif\u001b[39;00m result \u001b[38;5;129;01mis\u001b[39;00m \u001b[38;5;129;01mnot\u001b[39;00m \u001b[38;5;28;01mNone\u001b[39;00m:\n\u001b[0;32m     32\u001b[0m     \u001b[38;5;28;01mreturn\u001b[39;00m result\n",
      "    \u001b[1;31m[... skipping similar frames: attempt at line 30 (3 times)]\u001b[0m\n",
      "Cell \u001b[1;32mIn[30], line 30\u001b[0m, in \u001b[0;36mattempt\u001b[1;34m(puzzle, used_pieces)\u001b[0m\n\u001b[0;32m     27\u001b[0m           candidates\u001b[38;5;241m.\u001b[39mappend((candidate, candidate_used_pieces))\n\u001b[0;32m     29\u001b[0m \u001b[38;5;28;01mfor\u001b[39;00m candidate, candidate_used_pieces \u001b[38;5;129;01min\u001b[39;00m candidates:\n\u001b[1;32m---> 30\u001b[0m   result \u001b[38;5;241m=\u001b[39m \u001b[43mattempt\u001b[49m\u001b[43m(\u001b[49m\u001b[43mcandidate\u001b[49m\u001b[43m,\u001b[49m\u001b[43m \u001b[49m\u001b[43mcandidate_used_pieces\u001b[49m\u001b[43m)\u001b[49m\n\u001b[0;32m     31\u001b[0m   \u001b[38;5;28;01mif\u001b[39;00m result \u001b[38;5;129;01mis\u001b[39;00m \u001b[38;5;129;01mnot\u001b[39;00m \u001b[38;5;28;01mNone\u001b[39;00m:\n\u001b[0;32m     32\u001b[0m     \u001b[38;5;28;01mreturn\u001b[39;00m result\n",
      "Cell \u001b[1;32mIn[30], line 19\u001b[0m, in \u001b[0;36mattempt\u001b[1;34m(puzzle, used_pieces)\u001b[0m\n\u001b[0;32m     17\u001b[0m \u001b[38;5;28;01mfor\u001b[39;00m row \u001b[38;5;129;01min\u001b[39;00m \u001b[38;5;28mrange\u001b[39m(\u001b[38;5;241m0\u001b[39m, \u001b[38;5;28mlen\u001b[39m(puzzle\u001b[38;5;241m.\u001b[39mrows)):\n\u001b[0;32m     18\u001b[0m   \u001b[38;5;28;01mfor\u001b[39;00m col \u001b[38;5;129;01min\u001b[39;00m \u001b[38;5;28mrange\u001b[39m(\u001b[38;5;241m0\u001b[39m, \u001b[38;5;28mlen\u001b[39m(puzzle\u001b[38;5;241m.\u001b[39mcols)):          \n\u001b[1;32m---> 19\u001b[0m     candidate \u001b[38;5;241m=\u001b[39m \u001b[43mpuzzle\u001b[49m\u001b[38;5;241;43m.\u001b[39;49m\u001b[43mwith_piece\u001b[49m\u001b[43m(\u001b[49m\u001b[43mrotation\u001b[49m\u001b[43m,\u001b[49m\u001b[43m \u001b[49m\u001b[43mrow\u001b[49m\u001b[43m,\u001b[49m\u001b[43m \u001b[49m\u001b[43mcol\u001b[49m\u001b[43m)\u001b[49m\n\u001b[0;32m     21\u001b[0m     \u001b[38;5;28;01mif\u001b[39;00m candidate \u001b[38;5;129;01mis\u001b[39;00m \u001b[38;5;129;01mnot\u001b[39;00m \u001b[38;5;28;01mNone\u001b[39;00m:\n\u001b[0;32m     22\u001b[0m       \u001b[38;5;28;01mif\u001b[39;00m candidate \u001b[38;5;129;01min\u001b[39;00m bad_puzzles:\n",
      "\u001b[1;31mMemoryError\u001b[0m: "
     ]
    }
   ],
   "source": [
    "from copy import copy\n",
    "\n",
    "bad_puzzles = set()\n",
    "\n",
    "def attempt(puzzle: Puzzle, used_pieces: tuple):\n",
    "  if puzzle in bad_puzzles:\n",
    "    return None\n",
    "  if puzzle.spaces_left() == 2:\n",
    "    return puzzle, used_pieces\n",
    "  \n",
    "  candidates = []\n",
    "  for i in range(len(pieces)):\n",
    "    if i in [j for (j, _, _, _) in used_pieces]:\n",
    "      continue\n",
    "\n",
    "    for rotation in pieces[i].rotations():\n",
    "      for row in range(0, len(puzzle.rows)):\n",
    "        for col in range(0, len(puzzle.cols)):          \n",
    "          candidate = puzzle.with_piece(rotation, row, col)\n",
    "      \n",
    "          if candidate is not None:\n",
    "            if candidate in bad_puzzles:\n",
    "              continue\n",
    "\n",
    "            candidate_used_pieces = copy(used_pieces)\n",
    "            candidate_used_pieces.append((i, rotation, row, col))\n",
    "            candidates.append((candidate, candidate_used_pieces))\n",
    "    \n",
    "  for candidate, candidate_used_pieces in candidates:\n",
    "    result = attempt(candidate, candidate_used_pieces)\n",
    "    if result is not None:\n",
    "      return result\n",
    "\n",
    "  bad_puzzles.add(puzzle)\n",
    "  return None\n",
    "\n",
    "# pick a puzzle piece\n",
    "# choose rotation\n",
    "# find top-left free corner\n",
    "# put piece if it fits\n",
    "# check for solved\n",
    "rot9 = pieces[9].rotated().rotated().rotated()\n",
    "puzzle = Puzzle().with_piece(rot9, 1, 0)\n",
    "attempted = attempt(puzzle, [(9, rot9, 1, 0)])\n",
    "attempted"
   ]
  },
  {
   "cell_type": "code",
   "execution_count": null,
   "metadata": {},
   "outputs": [
    {
     "data": {
      "text/plain": [
       "197162"
      ]
     },
     "execution_count": 82,
     "metadata": {},
     "output_type": "execute_result"
    }
   ],
   "source": [
    "len(bad_puzzles)"
   ]
  },
  {
   "cell_type": "code",
   "execution_count": null,
   "metadata": {},
   "outputs": [
    {
     "data": {
      "text/plain": [
       " - - . - .\n",
       ". | | | | .\n",
       " - - - - .\n",
       "| | | . . .\n",
       " - - - . .\n",
       "| . | | | .\n",
       " . - - - .\n",
       "| | . . . .\n",
       " . . . . ."
      ]
     },
     "execution_count": 80,
     "metadata": {},
     "output_type": "execute_result"
    }
   ],
   "source": [
    "next(iter(bad_puzzles))"
   ]
  }
 ],
 "metadata": {
  "kernelspec": {
   "display_name": "inf1b-ptas",
   "language": "python",
   "name": "python3"
  },
  "language_info": {
   "codemirror_mode": {
    "name": "ipython",
    "version": 3
   },
   "file_extension": ".py",
   "mimetype": "text/x-python",
   "name": "python",
   "nbconvert_exporter": "python",
   "pygments_lexer": "ipython3",
   "version": "3.11.3"
  }
 },
 "nbformat": 4,
 "nbformat_minor": 2
}
