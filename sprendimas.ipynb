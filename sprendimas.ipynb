{
 "cells": [
  {
   "cell_type": "code",
   "execution_count": null,
   "metadata": {},
   "outputs": [],
   "source": [
    "import numpy as np\n",
    "from dataclasses import dataclass\n",
    "from functools import cache\n",
    "\n",
    "@dataclass\n",
    "class Piece():\n",
    "  rows: np.ndarray[np.int8, np.int8]\n",
    "  columns: np.ndarray[np.int8, np.int8]\n",
    "\n",
    "  def __repr__(self):\n",
    "    top = \" \" + \" \".join('-' if row else ' ' for row in self.rows[0])\n",
    "    first = \" \".join('|' if col else ' ' for col in self.columns[0])\n",
    "    middle = \" \" + \" \".join('-' if row else ' ' for row in self.rows[1])\n",
    "    second = \" \".join('|' if col else ' ' for col in self.columns[1])\n",
    "    bottom = \" \" + \" \".join('-' if row else ' ' for row in self.rows[2])\n",
    "    return \"\\n\".join((top, first, middle, second, bottom))\n",
    "  \n",
    "  def __hash__(self):\n",
    "     return hash((str(self.rows), str(self.columns)))\n",
    "\n",
    "  def __eq__(self, other):\n",
    "      if isinstance(other, Piece):\n",
    "          return (self.rows == other.rows).all() and (self.columns == other.columns).all()\n",
    "      return NotImplemented\n",
    "    \n",
    "  def rotated(self):\n",
    "    rows = np.rot90(self.columns, 1)\n",
    "    columns = np.rot90(self.rows, 1)\n",
    "\n",
    "    while all(not x for x in rows[0]) and all(not y for y in columns[0]):\n",
    "      # top row is empty, so we can shift digit up\n",
    "      rows = np.roll(rows, -1, 0)\n",
    "      columns = np.roll(columns, -1, 0)\n",
    "\n",
    "    return Piece(rows, columns)\n",
    "  \n",
    "  @cache\n",
    "  def rotations(self):\n",
    "    a = self.rotated()\n",
    "    b = a.rotated()\n",
    "    c = b.rotated()\n",
    "    d = c.rotated()\n",
    "    return set((a, b, c, d))\n",
    "\n",
    "pieces = [\n",
    "  Piece(rows=np.array(((True, False), (True, False), (False, False)), dtype=np.int8), columns=np.array(((True, True, False), (False, False, False)), dtype=np.int8)),\n",
    "  Piece(rows=np.array(((False, False), (False, False), (False, False)), dtype=np.int8), columns=np.array(((True, False, False), (True, False, False)), dtype=np.int8)),\n",
    "  Piece(rows=np.array(((True, False), (True, False), (True, False)), dtype=np.int8), columns=np.array(((False, True, False), (True, False, False)), dtype=np.int8)),\n",
    "  Piece(rows=np.array(((True, False), (True, False), (True, False)), dtype=np.int8), columns=np.array(((False, True, False), (False, True, False)), dtype=np.int8)),\n",
    "  Piece(rows=np.array(((False, False), (True, False), (False, False)), dtype=np.int8), columns=np.array(((True, True, False), (False, True, False)), dtype=np.int8)),\n",
    "  Piece(rows=np.array(((True, False), (True, False), (True, False)), dtype=np.int8), columns=np.array(((True, False, False), (False, True, False)), dtype=np.int8)),\n",
    "  Piece(rows=np.array(((True, False), (True, False), (True, False)), dtype=np.int8), columns=np.array(((True, False, False), (True, True, False)), dtype=np.int8)),\n",
    "  Piece(rows=np.array(((True, False), (False, False), (False, False)), dtype=np.int8), columns=np.array(((False, True, False), (False, True, False)), dtype=np.int8)),\n",
    "  Piece(rows=np.array(((True, False), (True, False), (True, False)), dtype=np.int8), columns=np.array(((True, True, False), (True, True, False)), dtype=np.int8)),\n",
    "  Piece(rows=np.array(((True, False), (True, False), (True, False)), dtype=np.int8), columns=np.array(((True, True, False), (False, True, False)), dtype=np.int8)),\n",
    "]"
   ]
  },
  {
   "cell_type": "code",
   "execution_count": null,
   "metadata": {},
   "outputs": [],
   "source": [
    "pieces[9].rotations()"
   ]
  },
  {
   "cell_type": "code",
   "execution_count": null,
   "metadata": {},
   "outputs": [],
   "source": [
    "pieces[1].rotations()"
   ]
  },
  {
   "cell_type": "code",
   "execution_count": null,
   "metadata": {},
   "outputs": [],
   "source": [
    "from marshal import loads, dumps\n",
    "\n",
    "class Puzzle():\n",
    "  rows: list[list[bool]]\n",
    "  cols: list[list[bool]]\n",
    "\n",
    "  def __init__(\n",
    "      self,\n",
    "      rows=[[False for _ in range(5)] for _ in range(5)],\n",
    "      cols=[[False for _ in range(6)] for _ in range(4)],\n",
    "    ):\n",
    "    self.rows = rows\n",
    "    self.cols = cols\n",
    "\n",
    "  def __repr__(self):\n",
    "    text = \"\"\n",
    "    for (row, col) in zip(self.rows, self.cols):\n",
    "      text += \" \"\n",
    "      text += \" \".join('-' if row_piece else '.' for row_piece in row)\n",
    "      text += \"\\n\"\n",
    "      text += \" \".join('|' if col_piece else '.' for col_piece in col)\n",
    "      text += \"\\n\"\n",
    "    text += \" \"\n",
    "    text += \" \".join('-' if row_piece else '.' for row_piece in self.rows[-1])\n",
    "    return text\n",
    "\n",
    "  def __hash__(self):\n",
    "      return hash((tuple(map(tuple, self.rows)), tuple(map(tuple, self.cols))))\n",
    "\n",
    "  def __eq__(self, other):\n",
    "      if isinstance(other, Puzzle):\n",
    "          return self.rows == other.rows and self.cols == other.cols\n",
    "      return NotImplemented\n",
    "  \n",
    "  @cache\n",
    "  def with_piece(self, piece: Piece, toprow: int, topcol: int) -> \"Puzzle\":\n",
    "    clone = Puzzle(loads(dumps(self.rows)), loads(dumps(self.cols)) )\n",
    "\n",
    "    for row in range(len(piece.rows)):\n",
    "      for col in range(len(piece.rows[row])):\n",
    "        # order matters\n",
    "        if piece.rows[row][col]:\n",
    "          if (toprow+row >= len(clone.rows) or topcol+col >= len(clone.rows[toprow+row])):\n",
    "            return None\n",
    "          if clone.rows[toprow+row][topcol+col]:\n",
    "            return None\n",
    "          clone.rows[toprow+row][topcol+col] = True\n",
    "\n",
    "    for row in range(len(piece.columns)):\n",
    "      for col in range(len(piece.columns[row])):\n",
    "        # order matters\n",
    "        if piece.columns[row][col]:\n",
    "          if (toprow+row >= len(clone.cols) or topcol+col >= len(clone.cols[toprow+row])):\n",
    "            return None\n",
    "          if clone.cols[toprow+row][topcol+col]:\n",
    "            return None\n",
    "          clone.cols[toprow+row][topcol+col] = True\n",
    "\n",
    "    return clone\n",
    "  \n",
    "  def spaces_left(self):\n",
    "    return np.size(self.cols) - np.count_nonzero(self.cols) + np.size(self.rows) - np.count_nonzero(self.rows)\n",
    "\n",
    "puzzle = Puzzle()"
   ]
  },
  {
   "cell_type": "code",
   "execution_count": null,
   "metadata": {},
   "outputs": [],
   "source": [
    "%timeit Puzzle().with_piece(pieces[7], 3, 4)"
   ]
  },
  {
   "cell_type": "code",
   "execution_count": null,
   "metadata": {},
   "outputs": [],
   "source": [
    "Puzzle()"
   ]
  },
  {
   "cell_type": "code",
   "execution_count": null,
   "metadata": {},
   "outputs": [],
   "source": [
    "puzzle.spaces_left()"
   ]
  },
  {
   "cell_type": "code",
   "execution_count": null,
   "metadata": {},
   "outputs": [],
   "source": [
    "puzzle.with_piece(pieces[0], 1, 3)"
   ]
  },
  {
   "cell_type": "code",
   "execution_count": null,
   "metadata": {},
   "outputs": [],
   "source": [
    "puzzle.with_piece(pieces[7].rotated(), 0, 0)"
   ]
  },
  {
   "cell_type": "code",
   "execution_count": null,
   "metadata": {},
   "outputs": [],
   "source": [
    "puzzle.with_piece(pieces[3], 0, 0).with_piece(pieces[4].rotated(), 0, 1)"
   ]
  },
  {
   "cell_type": "code",
   "execution_count": null,
   "metadata": {},
   "outputs": [],
   "source": [
    "Puzzle().with_piece(pieces[9].rotated().rotated().rotated(), 1, 0)"
   ]
  },
  {
   "cell_type": "code",
   "execution_count": null,
   "metadata": {},
   "outputs": [],
   "source": [
    "from copy import copy\n",
    "\n",
    "bad_puzzles = set()\n",
    "\n",
    "def attempt(puzzle: Puzzle, used_pieces: tuple):\n",
    "  if puzzle in bad_puzzles:\n",
    "    return None\n",
    "  if puzzle.spaces_left() == 2:\n",
    "    return puzzle, used_pieces\n",
    "  \n",
    "  candidates = []\n",
    "  for i in range(len(pieces)):\n",
    "    if i in [j for (j, _, _, _) in used_pieces]:\n",
    "      continue\n",
    "\n",
    "    for rotation in pieces[i].rotations():\n",
    "      for row in range(0, len(puzzle.rows)):\n",
    "        for col in range(0, len(puzzle.cols)):          \n",
    "          candidate = puzzle.with_piece(rotation, row, col)\n",
    "      \n",
    "          if candidate is not None:\n",
    "            if candidate in bad_puzzles:\n",
    "              continue\n",
    "\n",
    "            candidate_used_pieces = copy(used_pieces)\n",
    "            candidate_used_pieces.append((i, rotation, row, col))\n",
    "            candidates.append((candidate, candidate_used_pieces))\n",
    "    \n",
    "  for candidate, candidate_used_pieces in candidates:\n",
    "    result = attempt(candidate, candidate_used_pieces)\n",
    "    if result is not None:\n",
    "      return result\n",
    "\n",
    "  bad_puzzles.add(puzzle)\n",
    "  return None\n",
    "\n",
    "# pick a puzzle piece\n",
    "# choose rotation\n",
    "# find top-left free corner\n",
    "# put piece if it fits\n",
    "# check for solved\n",
    "rot9 = pieces[9].rotated().rotated().rotated()\n",
    "puzzle = Puzzle().with_piece(rot9, 1, 0)\n",
    "attempted = attempt(puzzle, [(9, rot9, 1, 0)])\n",
    "attempted"
   ]
  },
  {
   "cell_type": "code",
   "execution_count": null,
   "metadata": {},
   "outputs": [],
   "source": [
    "len(bad_puzzles)"
   ]
  },
  {
   "cell_type": "code",
   "execution_count": null,
   "metadata": {},
   "outputs": [],
   "source": [
    "next(iter(bad_puzzles))"
   ]
  }
 ],
 "metadata": {
  "kernelspec": {
   "display_name": "inf1b-ptas",
   "language": "python",
   "name": "python3"
  },
  "language_info": {
   "codemirror_mode": {
    "name": "ipython",
    "version": 3
   },
   "file_extension": ".py",
   "mimetype": "text/x-python",
   "name": "python",
   "nbconvert_exporter": "python",
   "pygments_lexer": "ipython3",
   "version": "3.11.3"
  }
 },
 "nbformat": 4,
 "nbformat_minor": 2
}
