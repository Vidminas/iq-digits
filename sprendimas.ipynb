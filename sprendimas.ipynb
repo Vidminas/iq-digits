{
 "cells": [
  {
   "cell_type": "code",
   "execution_count": 149,
   "metadata": {},
   "outputs": [
    {
     "name": "stdout",
     "output_type": "stream",
     "text": [
      "134\n"
     ]
    }
   ],
   "source": [
    "import numpy as np\n",
    "from dataclasses import dataclass\n",
    "from functools import cache\n",
    "from itertools import zip_longest\n",
    "import sys\n",
    "\n",
    "@dataclass\n",
    "class Piece():\n",
    "  rows: np.ndarray[np.int8, np.int8]\n",
    "  columns: np.ndarray[np.int8, np.int8]\n",
    "\n",
    "  def __repr__(self):\n",
    "    buffer = []\n",
    "    for row, column in zip_longest(self.rows, self.columns):\n",
    "        if row is not None:\n",
    "          buffer.append(\" \" + \" \".join('-' if elem else ' ' for elem in row))\n",
    "        if column is not None:\n",
    "          buffer.append(\" \".join('|' if elem else ' ' for elem in column))\n",
    "    return \"\\n\".join(buffer)\n",
    "  \n",
    "  def __hash__(self):\n",
    "     return hash((str(self.rows), str(self.columns)))\n",
    "\n",
    "  def __eq__(self, other):\n",
    "      if isinstance(other, Piece):\n",
    "          return np.array_equal(self.rows, other.rows) and np.array_equal(self.columns, other.columns)\n",
    "      return NotImplemented\n",
    "    \n",
    "  def rotated(self):\n",
    "    rows = np.rot90(self.columns, 1)\n",
    "    columns = np.rot90(self.rows, 1)\n",
    "\n",
    "    while ~np.any(rows[0]) and ~np.any(columns[0]):\n",
    "      # top row is empty, so we can shift digit up\n",
    "      rows = np.roll(rows, -1, 0)\n",
    "      columns = np.roll(columns, -1, 0)\n",
    "\n",
    "    return Piece(rows, columns)\n",
    "  \n",
    "  @cache\n",
    "  def trimmed(self):\n",
    "    rows = self.rows\n",
    "    columns = self.columns\n",
    "\n",
    "    while ~np.any(rows, axis=1)[-1] and ~np.any(columns, axis=1)[-1]:\n",
    "       rows = rows[:-1]\n",
    "       columns = columns[:-1]\n",
    "\n",
    "    while ~np.any(rows, axis=0)[-1] and ~np.any(columns, axis=0)[-1]:\n",
    "       rows = rows[:,:-1]\n",
    "       columns = columns[:,:-1]\n",
    "    \n",
    "    return Piece(rows, columns)\n",
    "\n",
    "  @cache\n",
    "  def rotations(self):\n",
    "    a = self.rotated()\n",
    "    b = a.rotated()\n",
    "    c = b.rotated()\n",
    "    d = c.rotated()\n",
    "    return set((a, b, c, d))\n",
    "\n",
    "pieces = [\n",
    "  Piece(rows=np.asarray(((True, False), (True, False), (False, False)), dtype=np.int8), columns=np.asarray(((True, True, False), (False, False, False)), dtype=np.int8)),\n",
    "  Piece(rows=np.asarray(((False, False), (False, False), (False, False)), dtype=np.int8), columns=np.asarray(((True, False, False), (True, False, False)), dtype=np.int8)),\n",
    "  Piece(rows=np.asarray(((True, False), (True, False), (True, False)), dtype=np.int8), columns=np.asarray(((False, True, False), (True, False, False)), dtype=np.int8)),\n",
    "  Piece(rows=np.asarray(((True, False), (True, False), (True, False)), dtype=np.int8), columns=np.asarray(((False, True, False), (False, True, False)), dtype=np.int8)),\n",
    "  Piece(rows=np.asarray(((False, False), (True, False), (False, False)), dtype=np.int8), columns=np.asarray(((True, True, False), (False, True, False)), dtype=np.int8)),\n",
    "  Piece(rows=np.asarray(((True, False), (True, False), (True, False)), dtype=np.int8), columns=np.asarray(((True, False, False), (False, True, False)), dtype=np.int8)),\n",
    "  Piece(rows=np.asarray(((True, False), (True, False), (True, False)), dtype=np.int8), columns=np.asarray(((True, False, False), (True, True, False)), dtype=np.int8)),\n",
    "  Piece(rows=np.asarray(((True, False), (False, False), (False, False)), dtype=np.int8), columns=np.asarray(((False, True, False), (False, True, False)), dtype=np.int8)),\n",
    "  Piece(rows=np.asarray(((True, False), (True, False), (True, False)), dtype=np.int8), columns=np.asarray(((True, True, False), (True, True, False)), dtype=np.int8)),\n",
    "  Piece(rows=np.asarray(((True, False), (True, False), (True, False)), dtype=np.int8), columns=np.asarray(((True, True, False), (False, True, False)), dtype=np.int8)),\n",
    "]\n",
    "\n",
    "print(sys.getsizeof(pieces[0].rows))"
   ]
  },
  {
   "cell_type": "code",
   "execution_count": 150,
   "metadata": {},
   "outputs": [
    {
     "data": {
      "text/plain": [
       " -  \n",
       "| |  \n",
       " -  \n",
       "     \n",
       "    "
      ]
     },
     "execution_count": 150,
     "metadata": {},
     "output_type": "execute_result"
    }
   ],
   "source": [
    "pieces[0]"
   ]
  },
  {
   "cell_type": "code",
   "execution_count": 151,
   "metadata": {},
   "outputs": [
    {
     "data": {
      "text/plain": [
       " -\n",
       "| |\n",
       " -"
      ]
     },
     "execution_count": 151,
     "metadata": {},
     "output_type": "execute_result"
    }
   ],
   "source": [
    "pieces[0].trimmed()"
   ]
  },
  {
   "cell_type": "code",
   "execution_count": 152,
   "metadata": {},
   "outputs": [
    {
     "data": {
      "text/plain": [
       "{   -\n",
       " | | |\n",
       "  - -\n",
       "      \n",
       "     ,\n",
       "  -  \n",
       " |    \n",
       "  -  \n",
       " | |  \n",
       "  -  ,\n",
       "  -  \n",
       " | |  \n",
       "  -  \n",
       "   |  \n",
       "  -  ,\n",
       "  - -\n",
       " | | |\n",
       "  -  \n",
       "      \n",
       "     }"
      ]
     },
     "execution_count": 152,
     "metadata": {},
     "output_type": "execute_result"
    }
   ],
   "source": [
    "pieces[9].rotations()"
   ]
  },
  {
   "cell_type": "code",
   "execution_count": 153,
   "metadata": {},
   "outputs": [
    {
     "data": {
      "text/plain": [
       "{ -  \n",
       " | |  \n",
       "  -  \n",
       "      \n",
       "     }"
      ]
     },
     "execution_count": 153,
     "metadata": {},
     "output_type": "execute_result"
    }
   ],
   "source": [
    "pieces[0].rotations()"
   ]
  },
  {
   "cell_type": "code",
   "execution_count": 175,
   "metadata": {},
   "outputs": [],
   "source": [
    "class Puzzle():\n",
    "  rows: np.ndarray[np.int8, np.int8]\n",
    "  cols: np.ndarray[np.int8, np.int8]\n",
    "\n",
    "  def __init__(\n",
    "      self,\n",
    "      rows=np.zeros((5,5), dtype=np.int8),\n",
    "      cols=np.zeros((4,6), dtype=np.int8),\n",
    "    ):\n",
    "    self.rows = rows\n",
    "    self.cols = cols\n",
    "\n",
    "  def __repr__(self):\n",
    "    buffer = []\n",
    "    for row, column in zip_longest(self.rows, self.cols):\n",
    "        if row is not None:\n",
    "          buffer.append(\" \" + \" \".join('-' if elem else '.' for elem in row))\n",
    "        if column is not None:\n",
    "          buffer.append(\" \".join('|' if elem else '.' for elem in column))\n",
    "    return \"\\n\".join(buffer)\n",
    "\n",
    "  def __hash__(self):\n",
    "    return hash((str(self.rows), str(self.cols)))\n",
    "\n",
    "  def __eq__(self, other):\n",
    "    if isinstance(other, Puzzle):\n",
    "        return np.array_equal(self.rows, other.rows) and np.array_equal(self.cols, other.cols)\n",
    "    return NotImplemented\n",
    "  \n",
    "  @cache\n",
    "  def with_piece(self, piece: Piece, toprow: int, topcol: int) -> \"Puzzle\":\n",
    "    piece = piece.trimmed()\n",
    "\n",
    "    if (toprow + piece.rows.shape[0] > self.rows.shape[0]):\n",
    "      return None\n",
    "    if (topcol + piece.rows.shape[1] > self.rows.shape[1]):\n",
    "      return None\n",
    "    if (toprow + piece.columns.shape[0] > self.cols.shape[0]):\n",
    "      return None\n",
    "    if (topcol + piece.columns.shape[1] > self.cols.shape[1]):\n",
    "      return None\n",
    "    \n",
    "    puzzle_rows = self.rows[toprow:toprow+piece.rows.shape[0], topcol:topcol+piece.rows.shape[1]]\n",
    "    piece_rows_nonzero = np.nonzero(piece.rows)\n",
    "    if np.any(puzzle_rows[piece_rows_nonzero]):\n",
    "      return None\n",
    "\n",
    "    puzzle_cols = self.cols[toprow:toprow+piece.columns.shape[0], topcol:topcol+piece.columns.shape[1]]\n",
    "    piece_cols_nonzero = np.nonzero(piece.columns)\n",
    "    if np.any(puzzle_cols[piece_cols_nonzero]):\n",
    "      return None\n",
    "    \n",
    "    new_rows = self.rows.copy()\n",
    "    new_cols = self.cols.copy()\n",
    "    puzzle_rows = new_rows[toprow:toprow+piece.rows.shape[0], topcol:topcol+piece.rows.shape[1]]\n",
    "    puzzle_cols = new_cols[toprow:toprow+piece.columns.shape[0], topcol:topcol+piece.columns.shape[1]]\n",
    "    puzzle_rows[piece_rows_nonzero] = piece.rows[piece_rows_nonzero]\n",
    "    puzzle_cols[piece_cols_nonzero] = piece.columns[piece_cols_nonzero]\n",
    "\n",
    "    return Puzzle(new_rows, new_cols)\n",
    "  \n",
    "  def spaces_left(self):\n",
    "    return np.size(self.cols) - np.count_nonzero(self.cols) + np.size(self.rows) - np.count_nonzero(self.rows)\n",
    "\n",
    "puzzle = Puzzle()"
   ]
  },
  {
   "cell_type": "code",
   "execution_count": 167,
   "metadata": {},
   "outputs": [
    {
     "name": "stdout",
     "output_type": "stream",
     "text": [
      "549 µs ± 119 µs per loop (mean ± std. dev. of 7 runs, 1,000 loops each)\n"
     ]
    }
   ],
   "source": [
    "%timeit Puzzle().with_piece(pieces[7], 3, 4)"
   ]
  },
  {
   "cell_type": "code",
   "execution_count": 164,
   "metadata": {},
   "outputs": [
    {
     "name": "stdout",
     "output_type": "stream",
     "text": [
      "3.78 µs ± 311 ns per loop (mean ± std. dev. of 7 runs, 100,000 loops each)\n"
     ]
    }
   ],
   "source": [
    "%timeit Puzzle().spaces_left()"
   ]
  },
  {
   "cell_type": "code",
   "execution_count": 176,
   "metadata": {},
   "outputs": [
    {
     "data": {
      "text/plain": [
       " . . . . .\n",
       ". . . . . .\n",
       " . . . . .\n",
       ". . . . . .\n",
       " . . . . .\n",
       ". . . . . .\n",
       " . . . . .\n",
       ". . . . . .\n",
       " . . . . ."
      ]
     },
     "execution_count": 176,
     "metadata": {},
     "output_type": "execute_result"
    }
   ],
   "source": [
    "Puzzle()"
   ]
  },
  {
   "cell_type": "code",
   "execution_count": 75,
   "metadata": {},
   "outputs": [
    {
     "data": {
      "text/plain": [
       "49"
      ]
     },
     "execution_count": 75,
     "metadata": {},
     "output_type": "execute_result"
    }
   ],
   "source": [
    "puzzle.spaces_left()"
   ]
  },
  {
   "cell_type": "code",
   "execution_count": 177,
   "metadata": {},
   "outputs": [
    {
     "data": {
      "text/plain": [
       " . . . . .\n",
       ". . . . . .\n",
       " . . . . -\n",
       ". . . . | |\n",
       " . . . . -\n",
       ". . . . . .\n",
       " . . . . .\n",
       ". . . . . .\n",
       " . . . . ."
      ]
     },
     "execution_count": 177,
     "metadata": {},
     "output_type": "execute_result"
    }
   ],
   "source": [
    "puzzle.with_piece(pieces[0], 1, 4)"
   ]
  },
  {
   "cell_type": "code",
   "execution_count": 178,
   "metadata": {},
   "outputs": [
    {
     "data": {
      "text/plain": [
       " - - . . .\n",
       "| . . . . .\n",
       " . . . . .\n",
       ". . . . . .\n",
       " . . . . .\n",
       ". . . . . .\n",
       " . . . . .\n",
       ". . . . . .\n",
       " . . . . ."
      ]
     },
     "execution_count": 178,
     "metadata": {},
     "output_type": "execute_result"
    }
   ],
   "source": [
    "puzzle.with_piece(pieces[7].rotated(), 0, 0)"
   ]
  },
  {
   "cell_type": "code",
   "execution_count": 179,
   "metadata": {},
   "outputs": [
    {
     "data": {
      "text/plain": [
       " - - - . .\n",
       ". | | . . .\n",
       " - - . . .\n",
       ". | . . . .\n",
       " - . . . .\n",
       ". . . . . .\n",
       " . . . . .\n",
       ". . . . . .\n",
       " . . . . ."
      ]
     },
     "execution_count": 179,
     "metadata": {},
     "output_type": "execute_result"
    }
   ],
   "source": [
    "puzzle.with_piece(pieces[3], 0, 0).with_piece(pieces[4].rotated(), 0, 1)"
   ]
  },
  {
   "cell_type": "code",
   "execution_count": 163,
   "metadata": {},
   "outputs": [
    {
     "data": {
      "text/plain": [
       " . . . . .\n",
       ". . . . . .\n",
       " . - . . .\n",
       "| | | . . .\n",
       " - - . . .\n",
       ". . . . . .\n",
       " . . . . .\n",
       ". . . . . .\n",
       " . . . . ."
      ]
     },
     "execution_count": 163,
     "metadata": {},
     "output_type": "execute_result"
    }
   ],
   "source": [
    "Puzzle().with_piece(pieces[9].rotated().rotated().rotated(), 1, 0)"
   ]
  },
  {
   "cell_type": "code",
   "execution_count": 59,
   "metadata": {},
   "outputs": [
    {
     "ename": "KeyboardInterrupt",
     "evalue": "",
     "output_type": "error",
     "traceback": [
      "\u001b[1;31m---------------------------------------------------------------------------\u001b[0m",
      "\u001b[1;31mKeyboardInterrupt\u001b[0m                         Traceback (most recent call last)",
      "Cell \u001b[1;32mIn[59], line 44\u001b[0m\n\u001b[0;32m     42\u001b[0m rot9 \u001b[38;5;241m=\u001b[39m pieces[\u001b[38;5;241m9\u001b[39m]\u001b[38;5;241m.\u001b[39mrotated()\u001b[38;5;241m.\u001b[39mrotated()\u001b[38;5;241m.\u001b[39mrotated()\n\u001b[0;32m     43\u001b[0m puzzle \u001b[38;5;241m=\u001b[39m Puzzle()\u001b[38;5;241m.\u001b[39mwith_piece(rot9, \u001b[38;5;241m1\u001b[39m, \u001b[38;5;241m0\u001b[39m)\n\u001b[1;32m---> 44\u001b[0m attempted \u001b[38;5;241m=\u001b[39m \u001b[43mattempt\u001b[49m\u001b[43m(\u001b[49m\u001b[43mpuzzle\u001b[49m\u001b[43m,\u001b[49m\u001b[43m \u001b[49m\u001b[43m[\u001b[49m\u001b[43m(\u001b[49m\u001b[38;5;241;43m9\u001b[39;49m\u001b[43m,\u001b[49m\u001b[43m \u001b[49m\u001b[43mrot9\u001b[49m\u001b[43m,\u001b[49m\u001b[43m \u001b[49m\u001b[38;5;241;43m1\u001b[39;49m\u001b[43m,\u001b[49m\u001b[43m \u001b[49m\u001b[38;5;241;43m0\u001b[39;49m\u001b[43m)\u001b[49m\u001b[43m]\u001b[49m\u001b[43m)\u001b[49m\n\u001b[0;32m     45\u001b[0m attempted\n",
      "Cell \u001b[1;32mIn[59], line 30\u001b[0m, in \u001b[0;36mattempt\u001b[1;34m(puzzle, used_pieces)\u001b[0m\n\u001b[0;32m     27\u001b[0m           candidates\u001b[38;5;241m.\u001b[39mappend((candidate, candidate_used_pieces))\n\u001b[0;32m     29\u001b[0m \u001b[38;5;28;01mfor\u001b[39;00m candidate, candidate_used_pieces \u001b[38;5;129;01min\u001b[39;00m candidates:\n\u001b[1;32m---> 30\u001b[0m   result \u001b[38;5;241m=\u001b[39m \u001b[43mattempt\u001b[49m\u001b[43m(\u001b[49m\u001b[43mcandidate\u001b[49m\u001b[43m,\u001b[49m\u001b[43m \u001b[49m\u001b[43mcandidate_used_pieces\u001b[49m\u001b[43m)\u001b[49m\n\u001b[0;32m     31\u001b[0m   \u001b[38;5;28;01mif\u001b[39;00m result \u001b[38;5;129;01mis\u001b[39;00m \u001b[38;5;129;01mnot\u001b[39;00m \u001b[38;5;28;01mNone\u001b[39;00m:\n\u001b[0;32m     32\u001b[0m     \u001b[38;5;28;01mreturn\u001b[39;00m result\n",
      "Cell \u001b[1;32mIn[59], line 30\u001b[0m, in \u001b[0;36mattempt\u001b[1;34m(puzzle, used_pieces)\u001b[0m\n\u001b[0;32m     27\u001b[0m           candidates\u001b[38;5;241m.\u001b[39mappend((candidate, candidate_used_pieces))\n\u001b[0;32m     29\u001b[0m \u001b[38;5;28;01mfor\u001b[39;00m candidate, candidate_used_pieces \u001b[38;5;129;01min\u001b[39;00m candidates:\n\u001b[1;32m---> 30\u001b[0m   result \u001b[38;5;241m=\u001b[39m \u001b[43mattempt\u001b[49m\u001b[43m(\u001b[49m\u001b[43mcandidate\u001b[49m\u001b[43m,\u001b[49m\u001b[43m \u001b[49m\u001b[43mcandidate_used_pieces\u001b[49m\u001b[43m)\u001b[49m\n\u001b[0;32m     31\u001b[0m   \u001b[38;5;28;01mif\u001b[39;00m result \u001b[38;5;129;01mis\u001b[39;00m \u001b[38;5;129;01mnot\u001b[39;00m \u001b[38;5;28;01mNone\u001b[39;00m:\n\u001b[0;32m     32\u001b[0m     \u001b[38;5;28;01mreturn\u001b[39;00m result\n",
      "    \u001b[1;31m[... skipping similar frames: attempt at line 30 (1 times)]\u001b[0m\n",
      "Cell \u001b[1;32mIn[59], line 30\u001b[0m, in \u001b[0;36mattempt\u001b[1;34m(puzzle, used_pieces)\u001b[0m\n\u001b[0;32m     27\u001b[0m           candidates\u001b[38;5;241m.\u001b[39mappend((candidate, candidate_used_pieces))\n\u001b[0;32m     29\u001b[0m \u001b[38;5;28;01mfor\u001b[39;00m candidate, candidate_used_pieces \u001b[38;5;129;01min\u001b[39;00m candidates:\n\u001b[1;32m---> 30\u001b[0m   result \u001b[38;5;241m=\u001b[39m \u001b[43mattempt\u001b[49m\u001b[43m(\u001b[49m\u001b[43mcandidate\u001b[49m\u001b[43m,\u001b[49m\u001b[43m \u001b[49m\u001b[43mcandidate_used_pieces\u001b[49m\u001b[43m)\u001b[49m\n\u001b[0;32m     31\u001b[0m   \u001b[38;5;28;01mif\u001b[39;00m result \u001b[38;5;129;01mis\u001b[39;00m \u001b[38;5;129;01mnot\u001b[39;00m \u001b[38;5;28;01mNone\u001b[39;00m:\n\u001b[0;32m     32\u001b[0m     \u001b[38;5;28;01mreturn\u001b[39;00m result\n",
      "Cell \u001b[1;32mIn[59], line 19\u001b[0m, in \u001b[0;36mattempt\u001b[1;34m(puzzle, used_pieces)\u001b[0m\n\u001b[0;32m     17\u001b[0m \u001b[38;5;28;01mfor\u001b[39;00m row \u001b[38;5;129;01min\u001b[39;00m \u001b[38;5;28mrange\u001b[39m(\u001b[38;5;241m0\u001b[39m, \u001b[38;5;28mlen\u001b[39m(puzzle\u001b[38;5;241m.\u001b[39mrows)):\n\u001b[0;32m     18\u001b[0m   \u001b[38;5;28;01mfor\u001b[39;00m col \u001b[38;5;129;01min\u001b[39;00m \u001b[38;5;28mrange\u001b[39m(\u001b[38;5;241m0\u001b[39m, \u001b[38;5;28mlen\u001b[39m(puzzle\u001b[38;5;241m.\u001b[39mcols)):          \n\u001b[1;32m---> 19\u001b[0m     candidate \u001b[38;5;241m=\u001b[39m \u001b[43mpuzzle\u001b[49m\u001b[38;5;241;43m.\u001b[39;49m\u001b[43mwith_piece\u001b[49m\u001b[43m(\u001b[49m\u001b[43mrotation\u001b[49m\u001b[43m,\u001b[49m\u001b[43m \u001b[49m\u001b[43mrow\u001b[49m\u001b[43m,\u001b[49m\u001b[43m \u001b[49m\u001b[43mcol\u001b[49m\u001b[43m)\u001b[49m\n\u001b[0;32m     21\u001b[0m     \u001b[38;5;28;01mif\u001b[39;00m candidate \u001b[38;5;129;01mis\u001b[39;00m \u001b[38;5;129;01mnot\u001b[39;00m \u001b[38;5;28;01mNone\u001b[39;00m:\n\u001b[0;32m     22\u001b[0m       \u001b[38;5;28;01mif\u001b[39;00m candidate \u001b[38;5;129;01min\u001b[39;00m bad_puzzles:\n",
      "Cell \u001b[1;32mIn[51], line 39\u001b[0m, in \u001b[0;36mPuzzle.with_piece\u001b[1;34m(self, piece, toprow, topcol)\u001b[0m\n\u001b[0;32m     36\u001b[0m \u001b[38;5;129m@cache\u001b[39m\n\u001b[0;32m     37\u001b[0m \u001b[38;5;28;01mdef\u001b[39;00m \u001b[38;5;21mwith_piece\u001b[39m(\u001b[38;5;28mself\u001b[39m, piece: Piece, toprow: \u001b[38;5;28mint\u001b[39m, topcol: \u001b[38;5;28mint\u001b[39m) \u001b[38;5;241m-\u001b[39m\u001b[38;5;241m>\u001b[39m \u001b[38;5;124m\"\u001b[39m\u001b[38;5;124mPuzzle\u001b[39m\u001b[38;5;124m\"\u001b[39m:\n\u001b[0;32m     38\u001b[0m   \u001b[38;5;66;03m# clone = Puzzle(loads(dumps(self.rows)), loads(dumps(self.cols)))\u001b[39;00m\n\u001b[1;32m---> 39\u001b[0m   clone \u001b[38;5;241m=\u001b[39m Puzzle(\u001b[38;5;28mself\u001b[39m\u001b[38;5;241m.\u001b[39mrows\u001b[38;5;241m.\u001b[39mcopy(), \u001b[38;5;28mself\u001b[39m\u001b[38;5;241m.\u001b[39mcols\u001b[38;5;241m.\u001b[39mcopy())\n\u001b[0;32m     41\u001b[0m   \u001b[38;5;28;01mfor\u001b[39;00m row \u001b[38;5;129;01min\u001b[39;00m \u001b[38;5;28mrange\u001b[39m(\u001b[38;5;28mlen\u001b[39m(piece\u001b[38;5;241m.\u001b[39mrows)):\n\u001b[0;32m     42\u001b[0m     \u001b[38;5;28;01mfor\u001b[39;00m col \u001b[38;5;129;01min\u001b[39;00m \u001b[38;5;28mrange\u001b[39m(\u001b[38;5;28mlen\u001b[39m(piece\u001b[38;5;241m.\u001b[39mrows[row])):\n\u001b[0;32m     43\u001b[0m       \u001b[38;5;66;03m# order matters\u001b[39;00m\n",
      "\u001b[1;31mKeyboardInterrupt\u001b[0m: "
     ]
    }
   ],
   "source": [
    "from copy import copy\n",
    "\n",
    "bad_puzzles = set()\n",
    "\n",
    "def attempt(puzzle: Puzzle, used_pieces: tuple):\n",
    "  if puzzle in bad_puzzles:\n",
    "    return None\n",
    "  if puzzle.spaces_left() == 2:\n",
    "    return puzzle, used_pieces\n",
    "  \n",
    "  candidates = []\n",
    "  for i in range(len(pieces)):\n",
    "    if i in [j for (j, _, _, _) in used_pieces]:\n",
    "      continue\n",
    "\n",
    "    for rotation in pieces[i].rotations():\n",
    "      for row in range(0, len(puzzle.rows)):\n",
    "        for col in range(0, len(puzzle.cols)):          \n",
    "          candidate = puzzle.with_piece(rotation, row, col)\n",
    "      \n",
    "          if candidate is not None:\n",
    "            if candidate in bad_puzzles:\n",
    "              continue\n",
    "\n",
    "            candidate_used_pieces = copy(used_pieces)\n",
    "            candidate_used_pieces.append((i, rotation, row, col))\n",
    "            candidates.append((candidate, candidate_used_pieces))\n",
    "    \n",
    "  for candidate, candidate_used_pieces in candidates:\n",
    "    result = attempt(candidate, candidate_used_pieces)\n",
    "    if result is not None:\n",
    "      return result\n",
    "\n",
    "  bad_puzzles.add(puzzle)\n",
    "  return None\n",
    "\n",
    "# pick a puzzle piece\n",
    "# choose rotation\n",
    "# find top-left free corner\n",
    "# put piece if it fits\n",
    "# check for solved\n",
    "rot9 = pieces[9].rotated().rotated().rotated()\n",
    "puzzle = Puzzle().with_piece(rot9, 1, 0)\n",
    "attempted = attempt(puzzle, [(9, rot9, 1, 0)])\n",
    "attempted"
   ]
  },
  {
   "cell_type": "code",
   "execution_count": 60,
   "metadata": {},
   "outputs": [
    {
     "data": {
      "text/plain": [
       "215377"
      ]
     },
     "execution_count": 60,
     "metadata": {},
     "output_type": "execute_result"
    }
   ],
   "source": [
    "len(bad_puzzles)"
   ]
  },
  {
   "cell_type": "code",
   "execution_count": 61,
   "metadata": {},
   "outputs": [
    {
     "data": {
      "text/plain": [
       " - - - - .\n",
       "| | . | . .\n",
       " - - - - .\n",
       "| | | . . .\n",
       " - - - - .\n",
       ". . | . . .\n",
       " - - . . .\n",
       "| | | . . .\n",
       " - . . . ."
      ]
     },
     "execution_count": 61,
     "metadata": {},
     "output_type": "execute_result"
    }
   ],
   "source": [
    "next(iter(bad_puzzles))"
   ]
  }
 ],
 "metadata": {
  "kernelspec": {
   "display_name": "inf1b-ptas",
   "language": "python",
   "name": "python3"
  },
  "language_info": {
   "codemirror_mode": {
    "name": "ipython",
    "version": 3
   },
   "file_extension": ".py",
   "mimetype": "text/x-python",
   "name": "python",
   "nbconvert_exporter": "python",
   "pygments_lexer": "ipython3",
   "version": "3.11.3"
  }
 },
 "nbformat": 4,
 "nbformat_minor": 2
}
