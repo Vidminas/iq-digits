{
 "cells": [
  {
   "cell_type": "code",
   "execution_count": 1,
   "metadata": {},
   "outputs": [],
   "source": [
    "import numpy as np\n",
    "from functools import cache\n",
    "from itertools import zip_longest\n",
    "import sys\n",
    "\n",
    "%load_ext line_profiler"
   ]
  },
  {
   "cell_type": "code",
   "execution_count": 2,
   "metadata": {},
   "outputs": [
    {
     "name": "stdout",
     "output_type": "stream",
     "text": [
      "129\n"
     ]
    }
   ],
   "source": [
    "class Piece():\n",
    "  rows: np.ndarray[np.uint8, np.uint8]\n",
    "  cols: np.ndarray[np.uint8, np.uint8]\n",
    "  rows_height: int\n",
    "  rows_width: int\n",
    "  cols_height: int\n",
    "  cols_width: int\n",
    "\n",
    "  def __init__(self, rows: tuple[tuple[bool]] | np.ndarray[np.uint8, np.uint8], cols: tuple[tuple[bool]] | np.ndarray[np.uint8, np.uint8]):\n",
    "    rows = np.asarray(rows)\n",
    "    cols = np.asarray(cols)\n",
    "\n",
    "    # Trim piece to size\n",
    "    while rows.size and ~np.any(rows[-1]) and cols.size and ~np.any(cols[-1]):\n",
    "       rows = rows[:-1]\n",
    "       cols = cols[:-1]\n",
    "\n",
    "    while rows.size and ~np.any(rows[:,-1]) and cols.size and ~np.any(cols[:,-1]):\n",
    "       rows = rows[:,:-1]\n",
    "       cols = cols[:,:-1]\n",
    "    \n",
    "    # Edge case: when all rows or cols are trimmed from one side\n",
    "    self.rows_height = 0 if not rows.size else rows.shape[0]\n",
    "    self.rows_width = 0 if not rows.size else rows.shape[1]\n",
    "    self.cols_height = 0 if not cols.size else cols.shape[0]\n",
    "    self.cols_width = 0 if not cols.size else cols.shape[1]\n",
    "    self.rows = np.packbits(rows, axis=0)\n",
    "    self.cols = np.packbits(cols, axis=0)\n",
    "\n",
    "  def __repr__(self):\n",
    "    rows = np.unpackbits(self.rows, axis=0, count=self.rows_height)\n",
    "    cols = np.unpackbits(self.cols, axis=0, count=self.cols_height)\n",
    "    buffer = []\n",
    "    for row, col in zip_longest(rows, cols):\n",
    "        if row is not None:\n",
    "          buffer.append(\" \" + \" \".join('-' if elem else ' ' for elem in row))\n",
    "        if col is not None:\n",
    "          buffer.append(\" \".join('|' if elem else ' ' for elem in col))\n",
    "    return \"\\n\".join(buffer)\n",
    "  \n",
    "  def __hash__(self):\n",
    "     return hash((tuple(self.rows.flatten()), tuple(self.cols.flatten())))\n",
    "\n",
    "  def __eq__(self, other):\n",
    "      if isinstance(other, Piece):\n",
    "          return np.array_equal(self.rows, other.rows) and np.array_equal(self.cols, other.cols)\n",
    "      return NotImplemented\n",
    "    \n",
    "  def rotated(self):\n",
    "    unpacked_rows = np.unpackbits(self.rows, axis=0, count=self.rows_height)\n",
    "    unpacked_columns = np.unpackbits(self.cols, axis=0, count=self.cols_height)\n",
    "\n",
    "    rows = np.rot90(unpacked_columns, 1)\n",
    "    cols = np.rot90(unpacked_rows, 1)\n",
    "\n",
    "    while rows.size and ~np.any(rows[0]) and cols.size and ~np.any(cols[0]):\n",
    "      # top row is empty, so we can shift digit up\n",
    "      rows = np.roll(rows, -1, 0)\n",
    "      cols = np.roll(cols, -1, 0)\n",
    "\n",
    "    return Piece(rows, cols)\n",
    "  \n",
    "  @cache\n",
    "  def rotations(self):\n",
    "    a = self\n",
    "    b = a.rotated()\n",
    "    c = b.rotated()\n",
    "    d = c.rotated()\n",
    "    return set((a, b, c, d))\n",
    "\n",
    "pieces = [\n",
    "  Piece(rows=((True, False), (True, False), (False, False)), cols=((True, True, False), (False, False, False))),\n",
    "  Piece(rows=((False, False), (False, False), (False, False)), cols=((True, False, False), (True, False, False))),\n",
    "  Piece(rows=((True, False), (True, False), (True, False)), cols=((False, True, False), (True, False, False))),\n",
    "  Piece(rows=((True, False), (True, False), (True, False)), cols=((False, True, False), (False, True, False))),\n",
    "  Piece(rows=((False, False), (True, False), (False, False)), cols=((True, True, False), (False, True, False))),\n",
    "  Piece(rows=((True, False), (True, False), (True, False)), cols=((True, False, False), (False, True, False))),\n",
    "  Piece(rows=((True, False), (True, False), (True, False)), cols=((True, False, False), (True, True, False))),\n",
    "  Piece(rows=((True, False), (False, False), (False, False)), cols=((False, True, False), (False, True, False))),\n",
    "  Piece(rows=((True, False), (True, False), (True, False)), cols=((True, True, False), (True, True, False))),\n",
    "  Piece(rows=((True, False), (True, False), (True, False)), cols=((True, True, False), (False, True, False))),\n",
    "]\n",
    "\n",
    "print(sys.getsizeof(pieces[0].rows))"
   ]
  },
  {
   "cell_type": "code",
   "execution_count": 3,
   "metadata": {},
   "outputs": [
    {
     "data": {
      "text/plain": [
       " -\n",
       "| |\n",
       " -"
      ]
     },
     "execution_count": 3,
     "metadata": {},
     "output_type": "execute_result"
    }
   ],
   "source": [
    "pieces[0]"
   ]
  },
  {
   "cell_type": "code",
   "execution_count": 4,
   "metadata": {},
   "outputs": [
    {
     "data": {
      "text/plain": [
       "|\n",
       "|"
      ]
     },
     "execution_count": 4,
     "metadata": {},
     "output_type": "execute_result"
    }
   ],
   "source": [
    "pieces[1]"
   ]
  },
  {
   "cell_type": "code",
   "execution_count": 5,
   "metadata": {},
   "outputs": [
    {
     "data": {
      "text/plain": [
       "{   -\n",
       " | | |\n",
       "  - -,\n",
       "  -\n",
       " |  \n",
       "  -\n",
       " | |\n",
       "  -,\n",
       "  -\n",
       " | |\n",
       "  -\n",
       "   |\n",
       "  -,\n",
       "  - -\n",
       " | | |\n",
       "  -  }"
      ]
     },
     "execution_count": 5,
     "metadata": {},
     "output_type": "execute_result"
    }
   ],
   "source": [
    "pieces[9].rotations()"
   ]
  },
  {
   "cell_type": "code",
   "execution_count": 6,
   "metadata": {},
   "outputs": [
    {
     "data": {
      "text/plain": [
       "{ -\n",
       " | |\n",
       "  -}"
      ]
     },
     "execution_count": 6,
     "metadata": {},
     "output_type": "execute_result"
    }
   ],
   "source": [
    "pieces[0].rotations()"
   ]
  },
  {
   "cell_type": "code",
   "execution_count": 7,
   "metadata": {},
   "outputs": [],
   "source": [
    "class Puzzle():\n",
    "  ROWS_HEIGHT = 5\n",
    "  ROWS_WIDTH = 5\n",
    "  COLS_HEIGHT = 4\n",
    "  COLS_WIDTH = 6\n",
    "  rows: np.ndarray[np.uint8, np.uint8]\n",
    "  cols: np.ndarray[np.uint8, np.uint8]\n",
    "\n",
    "  def __init__(\n",
    "      self,\n",
    "      rows=np.packbits(np.zeros((ROWS_HEIGHT,ROWS_WIDTH), dtype=np.uint8), axis=0),\n",
    "      cols=np.packbits(np.zeros((COLS_HEIGHT,COLS_WIDTH), dtype=np.uint8), axis=0),\n",
    "    ):\n",
    "    self.rows = rows\n",
    "    self.cols = cols\n",
    "\n",
    "  def __repr__(self):\n",
    "    rows = np.unpackbits(self.rows, axis=0, count=self.ROWS_HEIGHT)\n",
    "    cols = np.unpackbits(self.cols, axis=0, count=self.COLS_HEIGHT)\n",
    "    buffer = []\n",
    "    for row, col in zip_longest(rows, cols):\n",
    "        if row is not None:\n",
    "          buffer.append(\" \" + \" \".join('-' if elem else '.' for elem in row))\n",
    "        if col is not None:\n",
    "          buffer.append(\" \".join('|' if elem else '.' for elem in col))\n",
    "    return \"\\n\".join(buffer)\n",
    "\n",
    "  def __hash__(self):\n",
    "    return hash((tuple(self.rows.flatten()), tuple(self.cols.flatten())))\n",
    "\n",
    "  def __eq__(self, other):\n",
    "    if isinstance(other, Puzzle):\n",
    "        return np.array_equal(self.rows, other.rows) and np.array_equal(self.cols, other.cols)\n",
    "    return NotImplemented\n",
    "\n",
    "  def with_piece(self, piece: Piece, v_offset: int, h_offset: int) -> \"Puzzle\":\n",
    "    if (v_offset + piece.rows_height > self.ROWS_HEIGHT):\n",
    "      return None\n",
    "    if (h_offset + piece.rows_width > self.ROWS_WIDTH):\n",
    "      return None\n",
    "    if (v_offset + piece.cols_height > self.COLS_HEIGHT):\n",
    "      return None\n",
    "    if (h_offset + piece.cols_width > self.COLS_WIDTH):\n",
    "      return None\n",
    "    \n",
    "    mask_rows = np.zeros_like(self.rows)\n",
    "    if piece.rows.size:\n",
    "      mask_rows[:,h_offset:h_offset+piece.rows.shape[1]] = piece.rows >> v_offset\n",
    "\n",
    "    mask_cols = np.zeros_like(self.cols)\n",
    "    if piece.cols.size:\n",
    "      mask_cols[:,h_offset:h_offset+piece.cols.shape[1]] = piece.cols >> v_offset\n",
    "\n",
    "    if np.any(np.bitwise_and(self.rows, mask_rows)):\n",
    "      return None\n",
    "    if np.any(np.bitwise_and(self.cols, mask_cols)):\n",
    "      return None\n",
    "\n",
    "    np.bitwise_or(self.rows, mask_rows, out=mask_rows)\n",
    "    np.bitwise_or(self.cols, mask_cols, out=mask_cols)\n",
    "\n",
    "    return Puzzle(mask_rows, mask_cols)\n",
    "  \n",
    "  def spaces_left(self):\n",
    "    unpacked_rows = np.unpackbits(self.rows, axis=0, count=self.ROWS_HEIGHT)\n",
    "    unpacked_cols = np.unpackbits(self.cols, axis=0, count=self.COLS_HEIGHT)\n",
    "    return np.size(unpacked_cols) - np.count_nonzero(unpacked_cols) + np.size(unpacked_rows) - np.count_nonzero(unpacked_rows)"
   ]
  },
  {
   "cell_type": "code",
   "execution_count": 8,
   "metadata": {},
   "outputs": [
    {
     "name": "stdout",
     "output_type": "stream",
     "text": [
      "92.1 µs ± 16.8 µs per loop (mean ± std. dev. of 7 runs, 10,000 loops each)\n"
     ]
    }
   ],
   "source": [
    "%timeit Puzzle().with_piece(pieces[7], 2, 3)"
   ]
  },
  {
   "cell_type": "code",
   "execution_count": 9,
   "metadata": {},
   "outputs": [
    {
     "name": "stdout",
     "output_type": "stream",
     "text": [
      "Timer unit: 1e-07 s\n",
      "\n",
      "Total time: 0.0004671 s\n",
      "File: C:\\Users\\Vidminas\\AppData\\Local\\Temp\\ipykernel_9708\\642494018.py\n",
      "Function: with_piece at line 36\n",
      "\n",
      "Line #      Hits         Time  Per Hit   % Time  Line Contents\n",
      "==============================================================\n",
      "    36                                             def with_piece(self, piece: Piece, v_offset: int, h_offset: int) -> \"Puzzle\":\n",
      "    37         1         61.0     61.0      1.3      if (v_offset + piece.rows_height > self.ROWS_HEIGHT):\n",
      "    38                                                 return None\n",
      "    39         1         26.0     26.0      0.6      if (h_offset + piece.rows_width > self.ROWS_WIDTH):\n",
      "    40                                                 return None\n",
      "    41         1         25.0     25.0      0.5      if (v_offset + piece.cols_height > self.COLS_HEIGHT):\n",
      "    42                                                 return None\n",
      "    43         1         23.0     23.0      0.5      if (h_offset + piece.cols_width > self.COLS_WIDTH):\n",
      "    44                                                 return None\n",
      "    45                                               \n",
      "    46         1        764.0    764.0     16.4      mask_rows = np.zeros_like(self.rows)\n",
      "    47         1         40.0     40.0      0.9      if piece.rows.size:\n",
      "    48         1        869.0    869.0     18.6        mask_rows[:,h_offset:h_offset+piece.rows.shape[1]] = piece.rows >> v_offset\n",
      "    49                                           \n",
      "    50         1        399.0    399.0      8.5      mask_cols = np.zeros_like(self.cols)\n",
      "    51         1         32.0     32.0      0.7      if piece.cols.size:\n",
      "    52         1        347.0    347.0      7.4        mask_cols[:,h_offset:h_offset+piece.cols.shape[1]] = piece.cols >> v_offset\n",
      "    53                                           \n",
      "    54         1       1154.0   1154.0     24.7      if np.any(np.bitwise_and(self.rows, mask_rows)):\n",
      "    55                                                 return None\n",
      "    56         1        676.0    676.0     14.5      if np.any(np.bitwise_and(self.cols, mask_cols)):\n",
      "    57                                                 return None\n",
      "    58                                           \n",
      "    59         1        115.0    115.0      2.5      np.bitwise_or(self.rows, mask_rows, out=mask_rows)\n",
      "    60         1         47.0     47.0      1.0      np.bitwise_or(self.cols, mask_cols, out=mask_cols)\n",
      "    61                                           \n",
      "    62         1         93.0     93.0      2.0      return Puzzle(mask_rows, mask_cols)"
     ]
    }
   ],
   "source": [
    "%lprun -f Puzzle.with_piece Puzzle().with_piece(pieces[7], 2, 3)"
   ]
  },
  {
   "cell_type": "code",
   "execution_count": 10,
   "metadata": {},
   "outputs": [
    {
     "data": {
      "text/plain": [
       " . . . . .\n",
       ". . . . . .\n",
       " . . . . .\n",
       ". . . . . .\n",
       " . . . . .\n",
       ". . . . . .\n",
       " . . . . .\n",
       ". . . . . .\n",
       " . . . . ."
      ]
     },
     "execution_count": 10,
     "metadata": {},
     "output_type": "execute_result"
    }
   ],
   "source": [
    "Puzzle()"
   ]
  },
  {
   "cell_type": "code",
   "execution_count": 11,
   "metadata": {},
   "outputs": [
    {
     "data": {
      "text/plain": [
       "49"
      ]
     },
     "execution_count": 11,
     "metadata": {},
     "output_type": "execute_result"
    }
   ],
   "source": [
    "Puzzle().spaces_left()"
   ]
  },
  {
   "cell_type": "code",
   "execution_count": 12,
   "metadata": {},
   "outputs": [
    {
     "data": {
      "text/plain": [
       " . . . . .\n",
       ". . . . . .\n",
       " . . . . .\n",
       ". . . . . .\n",
       " . . . . .\n",
       ". . . . . .\n",
       " . . . . -\n",
       ". . . . | |\n",
       " . . . . -"
      ]
     },
     "execution_count": 12,
     "metadata": {},
     "output_type": "execute_result"
    }
   ],
   "source": [
    "Puzzle().with_piece(pieces[0], 3, 4)"
   ]
  },
  {
   "cell_type": "code",
   "execution_count": 13,
   "metadata": {},
   "outputs": [
    {
     "data": {
      "text/plain": [
       " - - . . .\n",
       "| . . . . .\n",
       " . . . . .\n",
       ". . . . . .\n",
       " . . . . .\n",
       ". . . . . .\n",
       " . . . . .\n",
       ". . . . . .\n",
       " . . . . ."
      ]
     },
     "execution_count": 13,
     "metadata": {},
     "output_type": "execute_result"
    }
   ],
   "source": [
    "Puzzle().with_piece(pieces[7].rotated(), 0, 0)"
   ]
  },
  {
   "cell_type": "code",
   "execution_count": 14,
   "metadata": {},
   "outputs": [
    {
     "data": {
      "text/plain": [
       " - - - . .\n",
       ". | | . . .\n",
       " - - . . .\n",
       ". | . . . .\n",
       " - . . . .\n",
       ". . . . . .\n",
       " . . . . .\n",
       ". . . . . .\n",
       " . . . . ."
      ]
     },
     "execution_count": 14,
     "metadata": {},
     "output_type": "execute_result"
    }
   ],
   "source": [
    "Puzzle().with_piece(pieces[3], 0, 0).with_piece(pieces[4].rotated(), 0, 1)"
   ]
  },
  {
   "cell_type": "code",
   "execution_count": 15,
   "metadata": {},
   "outputs": [
    {
     "data": {
      "text/plain": [
       " . . . . .\n",
       ". . . . . .\n",
       " . - . . .\n",
       "| | | . . .\n",
       " - - . . .\n",
       ". . . . . .\n",
       " . . . . .\n",
       ". . . . . .\n",
       " . . . . ."
      ]
     },
     "execution_count": 15,
     "metadata": {},
     "output_type": "execute_result"
    }
   ],
   "source": [
    "Puzzle().with_piece(pieces[9].rotated().rotated().rotated(), 1, 0)"
   ]
  },
  {
   "cell_type": "code",
   "execution_count": 16,
   "metadata": {},
   "outputs": [],
   "source": [
    "# larger pieces ordered first, as this prunes more candidate solutions\n",
    "pieces_order = (8, 9, 6, 5, 2, 0, 4, 3, 7, 1)\n",
    "bad_puzzles = set()\n",
    "\n",
    "# pick a puzzle piece\n",
    "# choose rotation\n",
    "# find top-left free corner\n",
    "# put piece if it fits\n",
    "# check if solved\n",
    "def attempt(puzzle: Puzzle, used_pieces: dict[int, tuple]):\n",
    "  if puzzle in bad_puzzles:\n",
    "    return None\n",
    "  if puzzle.spaces_left() == 2:\n",
    "    return puzzle, used_pieces\n",
    "  \n",
    "  for i in pieces_order:\n",
    "    if i in used_pieces:\n",
    "      continue\n",
    "\n",
    "    for rotation in pieces[i].rotations():\n",
    "      for row in range(0, puzzle.ROWS_WIDTH):\n",
    "        for col in range(0, puzzle.COLS_WIDTH):\n",
    "          candidate = puzzle.with_piece(rotation, row, col)\n",
    "    \n",
    "          if candidate is not None:\n",
    "            if candidate in bad_puzzles:\n",
    "              continue\n",
    "\n",
    "            candidate_used_pieces = used_pieces.copy()\n",
    "            candidate_used_pieces[i] = (rotation, row, col)\n",
    "            result = attempt(candidate, candidate_used_pieces)\n",
    "            if result is not None:\n",
    "              return result\n",
    "\n",
    "  bad_puzzles.add(puzzle)\n",
    "  return None"
   ]
  },
  {
   "cell_type": "code",
   "execution_count": 17,
   "metadata": {},
   "outputs": [
    {
     "name": "stdout",
     "output_type": "stream",
     "text": [
      "*** KeyboardInterrupt exception caught in code being profiled."
     ]
    },
    {
     "name": "stdout",
     "output_type": "stream",
     "text": [
      "Timer unit: 1e-07 s\n",
      "\n",
      "Total time: 58.6866 s\n",
      "File: C:\\Users\\Vidminas\\AppData\\Local\\Temp\\ipykernel_9708\\3463616618.py\n",
      "Function: attempt at line 10\n",
      "\n",
      "Line #      Hits         Time  Per Hit   % Time  Line Contents\n",
      "==============================================================\n",
      "    10                                           def attempt(puzzle: Puzzle, used_pieces: dict[int, tuple]):\n",
      "    11      3401     556777.0    163.7      0.1    if puzzle in bad_puzzles:\n",
      "    12                                               return None\n",
      "    13      3401    1893581.0    556.8      0.3    if puzzle.spaces_left() == 2:\n",
      "    14                                               return puzzle, used_pieces\n",
      "    15                                             \n",
      "    16     37367     318289.0      8.5      0.1    for i in pieces_order:\n",
      "    17     33974     382145.0     11.2      0.1      if i in used_pieces:\n",
      "    18     23761     127179.0      5.4      0.0        continue\n",
      "    19                                           \n",
      "    20     39414    3485531.0     88.4      0.6      for rotation in pieces[i].rotations():\n",
      "    21    175224    1678435.0      9.6      0.3        for row in range(0, puzzle.ROWS_WIDTH):\n",
      "    22   1022123   12231682.0     12.0      2.1          for col in range(0, puzzle.COLS_WIDTH):\n",
      "    23    876108  550766654.0    628.7     93.8            candidate = puzzle.with_piece(rotation, row, col)\n",
      "    24                                               \n",
      "    25    876107    7516083.0      8.6      1.3            if candidate is not None:\n",
      "    26      9834    6360547.0    646.8      1.1              if candidate in bad_puzzles:\n",
      "    27      6434      51400.0      8.0      0.0                continue\n",
      "    28                                           \n",
      "    29      3400      98273.0     28.9      0.0              candidate_used_pieces = used_pieces.copy()\n",
      "    30      3400      81101.0     23.9      0.0              candidate_used_pieces[i] = (rotation, row, col)\n",
      "    31      3400     107150.0     31.5      0.0              result = attempt(candidate, candidate_used_pieces)\n",
      "    32      3393      51021.0     15.0      0.0              if result is not None:\n",
      "    33                                                         return result\n",
      "    34                                           \n",
      "    35      3393    1130751.0    333.3      0.2    bad_puzzles.add(puzzle)\n",
      "    36      3393      29111.0      8.6      0.0    return None"
     ]
    }
   ],
   "source": [
    "# A blank start does not have a unique solution, so this is just for profiling\n",
    "# Interrupt manually after it runs for about a minute\n",
    "%lprun -f attempt attempt(Puzzle(), {})"
   ]
  },
  {
   "cell_type": "code",
   "execution_count": 18,
   "metadata": {},
   "outputs": [
    {
     "name": "stdout",
     "output_type": "stream",
     "text": [
      " . - - - -\n",
      ". . | | | |\n",
      " . - - - -\n",
      ". . | | | |\n",
      " . - . - .\n",
      "| | . . . |\n",
      " . - . - .\n",
      "| | | | | .\n",
      " . - - - .\n",
      "\n",
      " - - - - -\n",
      "| | | | | |\n",
      " - - - - -\n",
      "| | | | | |\n",
      " - - - - -\n",
      "| | | | | |\n",
      " . - - - -\n",
      "| | | | | |\n",
      " . - - - -\n"
     ]
    }
   ],
   "source": [
    "# Puzzle 1 - Starter\n",
    "bad_puzzles = set()\n",
    "puzzle1_config = {\n",
    "  1: (pieces[1], 2, 0),\n",
    "  2: (pieces[2].rotated(), 1, 2),\n",
    "  3: (pieces[3].rotated().rotated(), 2, 1),\n",
    "  4: (pieces[4].rotated(), 0, 1),\n",
    "  6: (pieces[6].rotated(), 3, 2),\n",
    "  7: (pieces[7], 1, 4),\n",
    "  9: (pieces[9].rotated(), 0, 3),\n",
    "}\n",
    "puzzle1 = Puzzle()\n",
    "for starting_piece, v_offset, h_offset in puzzle1_config.values():\n",
    "  puzzle1 = puzzle1.with_piece(starting_piece, v_offset, h_offset)\n",
    "print(puzzle1)\n",
    "print()\n",
    "\n",
    "solution1 = attempt(puzzle1, puzzle1_config)\n",
    "assert solution1 is not None\n",
    "print(solution1[0])\n",
    "assert solution1[1][8] == (pieces[8], 0, 0)\n",
    "assert solution1[1][5] == (pieces[5], 2, 4)\n",
    "assert solution1[1][0] == (pieces[0], 2, 2)"
   ]
  },
  {
   "cell_type": "code",
   "execution_count": 19,
   "metadata": {},
   "outputs": [
    {
     "name": "stdout",
     "output_type": "stream",
     "text": [
      " - - - - -\n",
      "| | | | | |\n",
      " - - - - -\n",
      "| | | | | |\n",
      " - - - - -\n",
      "| | | | | |\n",
      " - - - . -\n",
      ". . . . . .\n",
      " . . . . .\n",
      "\n",
      " - - - - -\n",
      "| | | | | |\n",
      " - - - - -\n",
      "| | | | | |\n",
      " - - - - -\n",
      "| | | | | |\n",
      " - - - - -\n",
      ". . | | | |\n",
      " - - - - -\n"
     ]
    }
   ],
   "source": [
    "# Puzzle 2 - Starter\n",
    "bad_puzzles = set()\n",
    "puzzle2_config = {\n",
    "  8: (pieces[8], 0, 0),\n",
    "  4: (pieces[4].rotated(), 0, 1),\n",
    "  3: (pieces[3].rotated(), 0, 3),\n",
    "  9: (pieces[9].rotated().rotated().rotated(), 2, 0),\n",
    "  5: (pieces[5], 1, 2),\n",
    "  6: (pieces[6].rotated().rotated().rotated(), 1, 3),\n",
    "  0: (pieces[0], 2, 4),\n",
    "}\n",
    "puzzle2 = Puzzle()\n",
    "for starting_piece, v_offset, h_offset in puzzle2_config.values():\n",
    "  puzzle2 = puzzle2.with_piece(starting_piece, v_offset, h_offset)\n",
    "print(puzzle2)\n",
    "print()\n",
    "\n",
    "solution2 = attempt(puzzle2, puzzle2_config)\n",
    "assert solution2 is not None\n",
    "print(solution2[0])\n",
    "assert solution2[1][7] == (pieces[7].rotated().rotated().rotated(), 3, 0)\n",
    "assert solution2[1][1] == (pieces[1].rotated(), 4, 2)\n",
    "assert solution2[1][2] == (pieces[2].rotated(), 3, 3)"
   ]
  },
  {
   "cell_type": "code",
   "execution_count": 20,
   "metadata": {},
   "outputs": [
    {
     "name": "stdout",
     "output_type": "stream",
     "text": [
      " . . . . .\n",
      ". . . . . .\n",
      " . . . . .\n",
      ". . . . . .\n",
      " - - - . -\n",
      "| | | | | .\n",
      " - - - - -\n",
      "| | | | | |\n",
      " - - - - -\n",
      "\n"
     ]
    },
    {
     "name": "stdout",
     "output_type": "stream",
     "text": [
      " - - . - -\n",
      "| | | | | |\n",
      " - - - - -\n",
      "| . | | | |\n",
      " - - - - -\n",
      "| | | | | |\n",
      " - - - - -\n",
      "| | | | | |\n",
      " - - - - -\n"
     ]
    }
   ],
   "source": [
    "# Puzzle 10 - Starter\n",
    "bad_puzzles = set()\n",
    "puzzle10_config = {\n",
    "  6: (pieces[6], 2, 0),\n",
    "  9: (pieces[9].rotated(), 2, 1),\n",
    "  4: (pieces[4].rotated().rotated().rotated(), 3, 1),\n",
    "  0: (pieces[0], 3, 3),\n",
    "  5: (pieces[5], 2, 4),\n",
    "}\n",
    "puzzle10 = Puzzle()\n",
    "for starting_piece, v_offset, h_offset in puzzle10_config.values():\n",
    "  puzzle10 = puzzle10.with_piece(starting_piece, v_offset, h_offset)\n",
    "print(puzzle10)\n",
    "print()\n",
    "\n",
    "solution10 = attempt(puzzle10, puzzle10_config)\n",
    "assert solution10 is not None\n",
    "print(solution10[0])\n",
    "assert solution10[1][3] == (pieces[3].rotated(), 0, 0)\n",
    "assert solution10[1][8] == (pieces[8].rotated(), 0, 3)\n",
    "assert solution10[1][7] == (pieces[7].rotated(), 1, 0)\n",
    "assert solution10[1][2] == (pieces[2].rotated(), 1, 2)\n",
    "assert solution10[1][1] == (pieces[1], 1, 5)"
   ]
  },
  {
   "cell_type": "code",
   "execution_count": 21,
   "metadata": {},
   "outputs": [
    {
     "name": "stdout",
     "output_type": "stream",
     "text": [
      " . . . . -\n",
      ". . . | | |\n",
      " . . . - -\n",
      ". . . . . .\n",
      " - . - - .\n",
      ". | | | | .\n",
      " - . - - .\n",
      "| . . . . .\n",
      " - . . . .\n",
      "\n",
      " - - - - -\n",
      "| | | | | |\n",
      " - - - - -\n",
      "| | | | | |\n",
      " - - - - -\n",
      ". | | | | |\n",
      " - - - - -\n",
      "| | | | | |\n",
      " - - . - -\n"
     ]
    }
   ],
   "source": [
    "# Puzzle 16 - Starter\n",
    "bad_puzzles = set()\n",
    "puzzle16_config = {\n",
    "  2: (pieces[2], 2, 0),\n",
    "  8: (pieces[8].rotated(), 2, 2),\n",
    "  9: (pieces[9].rotated().rotated().rotated(), 0, 3),\n",
    "}\n",
    "puzzle16 = Puzzle()\n",
    "for starting_piece, v_offset, h_offset in puzzle16_config.values():\n",
    "  puzzle16 = puzzle16.with_piece(starting_piece, v_offset, h_offset)\n",
    "print(puzzle16)\n",
    "print()\n",
    "\n",
    "solution16 = attempt(puzzle16, puzzle16_config)\n",
    "assert solution16 is not None\n",
    "print(solution16[0])\n",
    "assert solution16[1][3] == (pieces[3].rotated(), 0, 0)\n",
    "assert solution16[1][1] == (pieces[1].rotated(), 0, 2)\n",
    "assert solution16[1][7] == (pieces[7].rotated(), 1, 0)\n",
    "assert solution16[1][5] == (pieces[5].rotated(), 1, 1)\n",
    "assert solution16[1][4] == (pieces[4], 1, 4)\n",
    "assert solution16[1][0] == (pieces[0], 3, 1)\n",
    "assert solution16[1][6] == (pieces[6].rotated(), 3, 3)"
   ]
  },
  {
   "cell_type": "code",
   "execution_count": 22,
   "metadata": {},
   "outputs": [
    {
     "name": "stdout",
     "output_type": "stream",
     "text": [
      " - . . - -\n",
      "| . . | | |\n",
      " - . . . .\n",
      "| | . . . .\n",
      " - . . . -\n",
      ". . . . | .\n",
      " - - . . -\n",
      ". | . . . |\n",
      " - . . . -\n",
      "\n"
     ]
    },
    {
     "name": "stdout",
     "output_type": "stream",
     "text": [
      " - - . - -\n",
      "| | | | | |\n",
      " - - - - -\n",
      "| | | | | |\n",
      " - - - - -\n",
      "| | | | | |\n",
      " - - - - -\n",
      "| | | | | |\n",
      " - . - - -\n"
     ]
    }
   ],
   "source": [
    "# Puzzle 112 - Master\n",
    "bad_puzzles = set()\n",
    "puzzle112_config = {\n",
    "  6: (pieces[6], 0, 0),\n",
    "  3: (pieces[3].rotated(), 0, 3),\n",
    "  4: (pieces[4].rotated(), 3, 0),\n",
    "  5: (pieces[5], 2, 4)\n",
    "}\n",
    "puzzle112 = Puzzle()\n",
    "for starting_piece, v_offset, h_offset in puzzle112_config.values():\n",
    "  puzzle112 = puzzle112.with_piece(starting_piece, v_offset, h_offset)\n",
    "print(puzzle112)\n",
    "print()\n",
    "\n",
    "solution112 = attempt(puzzle112, puzzle112_config)\n",
    "assert solution112 is not None\n",
    "print(solution112[0])\n",
    "assert solution112[1][0] == (pieces[0], 0, 1)\n",
    "assert solution112[1][8] == (pieces[8].rotated(), 1, 2)\n",
    "assert solution112[1][1] == (pieces[1], 2, 0)\n",
    "assert solution112[1][2] == (pieces[2].rotated(), 2, 1)\n",
    "assert solution112[1][7] == (pieces[7], 1, 4)\n",
    "assert solution112[1][9] == (pieces[9].rotated().rotated().rotated(), 3, 2)"
   ]
  },
  {
   "cell_type": "code",
   "execution_count": 23,
   "metadata": {},
   "outputs": [
    {
     "name": "stdout",
     "output_type": "stream",
     "text": [
      " . . . . .\n",
      ". . . . . .\n",
      " . - . . .\n",
      "| | | . . .\n",
      " - - . . .\n",
      ". . . . . .\n",
      " . . . . .\n",
      ". . . . . .\n",
      " . . . . .\n",
      "\n"
     ]
    },
    {
     "ename": "KeyboardInterrupt",
     "evalue": "",
     "output_type": "error",
     "traceback": [
      "\u001b[1;31m---------------------------------------------------------------------------\u001b[0m",
      "\u001b[1;31mKeyboardInterrupt\u001b[0m                         Traceback (most recent call last)",
      "Cell \u001b[1;32mIn[23], line 8\u001b[0m\n\u001b[0;32m      5\u001b[0m \u001b[38;5;28mprint\u001b[39m(puzzle120)\n\u001b[0;32m      6\u001b[0m \u001b[38;5;28mprint\u001b[39m()\n\u001b[1;32m----> 8\u001b[0m solution120 \u001b[38;5;241m=\u001b[39m \u001b[43mattempt\u001b[49m\u001b[43m(\u001b[49m\u001b[43mpuzzle120\u001b[49m\u001b[43m,\u001b[49m\u001b[43m \u001b[49m\u001b[43m{\u001b[49m\u001b[38;5;241;43m9\u001b[39;49m\u001b[43m:\u001b[49m\u001b[43m \u001b[49m\u001b[43m(\u001b[49m\u001b[43mrot9\u001b[49m\u001b[43m,\u001b[49m\u001b[43m \u001b[49m\u001b[38;5;241;43m1\u001b[39;49m\u001b[43m,\u001b[49m\u001b[43m \u001b[49m\u001b[38;5;241;43m0\u001b[39;49m\u001b[43m)\u001b[49m\u001b[43m}\u001b[49m\u001b[43m)\u001b[49m\n\u001b[0;32m      9\u001b[0m \u001b[38;5;28;01massert\u001b[39;00m solution120 \u001b[38;5;129;01mis\u001b[39;00m \u001b[38;5;129;01mnot\u001b[39;00m \u001b[38;5;28;01mNone\u001b[39;00m\n\u001b[0;32m     10\u001b[0m \u001b[38;5;28mprint\u001b[39m(solution120[\u001b[38;5;241m0\u001b[39m])\n",
      "Cell \u001b[1;32mIn[16], line 31\u001b[0m, in \u001b[0;36mattempt\u001b[1;34m(puzzle, used_pieces)\u001b[0m\n\u001b[0;32m     29\u001b[0m candidate_used_pieces \u001b[38;5;241m=\u001b[39m used_pieces\u001b[38;5;241m.\u001b[39mcopy()\n\u001b[0;32m     30\u001b[0m candidate_used_pieces[i] \u001b[38;5;241m=\u001b[39m (rotation, row, col)\n\u001b[1;32m---> 31\u001b[0m result \u001b[38;5;241m=\u001b[39m \u001b[43mattempt\u001b[49m\u001b[43m(\u001b[49m\u001b[43mcandidate\u001b[49m\u001b[43m,\u001b[49m\u001b[43m \u001b[49m\u001b[43mcandidate_used_pieces\u001b[49m\u001b[43m)\u001b[49m\n\u001b[0;32m     32\u001b[0m \u001b[38;5;28;01mif\u001b[39;00m result \u001b[38;5;129;01mis\u001b[39;00m \u001b[38;5;129;01mnot\u001b[39;00m \u001b[38;5;28;01mNone\u001b[39;00m:\n\u001b[0;32m     33\u001b[0m   \u001b[38;5;28;01mreturn\u001b[39;00m result\n",
      "Cell \u001b[1;32mIn[16], line 31\u001b[0m, in \u001b[0;36mattempt\u001b[1;34m(puzzle, used_pieces)\u001b[0m\n\u001b[0;32m     29\u001b[0m candidate_used_pieces \u001b[38;5;241m=\u001b[39m used_pieces\u001b[38;5;241m.\u001b[39mcopy()\n\u001b[0;32m     30\u001b[0m candidate_used_pieces[i] \u001b[38;5;241m=\u001b[39m (rotation, row, col)\n\u001b[1;32m---> 31\u001b[0m result \u001b[38;5;241m=\u001b[39m \u001b[43mattempt\u001b[49m\u001b[43m(\u001b[49m\u001b[43mcandidate\u001b[49m\u001b[43m,\u001b[49m\u001b[43m \u001b[49m\u001b[43mcandidate_used_pieces\u001b[49m\u001b[43m)\u001b[49m\n\u001b[0;32m     32\u001b[0m \u001b[38;5;28;01mif\u001b[39;00m result \u001b[38;5;129;01mis\u001b[39;00m \u001b[38;5;129;01mnot\u001b[39;00m \u001b[38;5;28;01mNone\u001b[39;00m:\n\u001b[0;32m     33\u001b[0m   \u001b[38;5;28;01mreturn\u001b[39;00m result\n",
      "    \u001b[1;31m[... skipping similar frames: attempt at line 31 (3 times)]\u001b[0m\n",
      "Cell \u001b[1;32mIn[16], line 31\u001b[0m, in \u001b[0;36mattempt\u001b[1;34m(puzzle, used_pieces)\u001b[0m\n\u001b[0;32m     29\u001b[0m candidate_used_pieces \u001b[38;5;241m=\u001b[39m used_pieces\u001b[38;5;241m.\u001b[39mcopy()\n\u001b[0;32m     30\u001b[0m candidate_used_pieces[i] \u001b[38;5;241m=\u001b[39m (rotation, row, col)\n\u001b[1;32m---> 31\u001b[0m result \u001b[38;5;241m=\u001b[39m \u001b[43mattempt\u001b[49m\u001b[43m(\u001b[49m\u001b[43mcandidate\u001b[49m\u001b[43m,\u001b[49m\u001b[43m \u001b[49m\u001b[43mcandidate_used_pieces\u001b[49m\u001b[43m)\u001b[49m\n\u001b[0;32m     32\u001b[0m \u001b[38;5;28;01mif\u001b[39;00m result \u001b[38;5;129;01mis\u001b[39;00m \u001b[38;5;129;01mnot\u001b[39;00m \u001b[38;5;28;01mNone\u001b[39;00m:\n\u001b[0;32m     33\u001b[0m   \u001b[38;5;28;01mreturn\u001b[39;00m result\n",
      "Cell \u001b[1;32mIn[16], line 23\u001b[0m, in \u001b[0;36mattempt\u001b[1;34m(puzzle, used_pieces)\u001b[0m\n\u001b[0;32m     21\u001b[0m \u001b[38;5;28;01mfor\u001b[39;00m row \u001b[38;5;129;01min\u001b[39;00m \u001b[38;5;28mrange\u001b[39m(\u001b[38;5;241m0\u001b[39m, puzzle\u001b[38;5;241m.\u001b[39mROWS_WIDTH):\n\u001b[0;32m     22\u001b[0m   \u001b[38;5;28;01mfor\u001b[39;00m col \u001b[38;5;129;01min\u001b[39;00m \u001b[38;5;28mrange\u001b[39m(\u001b[38;5;241m0\u001b[39m, puzzle\u001b[38;5;241m.\u001b[39mCOLS_WIDTH):\n\u001b[1;32m---> 23\u001b[0m     candidate \u001b[38;5;241m=\u001b[39m \u001b[43mpuzzle\u001b[49m\u001b[38;5;241;43m.\u001b[39;49m\u001b[43mwith_piece\u001b[49m\u001b[43m(\u001b[49m\u001b[43mrotation\u001b[49m\u001b[43m,\u001b[49m\u001b[43m \u001b[49m\u001b[43mrow\u001b[49m\u001b[43m,\u001b[49m\u001b[43m \u001b[49m\u001b[43mcol\u001b[49m\u001b[43m)\u001b[49m\n\u001b[0;32m     25\u001b[0m     \u001b[38;5;28;01mif\u001b[39;00m candidate \u001b[38;5;129;01mis\u001b[39;00m \u001b[38;5;129;01mnot\u001b[39;00m \u001b[38;5;28;01mNone\u001b[39;00m:\n\u001b[0;32m     26\u001b[0m       \u001b[38;5;28;01mif\u001b[39;00m candidate \u001b[38;5;129;01min\u001b[39;00m bad_puzzles:\n",
      "Cell \u001b[1;32mIn[7], line 50\u001b[0m, in \u001b[0;36mPuzzle.with_piece\u001b[1;34m(self, piece, v_offset, h_offset)\u001b[0m\n\u001b[0;32m     47\u001b[0m \u001b[38;5;28;01mif\u001b[39;00m piece\u001b[38;5;241m.\u001b[39mrows\u001b[38;5;241m.\u001b[39msize:\n\u001b[0;32m     48\u001b[0m   mask_rows[:,h_offset:h_offset\u001b[38;5;241m+\u001b[39mpiece\u001b[38;5;241m.\u001b[39mrows\u001b[38;5;241m.\u001b[39mshape[\u001b[38;5;241m1\u001b[39m]] \u001b[38;5;241m=\u001b[39m piece\u001b[38;5;241m.\u001b[39mrows \u001b[38;5;241m>>\u001b[39m v_offset\n\u001b[1;32m---> 50\u001b[0m mask_cols \u001b[38;5;241m=\u001b[39m \u001b[43mnp\u001b[49m\u001b[38;5;241;43m.\u001b[39;49m\u001b[43mzeros_like\u001b[49m\u001b[43m(\u001b[49m\u001b[38;5;28;43mself\u001b[39;49m\u001b[38;5;241;43m.\u001b[39;49m\u001b[43mcols\u001b[49m\u001b[43m)\u001b[49m\n\u001b[0;32m     51\u001b[0m \u001b[38;5;28;01mif\u001b[39;00m piece\u001b[38;5;241m.\u001b[39mcols\u001b[38;5;241m.\u001b[39msize:\n\u001b[0;32m     52\u001b[0m   mask_cols[:,h_offset:h_offset\u001b[38;5;241m+\u001b[39mpiece\u001b[38;5;241m.\u001b[39mcols\u001b[38;5;241m.\u001b[39mshape[\u001b[38;5;241m1\u001b[39m]] \u001b[38;5;241m=\u001b[39m piece\u001b[38;5;241m.\u001b[39mcols \u001b[38;5;241m>>\u001b[39m v_offset\n",
      "File \u001b[1;32mc:\\Users\\Vidminas\\.conda\\envs\\inf1b-ptas\\Lib\\site-packages\\numpy\\core\\numeric.py:132\u001b[0m, in \u001b[0;36mzeros_like\u001b[1;34m(a, dtype, order, subok, shape)\u001b[0m\n\u001b[0;32m    130\u001b[0m \u001b[38;5;66;03m# needed instead of a 0 to get same result as zeros for string dtypes\u001b[39;00m\n\u001b[0;32m    131\u001b[0m z \u001b[38;5;241m=\u001b[39m zeros(\u001b[38;5;241m1\u001b[39m, dtype\u001b[38;5;241m=\u001b[39mres\u001b[38;5;241m.\u001b[39mdtype)\n\u001b[1;32m--> 132\u001b[0m \u001b[43mmultiarray\u001b[49m\u001b[38;5;241;43m.\u001b[39;49m\u001b[43mcopyto\u001b[49m\u001b[43m(\u001b[49m\u001b[43mres\u001b[49m\u001b[43m,\u001b[49m\u001b[43m \u001b[49m\u001b[43mz\u001b[49m\u001b[43m,\u001b[49m\u001b[43m \u001b[49m\u001b[43mcasting\u001b[49m\u001b[38;5;241;43m=\u001b[39;49m\u001b[38;5;124;43m'\u001b[39;49m\u001b[38;5;124;43munsafe\u001b[39;49m\u001b[38;5;124;43m'\u001b[39;49m\u001b[43m)\u001b[49m\n\u001b[0;32m    133\u001b[0m \u001b[38;5;28;01mreturn\u001b[39;00m res\n",
      "\u001b[1;31mKeyboardInterrupt\u001b[0m: "
     ]
    }
   ],
   "source": [
    "# Puzzle 120 - Master\n",
    "bad_puzzles = set()\n",
    "rot9 = pieces[9].rotated().rotated().rotated()\n",
    "puzzle120 = Puzzle().with_piece(rot9, 1, 0)\n",
    "print(puzzle120)\n",
    "print()\n",
    "\n",
    "solution120 = attempt(puzzle120, {9: (rot9, 1, 0)})\n",
    "assert solution120 is not None\n",
    "print(solution120[0])\n",
    "# total bad solutions = 11115514"
   ]
  },
  {
   "cell_type": "code",
   "execution_count": 24,
   "metadata": {},
   "outputs": [
    {
     "data": {
      "text/plain": [
       "6570"
      ]
     },
     "execution_count": 24,
     "metadata": {},
     "output_type": "execute_result"
    }
   ],
   "source": [
    "len(bad_puzzles)"
   ]
  },
  {
   "cell_type": "code",
   "execution_count": 25,
   "metadata": {},
   "outputs": [
    {
     "data": {
      "text/plain": [
       " - - . - .\n",
       "| | | | | .\n",
       " - - . - .\n",
       "| | | | | .\n",
       " - - . - -\n",
       "| | | . | .\n",
       " . - . . -\n",
       "| . | | . |\n",
       " . - - . -"
      ]
     },
     "execution_count": 25,
     "metadata": {},
     "output_type": "execute_result"
    }
   ],
   "source": [
    "next(iter(bad_puzzles))"
   ]
  }
 ],
 "metadata": {
  "kernelspec": {
   "display_name": "inf1b-ptas",
   "language": "python",
   "name": "python3"
  },
  "language_info": {
   "codemirror_mode": {
    "name": "ipython",
    "version": 3
   },
   "file_extension": ".py",
   "mimetype": "text/x-python",
   "name": "python",
   "nbconvert_exporter": "python",
   "pygments_lexer": "ipython3",
   "version": "3.11.3"
  }
 },
 "nbformat": 4,
 "nbformat_minor": 2
}
