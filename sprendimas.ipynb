{
 "cells": [
  {
   "cell_type": "code",
   "execution_count": 2,
   "metadata": {},
   "outputs": [],
   "source": [
    "import numpy as np\n",
    "from functools import cache\n",
    "from itertools import zip_longest\n",
    "import sys\n",
    "\n",
    "%load_ext line_profiler"
   ]
  },
  {
   "cell_type": "code",
   "execution_count": 3,
   "metadata": {},
   "outputs": [
    {
     "name": "stdout",
     "output_type": "stream",
     "text": [
      "129\n"
     ]
    }
   ],
   "source": [
    "class Piece():\n",
    "  rows: np.ndarray[np.uint8, np.uint8]\n",
    "  cols: np.ndarray[np.uint8, np.uint8]\n",
    "  rows_height: int\n",
    "  rows_width: int\n",
    "  cols_height: int\n",
    "  cols_width: int\n",
    "\n",
    "  def __init__(self, rows: tuple[tuple[bool]] | np.ndarray[np.uint8, np.uint8], cols: tuple[tuple[bool]] | np.ndarray[np.uint8, np.uint8]):\n",
    "    rows = np.asarray(rows)\n",
    "    cols = np.asarray(cols)\n",
    "\n",
    "    # Trim piece to size\n",
    "    while rows.size and ~np.any(rows[-1]) and cols.size and ~np.any(cols[-1]):\n",
    "       rows = rows[:-1]\n",
    "       cols = cols[:-1]\n",
    "\n",
    "    while rows.size and ~np.any(rows[:,-1]) and cols.size and ~np.any(cols[:,-1]):\n",
    "       rows = rows[:,:-1]\n",
    "       cols = cols[:,:-1]\n",
    "    \n",
    "    # Edge case: when all rows or cols are trimmed from one side\n",
    "    self.rows_height = 0 if not rows.size else rows.shape[0]\n",
    "    self.rows_width = 0 if not rows.size else rows.shape[1]\n",
    "    self.cols_height = 0 if not cols.size else cols.shape[0]\n",
    "    self.cols_width = 0 if not cols.size else cols.shape[1]\n",
    "    self.rows = np.packbits(rows, axis=0)\n",
    "    self.cols = np.packbits(cols, axis=0)\n",
    "\n",
    "  def __repr__(self):\n",
    "    rows = np.unpackbits(self.rows, axis=0, count=self.rows_height)\n",
    "    cols = np.unpackbits(self.cols, axis=0, count=self.cols_height)\n",
    "    buffer = []\n",
    "    for row, col in zip_longest(rows, cols):\n",
    "        if row is not None:\n",
    "          buffer.append(\" \" + \" \".join('-' if elem else ' ' for elem in row))\n",
    "        if col is not None:\n",
    "          buffer.append(\" \".join('|' if elem else ' ' for elem in col))\n",
    "    return \"\\n\".join(buffer)\n",
    "  \n",
    "  def __hash__(self):\n",
    "     return hash((tuple(self.rows.flatten()), tuple(self.cols.flatten())))\n",
    "\n",
    "  def __eq__(self, other):\n",
    "      if isinstance(other, Piece):\n",
    "          return np.array_equal(self.rows, other.rows) and np.array_equal(self.cols, other.cols)\n",
    "      return NotImplemented\n",
    "    \n",
    "  def rotated(self):\n",
    "    unpacked_rows = np.unpackbits(self.rows, axis=0, count=self.rows_height)\n",
    "    unpacked_columns = np.unpackbits(self.cols, axis=0, count=self.cols_height)\n",
    "\n",
    "    rows = np.rot90(unpacked_columns, 1)\n",
    "    cols = np.rot90(unpacked_rows, 1)\n",
    "\n",
    "    while rows.size and ~np.any(rows[0]) and cols.size and ~np.any(cols[0]):\n",
    "      # top row is empty, so we can shift digit up\n",
    "      rows = np.roll(rows, -1, 0)\n",
    "      cols = np.roll(cols, -1, 0)\n",
    "\n",
    "    return Piece(rows, cols)\n",
    "  \n",
    "  @cache\n",
    "  def rotations(self):\n",
    "    a = self\n",
    "    b = a.rotated()\n",
    "    c = b.rotated()\n",
    "    d = c.rotated()\n",
    "    return set((a, b, c, d))\n",
    "\n",
    "pieces = [\n",
    "  Piece(rows=((True, False), (True, False), (False, False)), cols=((True, True, False), (False, False, False))),\n",
    "  Piece(rows=((False, False), (False, False), (False, False)), cols=((True, False, False), (True, False, False))),\n",
    "  Piece(rows=((True, False), (True, False), (True, False)), cols=((False, True, False), (True, False, False))),\n",
    "  Piece(rows=((True, False), (True, False), (True, False)), cols=((False, True, False), (False, True, False))),\n",
    "  Piece(rows=((False, False), (True, False), (False, False)), cols=((True, True, False), (False, True, False))),\n",
    "  Piece(rows=((True, False), (True, False), (True, False)), cols=((True, False, False), (False, True, False))),\n",
    "  Piece(rows=((True, False), (True, False), (True, False)), cols=((True, False, False), (True, True, False))),\n",
    "  Piece(rows=((True, False), (False, False), (False, False)), cols=((False, True, False), (False, True, False))),\n",
    "  Piece(rows=((True, False), (True, False), (True, False)), cols=((True, True, False), (True, True, False))),\n",
    "  Piece(rows=((True, False), (True, False), (True, False)), cols=((True, True, False), (False, True, False))),\n",
    "]\n",
    "\n",
    "print(sys.getsizeof(pieces[0].rows))"
   ]
  },
  {
   "cell_type": "code",
   "execution_count": 4,
   "metadata": {},
   "outputs": [
    {
     "data": {
      "text/plain": [
       " -\n",
       "| |\n",
       " -"
      ]
     },
     "execution_count": 4,
     "metadata": {},
     "output_type": "execute_result"
    }
   ],
   "source": [
    "pieces[0]"
   ]
  },
  {
   "cell_type": "code",
   "execution_count": 5,
   "metadata": {},
   "outputs": [
    {
     "data": {
      "text/plain": [
       "|\n",
       "|"
      ]
     },
     "execution_count": 5,
     "metadata": {},
     "output_type": "execute_result"
    }
   ],
   "source": [
    "pieces[1]"
   ]
  },
  {
   "cell_type": "code",
   "execution_count": 6,
   "metadata": {},
   "outputs": [
    {
     "data": {
      "text/plain": [
       "{   -\n",
       " | | |\n",
       "  - -,\n",
       "  -\n",
       " |  \n",
       "  -\n",
       " | |\n",
       "  -,\n",
       "  -\n",
       " | |\n",
       "  -\n",
       "   |\n",
       "  -,\n",
       "  - -\n",
       " | | |\n",
       "  -  }"
      ]
     },
     "execution_count": 6,
     "metadata": {},
     "output_type": "execute_result"
    }
   ],
   "source": [
    "pieces[9].rotations()"
   ]
  },
  {
   "cell_type": "code",
   "execution_count": 7,
   "metadata": {},
   "outputs": [
    {
     "data": {
      "text/plain": [
       "{ -\n",
       " | |\n",
       "  -}"
      ]
     },
     "execution_count": 7,
     "metadata": {},
     "output_type": "execute_result"
    }
   ],
   "source": [
    "pieces[0].rotations()"
   ]
  },
  {
   "cell_type": "code",
   "execution_count": 8,
   "metadata": {},
   "outputs": [],
   "source": [
    "class Puzzle():\n",
    "  ROWS_HEIGHT = 5\n",
    "  ROWS_WIDTH = 5\n",
    "  COLS_HEIGHT = 4\n",
    "  COLS_WIDTH = 6\n",
    "  rows: np.ndarray[np.uint8, np.uint8]\n",
    "  cols: np.ndarray[np.uint8, np.uint8]\n",
    "\n",
    "  def __init__(\n",
    "      self,\n",
    "      rows=np.packbits(np.zeros((ROWS_HEIGHT,ROWS_WIDTH), dtype=np.uint8), axis=0),\n",
    "      cols=np.packbits(np.zeros((COLS_HEIGHT,COLS_WIDTH), dtype=np.uint8), axis=0),\n",
    "    ):\n",
    "    self.rows = rows\n",
    "    self.cols = cols\n",
    "\n",
    "  def __repr__(self):\n",
    "    rows = np.unpackbits(self.rows, axis=0, count=self.ROWS_HEIGHT)\n",
    "    cols = np.unpackbits(self.cols, axis=0, count=self.COLS_HEIGHT)\n",
    "    buffer = []\n",
    "    for row, col in zip_longest(rows, cols):\n",
    "        if row is not None:\n",
    "          buffer.append(\" \" + \" \".join('-' if elem else '.' for elem in row))\n",
    "        if col is not None:\n",
    "          buffer.append(\" \".join('|' if elem else '.' for elem in col))\n",
    "    return \"\\n\".join(buffer)\n",
    "\n",
    "  def __hash__(self):\n",
    "    return hash((tuple(self.rows.flatten()), tuple(self.cols.flatten())))\n",
    "\n",
    "  def __eq__(self, other):\n",
    "    if isinstance(other, Puzzle):\n",
    "        return np.array_equal(self.rows, other.rows) and np.array_equal(self.cols, other.cols)\n",
    "    return NotImplemented\n",
    "\n",
    "  def with_piece(self, piece: Piece, toprow: int, topcol: int) -> \"Puzzle\":\n",
    "    if (toprow + piece.rows_height > self.ROWS_HEIGHT):\n",
    "      return None\n",
    "    if (topcol + piece.rows_width > self.ROWS_WIDTH):\n",
    "      return None\n",
    "    if (toprow + piece.cols_height > self.COLS_HEIGHT):\n",
    "      return None\n",
    "    if (topcol + piece.cols_width > self.COLS_WIDTH):\n",
    "      return None\n",
    "    \n",
    "    mask_rows = np.zeros_like(self.rows)\n",
    "    if piece.rows.size:\n",
    "      mask_rows[:,topcol:topcol+piece.rows.shape[1]] = piece.rows >> toprow\n",
    "\n",
    "    mask_cols = np.zeros_like(self.cols)\n",
    "    if piece.cols.size:\n",
    "      mask_cols[:,topcol:topcol+piece.cols.shape[1]] = piece.cols >> toprow\n",
    "\n",
    "    if np.any(np.bitwise_and(self.rows, mask_rows)):\n",
    "      return None\n",
    "    if np.any(np.bitwise_and(self.cols, mask_cols)):\n",
    "      return None\n",
    "\n",
    "    np.bitwise_or(self.rows, mask_rows, out=mask_rows)\n",
    "    np.bitwise_or(self.cols, mask_cols, out=mask_cols)\n",
    "\n",
    "    return Puzzle(mask_rows, mask_cols)\n",
    "  \n",
    "  def spaces_left(self):\n",
    "    unpacked_rows = np.unpackbits(self.rows, axis=0, count=self.ROWS_HEIGHT)\n",
    "    unpacked_cols = np.unpackbits(self.cols, axis=0, count=self.COLS_HEIGHT)\n",
    "    return np.size(unpacked_cols) - np.count_nonzero(unpacked_cols) + np.size(unpacked_rows) - np.count_nonzero(unpacked_rows)"
   ]
  },
  {
   "cell_type": "code",
   "execution_count": 9,
   "metadata": {},
   "outputs": [
    {
     "name": "stdout",
     "output_type": "stream",
     "text": [
      "96.5 µs ± 16.1 µs per loop (mean ± std. dev. of 7 runs, 10,000 loops each)\n"
     ]
    }
   ],
   "source": [
    "%timeit Puzzle().with_piece(pieces[7], 2, 3)"
   ]
  },
  {
   "cell_type": "code",
   "execution_count": 10,
   "metadata": {},
   "outputs": [
    {
     "name": "stdout",
     "output_type": "stream",
     "text": [
      "Timer unit: 1e-07 s\n",
      "\n",
      "Total time: 0.00027 s\n",
      "File: C:\\Users\\Vidminas\\AppData\\Local\\Temp\\ipykernel_924\\203149168.py\n",
      "Function: with_piece at line 36\n",
      "\n",
      "Line #      Hits         Time  Per Hit   % Time  Line Contents\n",
      "==============================================================\n",
      "    36                                             def with_piece(self, piece: Piece, toprow: int, topcol: int) -> \"Puzzle\":\n",
      "    37         1         21.0     21.0      0.8      if (toprow + piece.rows_height > self.ROWS_HEIGHT):\n",
      "    38                                                 return None\n",
      "    39         1         13.0     13.0      0.5      if (topcol + piece.rows_width > self.ROWS_WIDTH):\n",
      "    40                                                 return None\n",
      "    41         1         10.0     10.0      0.4      if (toprow + piece.cols_height > self.COLS_HEIGHT):\n",
      "    42                                                 return None\n",
      "    43         1         10.0     10.0      0.4      if (topcol + piece.cols_width > self.COLS_WIDTH):\n",
      "    44                                                 return None\n",
      "    45                                               \n",
      "    46         1        414.0    414.0     15.3      mask_rows = np.zeros_like(self.rows)\n",
      "    47         1         49.0     49.0      1.8      if piece.rows.size:\n",
      "    48         1        474.0    474.0     17.6        mask_rows[:,topcol:topcol+piece.rows.shape[1]] = piece.rows >> toprow\n",
      "    49                                           \n",
      "    50         1        328.0    328.0     12.1      mask_cols = np.zeros_like(self.cols)\n",
      "    51         1         37.0     37.0      1.4      if piece.cols.size:\n",
      "    52         1        307.0    307.0     11.4        mask_cols[:,topcol:topcol+piece.cols.shape[1]] = piece.cols >> toprow\n",
      "    53                                           \n",
      "    54         1        603.0    603.0     22.3      if np.any(np.bitwise_and(self.rows, mask_rows)):\n",
      "    55                                                 return None\n",
      "    56         1        234.0    234.0      8.7      if np.any(np.bitwise_and(self.cols, mask_cols)):\n",
      "    57                                                 return None\n",
      "    58                                           \n",
      "    59         1         78.0     78.0      2.9      np.bitwise_or(self.rows, mask_rows, out=mask_rows)\n",
      "    60         1         48.0     48.0      1.8      np.bitwise_or(self.cols, mask_cols, out=mask_cols)\n",
      "    61                                           \n",
      "    62         1         74.0     74.0      2.7      return Puzzle(mask_rows, mask_cols)"
     ]
    }
   ],
   "source": [
    "%lprun -f Puzzle.with_piece Puzzle().with_piece(pieces[7], 2, 3)"
   ]
  },
  {
   "cell_type": "code",
   "execution_count": 11,
   "metadata": {},
   "outputs": [
    {
     "data": {
      "text/plain": [
       " . . . . .\n",
       ". . . . . .\n",
       " . . . . .\n",
       ". . . . . .\n",
       " . . . . .\n",
       ". . . . . .\n",
       " . . . . .\n",
       ". . . . . .\n",
       " . . . . ."
      ]
     },
     "execution_count": 11,
     "metadata": {},
     "output_type": "execute_result"
    }
   ],
   "source": [
    "Puzzle()"
   ]
  },
  {
   "cell_type": "code",
   "execution_count": 12,
   "metadata": {},
   "outputs": [
    {
     "data": {
      "text/plain": [
       "49"
      ]
     },
     "execution_count": 12,
     "metadata": {},
     "output_type": "execute_result"
    }
   ],
   "source": [
    "Puzzle().spaces_left()"
   ]
  },
  {
   "cell_type": "code",
   "execution_count": 13,
   "metadata": {},
   "outputs": [
    {
     "data": {
      "text/plain": [
       " . . . . .\n",
       ". . . . . .\n",
       " . . . . .\n",
       ". . . . . .\n",
       " . . . . .\n",
       ". . . . . .\n",
       " . . . . -\n",
       ". . . . | |\n",
       " . . . . -"
      ]
     },
     "execution_count": 13,
     "metadata": {},
     "output_type": "execute_result"
    }
   ],
   "source": [
    "Puzzle().with_piece(pieces[0], 3, 4)"
   ]
  },
  {
   "cell_type": "code",
   "execution_count": 14,
   "metadata": {},
   "outputs": [
    {
     "data": {
      "text/plain": [
       " - - . . .\n",
       "| . . . . .\n",
       " . . . . .\n",
       ". . . . . .\n",
       " . . . . .\n",
       ". . . . . .\n",
       " . . . . .\n",
       ". . . . . .\n",
       " . . . . ."
      ]
     },
     "execution_count": 14,
     "metadata": {},
     "output_type": "execute_result"
    }
   ],
   "source": [
    "Puzzle().with_piece(pieces[7].rotated(), 0, 0)"
   ]
  },
  {
   "cell_type": "code",
   "execution_count": 15,
   "metadata": {},
   "outputs": [
    {
     "data": {
      "text/plain": [
       " - - - . .\n",
       ". | | . . .\n",
       " - - . . .\n",
       ". | . . . .\n",
       " - . . . .\n",
       ". . . . . .\n",
       " . . . . .\n",
       ". . . . . .\n",
       " . . . . ."
      ]
     },
     "execution_count": 15,
     "metadata": {},
     "output_type": "execute_result"
    }
   ],
   "source": [
    "Puzzle().with_piece(pieces[3], 0, 0).with_piece(pieces[4].rotated(), 0, 1)"
   ]
  },
  {
   "cell_type": "code",
   "execution_count": 16,
   "metadata": {},
   "outputs": [
    {
     "data": {
      "text/plain": [
       " . . . . .\n",
       ". . . . . .\n",
       " . - . . .\n",
       "| | | . . .\n",
       " - - . . .\n",
       ". . . . . .\n",
       " . . . . .\n",
       ". . . . . .\n",
       " . . . . ."
      ]
     },
     "execution_count": 16,
     "metadata": {},
     "output_type": "execute_result"
    }
   ],
   "source": [
    "Puzzle().with_piece(pieces[9].rotated().rotated().rotated(), 1, 0)"
   ]
  },
  {
   "cell_type": "code",
   "execution_count": 17,
   "metadata": {},
   "outputs": [],
   "source": [
    "# larger pieces ordered first, as this prunes more candidate solutions\n",
    "pieces_order = (8, 9, 6, 5, 2, 0, 4, 3, 7, 1)\n",
    "bad_puzzles = set()\n",
    "\n",
    "# pick a puzzle piece\n",
    "# choose rotation\n",
    "# find top-left free corner\n",
    "# put piece if it fits\n",
    "# check if solved\n",
    "def attempt(puzzle: Puzzle, used_pieces: dict[int, tuple]):\n",
    "  if puzzle in bad_puzzles:\n",
    "    return None\n",
    "  if puzzle.spaces_left() == 2:\n",
    "    return puzzle, used_pieces\n",
    "  \n",
    "  for i in pieces_order:\n",
    "    if i in used_pieces:\n",
    "      continue\n",
    "\n",
    "    for rotation in pieces[i].rotations():\n",
    "      for row in range(0, puzzle.ROWS_HEIGHT):\n",
    "        for col in range(0, puzzle.COLS_HEIGHT):\n",
    "          candidate = puzzle.with_piece(rotation, row, col)\n",
    "    \n",
    "          if candidate is not None:\n",
    "            if candidate in bad_puzzles:\n",
    "              continue\n",
    "\n",
    "            candidate_used_pieces = used_pieces.copy()\n",
    "            candidate_used_pieces[i] = (rotation, row, col)\n",
    "            result = attempt(candidate, candidate_used_pieces)\n",
    "            if result is not None:\n",
    "              return result\n",
    "\n",
    "  bad_puzzles.add(puzzle)\n",
    "  return None"
   ]
  },
  {
   "cell_type": "code",
   "execution_count": 18,
   "metadata": {},
   "outputs": [
    {
     "name": "stdout",
     "output_type": "stream",
     "text": [
      "*** KeyboardInterrupt exception caught in code being profiled."
     ]
    },
    {
     "name": "stdout",
     "output_type": "stream",
     "text": [
      "Timer unit: 1e-07 s\n",
      "\n",
      "Total time: 60.8219 s\n",
      "File: C:\\Users\\Vidminas\\AppData\\Local\\Temp\\ipykernel_924\\1218029101.py\n",
      "Function: attempt at line 10\n",
      "\n",
      "Line #      Hits         Time  Per Hit   % Time  Line Contents\n",
      "==============================================================\n",
      "    10                                           def attempt(puzzle: Puzzle, used_pieces: dict[int, tuple]):\n",
      "    11      3783     581090.0    153.6      0.1    if puzzle in bad_puzzles:\n",
      "    12                                               return None\n",
      "    13      3783    2034866.0    537.9      0.3    if puzzle.spaces_left() == 2:\n",
      "    14                                               return puzzle, used_pieces\n",
      "    15                                             \n",
      "    16                                             # candidates = []\n",
      "    17     41586     377641.0      9.1      0.1    for i in pieces_order:\n",
      "    18     37808     389624.0     10.3      0.1      if i in used_pieces:\n",
      "    19     24389     140948.0      5.8      0.0        continue\n",
      "    20                                           \n",
      "    21     49968    4139042.0     82.8      0.7      for rotation in pieces[i].rotations():\n",
      "    22    219306    2059852.0      9.4      0.3        for row in range(0, puzzle.ROWS_HEIGHT):\n",
      "    23    913771   12233208.0     13.4      2.0          for col in range(0, puzzle.COLS_HEIGHT):\n",
      "    24    731019  571883327.0    782.3     94.0            candidate = puzzle.with_piece(rotation, row, col)\n",
      "    25                                               \n",
      "    26    731018    6647425.0      9.1      1.1            if candidate is not None:\n",
      "    27     10387    6264182.0    603.1      1.0              if candidate in bad_puzzles:\n",
      "    28      6605      52248.0      7.9      0.0                continue\n",
      "    29                                           \n",
      "    30      3782     124773.0     33.0      0.0              candidate_used_pieces = used_pieces.copy()\n",
      "    31      3782      79658.0     21.1      0.0              candidate_used_pieces[i] = (rotation, row, col)\n",
      "    32      3782      91863.0     24.3      0.0              result = attempt(candidate, candidate_used_pieces)\n",
      "    33      3778      58007.0     15.4      0.0              if result is not None:\n",
      "    34                                                         return result\n",
      "    35                                                       # candidates.append((candidate, candidate_used_pieces))\n",
      "    36                                               \n",
      "    37                                             # for candidate, candidate_used_pieces in candidates:\n",
      "    38                                             #   result = attempt(candidate, candidate_used_pieces)\n",
      "    39                                             #   if result is not None:\n",
      "    40                                             #     return result\n",
      "    41                                           \n",
      "    42      3778    1021122.0    270.3      0.2    bad_puzzles.add(puzzle)\n",
      "    43      3778      40042.0     10.6      0.0    return None"
     ]
    }
   ],
   "source": [
    "rot9 = pieces[9].rotated().rotated().rotated()\n",
    "puzzle = Puzzle().with_piece(rot9, 1, 0)\n",
    "# solution = attempt(puzzle, {9: (rot9, 1, 0)})\n",
    "# solution\n",
    "%lprun -f attempt attempt(puzzle, {9: (rot9, 1, 0)})"
   ]
  },
  {
   "cell_type": "code",
   "execution_count": 19,
   "metadata": {},
   "outputs": [
    {
     "data": {
      "text/plain": [
       "3778"
      ]
     },
     "execution_count": 19,
     "metadata": {},
     "output_type": "execute_result"
    }
   ],
   "source": [
    "len(bad_puzzles)"
   ]
  },
  {
   "cell_type": "code",
   "execution_count": 20,
   "metadata": {},
   "outputs": [
    {
     "data": {
      "text/plain": [
       " - - . - .\n",
       "| | | | | .\n",
       " - - . - .\n",
       "| | | | | .\n",
       " - - - - .\n",
       ". | | | | .\n",
       " - - - - .\n",
       "| | | . . .\n",
       " . - - . ."
      ]
     },
     "execution_count": 20,
     "metadata": {},
     "output_type": "execute_result"
    }
   ],
   "source": [
    "next(iter(bad_puzzles))"
   ]
  }
 ],
 "metadata": {
  "kernelspec": {
   "display_name": "inf1b-ptas",
   "language": "python",
   "name": "python3"
  },
  "language_info": {
   "codemirror_mode": {
    "name": "ipython",
    "version": 3
   },
   "file_extension": ".py",
   "mimetype": "text/x-python",
   "name": "python",
   "nbconvert_exporter": "python",
   "pygments_lexer": "ipython3",
   "version": "3.11.3"
  }
 },
 "nbformat": 4,
 "nbformat_minor": 2
}
