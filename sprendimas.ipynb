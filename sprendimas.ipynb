{
 "cells": [
  {
   "cell_type": "code",
   "execution_count": 1,
   "metadata": {},
   "outputs": [],
   "source": [
    "import numpy as np\n",
    "from functools import cache\n",
    "from itertools import zip_longest\n",
    "import sys\n",
    "\n",
    "%load_ext line_profiler"
   ]
  },
  {
   "cell_type": "code",
   "execution_count": 2,
   "metadata": {},
   "outputs": [
    {
     "name": "stdout",
     "output_type": "stream",
     "text": [
      "129\n"
     ]
    }
   ],
   "source": [
    "class Piece():\n",
    "  rows: np.ndarray[np.uint8, np.uint8]\n",
    "  columns: np.ndarray[np.uint8, np.uint8]\n",
    "  num_rows: int\n",
    "  num_columns: int\n",
    "\n",
    "  def __init__(self, rows: tuple[tuple[bool]] | np.ndarray[np.uint8, np.uint8], columns: tuple[tuple[bool]] | np.ndarray[np.uint8, np.uint8]):\n",
    "    rows = np.asarray(rows)\n",
    "    columns = np.asarray(columns)\n",
    "\n",
    "    # Trim piece to size\n",
    "    while rows.size and ~np.any(rows[-1]) and columns.size and ~np.any(columns[-1]):\n",
    "       rows = rows[:-1]\n",
    "       columns = columns[:-1]\n",
    "\n",
    "    while rows.size and ~np.any(rows[:,-1]) and columns.size and ~np.any(columns[:,-1]):\n",
    "       rows = rows[:,:-1]\n",
    "       columns = columns[:,:-1]\n",
    "    \n",
    "    # Edge case: when all rows or columns are trimmed from one side\n",
    "    self.num_rows = 0 if not rows.size else rows.shape[0]\n",
    "    self.num_columns = 0 if not columns.size else columns.shape[0]\n",
    "    self.rows = np.packbits(rows, axis=0)\n",
    "    self.columns = np.packbits(columns, axis=0)\n",
    "\n",
    "  def __repr__(self):\n",
    "    rows = np.unpackbits(self.rows, axis=0, count=self.num_rows)\n",
    "    columns = np.unpackbits(self.columns, axis=0, count=self.num_columns)\n",
    "    buffer = []\n",
    "    for row, column in zip_longest(rows, columns):\n",
    "        if row is not None:\n",
    "          buffer.append(\" \" + \" \".join('-' if elem else ' ' for elem in row))\n",
    "        if column is not None:\n",
    "          buffer.append(\" \".join('|' if elem else ' ' for elem in column))\n",
    "    return \"\\n\".join(buffer)\n",
    "  \n",
    "  def __hash__(self):\n",
    "     return hash((tuple(self.rows.flatten()), tuple(self.columns.flatten())))\n",
    "\n",
    "  def __eq__(self, other):\n",
    "      if isinstance(other, Piece):\n",
    "          return np.array_equal(self.rows, other.rows) and np.array_equal(self.columns, other.columns)\n",
    "      return NotImplemented\n",
    "    \n",
    "  def rotated(self):\n",
    "    unpacked_rows = np.unpackbits(self.rows, axis=0, count=self.num_rows)\n",
    "    unpacked_columns = np.unpackbits(self.columns, axis=0, count=self.num_columns)\n",
    "\n",
    "    rows = np.rot90(unpacked_columns, 1)\n",
    "    columns = np.rot90(unpacked_rows, 1)\n",
    "\n",
    "    while rows.size and ~np.any(rows[0]) and columns.size and ~np.any(columns[0]):\n",
    "      # top row is empty, so we can shift digit up\n",
    "      rows = np.roll(rows, -1, 0)\n",
    "      columns = np.roll(columns, -1, 0)\n",
    "\n",
    "    return Piece(rows, columns)\n",
    "  \n",
    "  @cache\n",
    "  def rotations(self):\n",
    "    a = self\n",
    "    b = a.rotated()\n",
    "    c = b.rotated()\n",
    "    d = c.rotated()\n",
    "    return set((a, b, c, d))\n",
    "\n",
    "pieces = [\n",
    "  Piece(rows=((True, False), (True, False), (False, False)), columns=((True, True, False), (False, False, False))),\n",
    "  Piece(rows=((False, False), (False, False), (False, False)), columns=((True, False, False), (True, False, False))),\n",
    "  Piece(rows=((True, False), (True, False), (True, False)), columns=((False, True, False), (True, False, False))),\n",
    "  Piece(rows=((True, False), (True, False), (True, False)), columns=((False, True, False), (False, True, False))),\n",
    "  Piece(rows=((False, False), (True, False), (False, False)), columns=((True, True, False), (False, True, False))),\n",
    "  Piece(rows=((True, False), (True, False), (True, False)), columns=((True, False, False), (False, True, False))),\n",
    "  Piece(rows=((True, False), (True, False), (True, False)), columns=((True, False, False), (True, True, False))),\n",
    "  Piece(rows=((True, False), (False, False), (False, False)), columns=((False, True, False), (False, True, False))),\n",
    "  Piece(rows=((True, False), (True, False), (True, False)), columns=((True, True, False), (True, True, False))),\n",
    "  Piece(rows=((True, False), (True, False), (True, False)), columns=((True, True, False), (False, True, False))),\n",
    "]\n",
    "\n",
    "print(sys.getsizeof(pieces[0].rows))"
   ]
  },
  {
   "cell_type": "code",
   "execution_count": 3,
   "metadata": {},
   "outputs": [
    {
     "data": {
      "text/plain": [
       " -\n",
       "| |\n",
       " -"
      ]
     },
     "execution_count": 3,
     "metadata": {},
     "output_type": "execute_result"
    }
   ],
   "source": [
    "pieces[0]"
   ]
  },
  {
   "cell_type": "code",
   "execution_count": 4,
   "metadata": {},
   "outputs": [
    {
     "data": {
      "text/plain": [
       "|\n",
       "|"
      ]
     },
     "execution_count": 4,
     "metadata": {},
     "output_type": "execute_result"
    }
   ],
   "source": [
    "pieces[1]"
   ]
  },
  {
   "cell_type": "code",
   "execution_count": 5,
   "metadata": {},
   "outputs": [
    {
     "data": {
      "text/plain": [
       "{   -\n",
       " | | |\n",
       "  - -,\n",
       "  -\n",
       " |  \n",
       "  -\n",
       " | |\n",
       "  -,\n",
       "  -\n",
       " | |\n",
       "  -\n",
       "   |\n",
       "  -,\n",
       "  - -\n",
       " | | |\n",
       "  -  }"
      ]
     },
     "execution_count": 5,
     "metadata": {},
     "output_type": "execute_result"
    }
   ],
   "source": [
    "pieces[9].rotations()"
   ]
  },
  {
   "cell_type": "code",
   "execution_count": 6,
   "metadata": {},
   "outputs": [
    {
     "data": {
      "text/plain": [
       "{ -\n",
       " | |\n",
       "  -}"
      ]
     },
     "execution_count": 6,
     "metadata": {},
     "output_type": "execute_result"
    }
   ],
   "source": [
    "pieces[0].rotations()"
   ]
  },
  {
   "cell_type": "code",
   "execution_count": 7,
   "metadata": {},
   "outputs": [],
   "source": [
    "class Puzzle():\n",
    "  NUM_ROWS = 5\n",
    "  NUM_COLS = 4\n",
    "  rows: np.ndarray[np.uint8, np.uint8]\n",
    "  cols: np.ndarray[np.uint8, np.uint8]\n",
    "\n",
    "  def __init__(\n",
    "      self,\n",
    "      rows=np.zeros((NUM_ROWS,5), dtype=np.uint8),\n",
    "      cols=np.zeros((NUM_COLS,6), dtype=np.uint8),\n",
    "    ):\n",
    "    self.rows = np.packbits(rows, axis=0)\n",
    "    self.cols = np.packbits(cols, axis=0)\n",
    "\n",
    "  def __repr__(self):\n",
    "    rows = np.unpackbits(self.rows, axis=0, count=self.NUM_ROWS)\n",
    "    cols = np.unpackbits(self.cols, axis=0, count=self.NUM_COLS)\n",
    "    buffer = []\n",
    "    for row, column in zip_longest(rows, cols):\n",
    "        if row is not None:\n",
    "          buffer.append(\" \" + \" \".join('-' if elem else '.' for elem in row))\n",
    "        if column is not None:\n",
    "          buffer.append(\" \".join('|' if elem else '.' for elem in column))\n",
    "    return \"\\n\".join(buffer)\n",
    "\n",
    "  def __hash__(self):\n",
    "    return hash((tuple(self.rows.flatten()), tuple(self.cols.flatten())))\n",
    "\n",
    "  def __eq__(self, other):\n",
    "    if isinstance(other, Puzzle):\n",
    "        return np.array_equal(self.rows, other.rows) and np.array_equal(self.cols, other.cols)\n",
    "    return NotImplemented\n",
    "\n",
    "  def with_piece(self, piece: Piece, toprow: int, topcol: int) -> \"Puzzle\":\n",
    "    piece_rows = np.unpackbits(piece.rows, axis=0, count=piece.num_rows)\n",
    "    piece_columns = np.unpackbits(piece.columns, axis=0, count=piece.num_columns)\n",
    "\n",
    "    unpacked_rows = np.unpackbits(self.rows, axis=0, count=self.NUM_ROWS)\n",
    "    unpacked_cols = np.unpackbits(self.cols, axis=0, count=self.NUM_COLS)\n",
    "\n",
    "    if (toprow + piece_rows.shape[0] > unpacked_rows.shape[0]):\n",
    "      return None\n",
    "    if (topcol + piece_rows.shape[1] > unpacked_rows.shape[1]):\n",
    "      return None\n",
    "    if (toprow + piece_columns.shape[0] > unpacked_cols.shape[0]):\n",
    "      return None\n",
    "    if (topcol + piece_columns.shape[1] > unpacked_cols.shape[1]):\n",
    "      return None\n",
    "    \n",
    "    puzzle_rows = unpacked_rows[toprow:toprow+piece_rows.shape[0], topcol:topcol+piece_rows.shape[1]]\n",
    "    if np.any(np.logical_and(puzzle_rows, piece_rows)):\n",
    "      return None\n",
    "\n",
    "    puzzle_cols = unpacked_cols[toprow:toprow+piece_columns.shape[0], topcol:topcol+piece_columns.shape[1]]\n",
    "    if np.any(np.logical_and(puzzle_cols, piece_columns)):\n",
    "      return None\n",
    "    \n",
    "    np.logical_or(puzzle_rows, piece_rows, out=puzzle_rows)\n",
    "    np.logical_or(puzzle_cols, piece_columns, out=puzzle_cols)\n",
    "\n",
    "    return Puzzle(unpacked_rows, unpacked_cols)\n",
    "  \n",
    "  def spaces_left(self):\n",
    "    unpacked_rows = np.unpackbits(self.rows, axis=0, count=self.NUM_ROWS)\n",
    "    unpacked_cols = np.unpackbits(self.cols, axis=0, count=self.NUM_COLS)\n",
    "    return np.size(unpacked_cols) - np.count_nonzero(unpacked_cols) + np.size(unpacked_rows) - np.count_nonzero(unpacked_rows)"
   ]
  },
  {
   "cell_type": "code",
   "execution_count": 8,
   "metadata": {},
   "outputs": [
    {
     "name": "stdout",
     "output_type": "stream",
     "text": [
      "85.5 µs ± 4.95 µs per loop (mean ± std. dev. of 7 runs, 10,000 loops each)\n"
     ]
    }
   ],
   "source": [
    "%timeit Puzzle().with_piece(pieces[7], 2, 3)"
   ]
  },
  {
   "cell_type": "code",
   "execution_count": 9,
   "metadata": {},
   "outputs": [
    {
     "name": "stdout",
     "output_type": "stream",
     "text": [
      "Timer unit: 1e-07 s\n",
      "\n",
      "Total time: 0.0003013 s\n",
      "File: C:\\Users\\Vidminas\\AppData\\Local\\Temp\\ipykernel_16496\\3266338350.py\n",
      "Function: with_piece at line 34\n",
      "\n",
      "Line #      Hits         Time  Per Hit   % Time  Line Contents\n",
      "==============================================================\n",
      "    34                                             def with_piece(self, piece: Piece, toprow: int, topcol: int) -> \"Puzzle\":\n",
      "    35         1        146.0    146.0      4.8      piece_rows = np.unpackbits(piece.rows, axis=0, count=piece.num_rows)\n",
      "    36         1         84.0     84.0      2.8      piece_columns = np.unpackbits(piece.columns, axis=0, count=piece.num_columns)\n",
      "    37                                           \n",
      "    38         1         74.0     74.0      2.5      unpacked_rows = np.unpackbits(self.rows, axis=0, count=self.NUM_ROWS)\n",
      "    39         1         69.0     69.0      2.3      unpacked_cols = np.unpackbits(self.cols, axis=0, count=self.NUM_COLS)\n",
      "    40                                           \n",
      "    41         1         52.0     52.0      1.7      if (toprow + piece_rows.shape[0] > unpacked_rows.shape[0]):\n",
      "    42                                                 return None\n",
      "    43         1         31.0     31.0      1.0      if (topcol + piece_rows.shape[1] > unpacked_rows.shape[1]):\n",
      "    44                                                 return None\n",
      "    45         1         29.0     29.0      1.0      if (toprow + piece_columns.shape[0] > unpacked_cols.shape[0]):\n",
      "    46                                                 return None\n",
      "    47         1         28.0     28.0      0.9      if (topcol + piece_columns.shape[1] > unpacked_cols.shape[1]):\n",
      "    48                                                 return None\n",
      "    49                                               \n",
      "    50         1         72.0     72.0      2.4      puzzle_rows = unpacked_rows[toprow:toprow+piece_rows.shape[0], topcol:topcol+piece_rows.shape[1]]\n",
      "    51         1       1133.0   1133.0     37.6      if np.any(np.logical_and(puzzle_rows, piece_rows)):\n",
      "    52                                                 return None\n",
      "    53                                           \n",
      "    54         1         58.0     58.0      1.9      puzzle_cols = unpacked_cols[toprow:toprow+piece_columns.shape[0], topcol:topcol+piece_columns.shape[1]]\n",
      "    55         1        571.0    571.0     19.0      if np.any(np.logical_and(puzzle_cols, piece_columns)):\n",
      "    56                                                 return None\n",
      "    57                                               \n",
      "    58         1        156.0    156.0      5.2      np.logical_or(puzzle_rows, piece_rows, out=puzzle_rows)\n",
      "    59         1        273.0    273.0      9.1      np.logical_or(puzzle_cols, piece_columns, out=puzzle_cols)\n",
      "    60                                           \n",
      "    61         1        237.0    237.0      7.9      return Puzzle(unpacked_rows, unpacked_cols)"
     ]
    }
   ],
   "source": [
    "%lprun -f Puzzle.with_piece Puzzle().with_piece(pieces[7], 2, 3)"
   ]
  },
  {
   "cell_type": "code",
   "execution_count": 10,
   "metadata": {},
   "outputs": [
    {
     "data": {
      "text/plain": [
       " . . . . .\n",
       ". . . . . .\n",
       " . . . . .\n",
       ". . . . . .\n",
       " . . . . .\n",
       ". . . . . .\n",
       " . . . . .\n",
       ". . . . . .\n",
       " . . . . ."
      ]
     },
     "execution_count": 10,
     "metadata": {},
     "output_type": "execute_result"
    }
   ],
   "source": [
    "Puzzle()"
   ]
  },
  {
   "cell_type": "code",
   "execution_count": 11,
   "metadata": {},
   "outputs": [
    {
     "data": {
      "text/plain": [
       "49"
      ]
     },
     "execution_count": 11,
     "metadata": {},
     "output_type": "execute_result"
    }
   ],
   "source": [
    "Puzzle().spaces_left()"
   ]
  },
  {
   "cell_type": "code",
   "execution_count": 12,
   "metadata": {},
   "outputs": [
    {
     "data": {
      "text/plain": [
       " . . . . .\n",
       ". . . . . .\n",
       " . . . . -\n",
       ". . . . | |\n",
       " . . . . -\n",
       ". . . . . .\n",
       " . . . . .\n",
       ". . . . . .\n",
       " . . . . ."
      ]
     },
     "execution_count": 12,
     "metadata": {},
     "output_type": "execute_result"
    }
   ],
   "source": [
    "Puzzle().with_piece(pieces[0], 1, 4)"
   ]
  },
  {
   "cell_type": "code",
   "execution_count": 13,
   "metadata": {},
   "outputs": [
    {
     "data": {
      "text/plain": [
       " - - . . .\n",
       "| . . . . .\n",
       " . . . . .\n",
       ". . . . . .\n",
       " . . . . .\n",
       ". . . . . .\n",
       " . . . . .\n",
       ". . . . . .\n",
       " . . . . ."
      ]
     },
     "execution_count": 13,
     "metadata": {},
     "output_type": "execute_result"
    }
   ],
   "source": [
    "Puzzle().with_piece(pieces[7].rotated(), 0, 0)"
   ]
  },
  {
   "cell_type": "code",
   "execution_count": 14,
   "metadata": {},
   "outputs": [
    {
     "data": {
      "text/plain": [
       " - - - . .\n",
       ". | | . . .\n",
       " - - . . .\n",
       ". | . . . .\n",
       " - . . . .\n",
       ". . . . . .\n",
       " . . . . .\n",
       ". . . . . .\n",
       " . . . . ."
      ]
     },
     "execution_count": 14,
     "metadata": {},
     "output_type": "execute_result"
    }
   ],
   "source": [
    "Puzzle().with_piece(pieces[3], 0, 0).with_piece(pieces[4].rotated(), 0, 1)"
   ]
  },
  {
   "cell_type": "code",
   "execution_count": 15,
   "metadata": {},
   "outputs": [
    {
     "data": {
      "text/plain": [
       " . . . . .\n",
       ". . . . . .\n",
       " . - . . .\n",
       "| | | . . .\n",
       " - - . . .\n",
       ". . . . . .\n",
       " . . . . .\n",
       ". . . . . .\n",
       " . . . . ."
      ]
     },
     "execution_count": 15,
     "metadata": {},
     "output_type": "execute_result"
    }
   ],
   "source": [
    "Puzzle().with_piece(pieces[9].rotated().rotated().rotated(), 1, 0)"
   ]
  },
  {
   "cell_type": "code",
   "execution_count": 42,
   "metadata": {},
   "outputs": [],
   "source": [
    "from copy import copy\n",
    "\n",
    "bad_puzzles = set()\n",
    "\n",
    "# pick a puzzle piece\n",
    "# choose rotation\n",
    "# find top-left free corner\n",
    "# put piece if it fits\n",
    "# check for solved\n",
    "def attempt(puzzle: Puzzle, used_pieces: dict[int, tuple]):\n",
    "  if puzzle in bad_puzzles:\n",
    "    return None\n",
    "  if puzzle.spaces_left() == 2:\n",
    "    return puzzle, used_pieces\n",
    "  \n",
    "  candidates = []\n",
    "  for i in range(len(pieces)):\n",
    "    if i in used_pieces:\n",
    "      continue\n",
    "\n",
    "    for rotation in pieces[i].rotations():\n",
    "      for row in range(0, puzzle.NUM_ROWS):\n",
    "        for col in range(0, puzzle.NUM_COLS):\n",
    "          candidate = puzzle.with_piece(rotation, row, col)\n",
    "    \n",
    "          if candidate is not None:\n",
    "            if candidate in bad_puzzles:\n",
    "              continue\n",
    "\n",
    "            candidate_used_pieces = copy(used_pieces)\n",
    "            candidate_used_pieces[i] = (rotation, row, col)\n",
    "            candidates.append((candidate, candidate_used_pieces))\n",
    "    \n",
    "  for candidate, candidate_used_pieces in candidates:\n",
    "    result = attempt(candidate, candidate_used_pieces)\n",
    "    if result is not None:\n",
    "      return result\n",
    "\n",
    "  bad_puzzles.add(puzzle)\n",
    "  return None"
   ]
  },
  {
   "cell_type": "code",
   "execution_count": 44,
   "metadata": {},
   "outputs": [
    {
     "name": "stdout",
     "output_type": "stream",
     "text": [
      "*** KeyboardInterrupt exception caught in code being profiled."
     ]
    },
    {
     "name": "stdout",
     "output_type": "stream",
     "text": [
      "Timer unit: 1e-07 s\n",
      "\n",
      "Total time: 91.1 s\n",
      "File: C:\\Users\\Vidminas\\AppData\\Local\\Temp\\ipykernel_16496\\2297425621.py\n",
      "Function: attempt at line 10\n",
      "\n",
      "Line #      Hits         Time  Per Hit   % Time  Line Contents\n",
      "==============================================================\n",
      "    10                                           def attempt(puzzle: Puzzle, used_pieces: dict[int, tuple]):\n",
      "    11      4286    1796496.0    419.2      0.2    if puzzle in bad_puzzles:\n",
      "    12                                               return None\n",
      "    13      4286    3254468.0    759.3      0.4    if puzzle.spaces_left() == 2:\n",
      "    14                                               return puzzle, used_pieces\n",
      "    15                                             \n",
      "    16      4286      56640.0     13.2      0.0    candidates = []\n",
      "    17     47141     786607.0     16.7      0.1    for i in range(len(pieces)):\n",
      "    18     42856     697597.0     16.3      0.1      if i in used_pieces:\n",
      "    19     28878     223008.0      7.7      0.0        continue\n",
      "    20                                           \n",
      "    21     55773    8175916.0    146.6      0.9      for rotation in pieces[i].rotations():\n",
      "    22    250770    4019525.0     16.0      0.4        for row in range(0, puzzle.NUM_ROWS):\n",
      "    23   1044875   21784510.0     20.8      2.4          for col in range(0, puzzle.NUM_COLS):\n",
      "    24    835900  844728670.0   1010.6     92.7            candidate = puzzle.with_piece(rotation, row, col)\n",
      "    25                                               \n",
      "    26    835900   11647017.0     13.9      1.3            if candidate is not None:\n",
      "    27     11234   10232864.0    910.9      1.1              if candidate in bad_puzzles:\n",
      "    28      6385      78833.0     12.3      0.0                continue\n",
      "    29                                           \n",
      "    30      4849     600703.0    123.9      0.1              candidate_used_pieces = copy(used_pieces)\n",
      "    31      4849     120015.0     24.8      0.0              candidate_used_pieces[i] = (rotation, row, col)\n",
      "    32      4849     135974.0     28.0      0.0              candidates.append((candidate, candidate_used_pieces))\n",
      "    33                                               \n",
      "    34      8564     218849.0     25.6      0.0    for candidate, candidate_used_pieces in candidates:\n",
      "    35      4285     201195.0     47.0      0.0      result = attempt(candidate, candidate_used_pieces)\n",
      "    36      4279     118631.0     27.7      0.0      if result is not None:\n",
      "    37                                                 return result\n",
      "    38                                           \n",
      "    39      4279    2060262.0    481.5      0.2    bad_puzzles.add(puzzle)\n",
      "    40      4279      62679.0     14.6      0.0    return None"
     ]
    }
   ],
   "source": [
    "rot9 = pieces[9].rotated().rotated().rotated()\n",
    "puzzle = Puzzle().with_piece(rot9, 1, 0)\n",
    "# solution = attempt(puzzle, {9: (rot9, 1, 0)})\n",
    "# solution\n",
    "%lprun -f attempt attempt(puzzle, {9: (rot9, 1, 0)})"
   ]
  },
  {
   "cell_type": "code",
   "execution_count": 45,
   "metadata": {},
   "outputs": [
    {
     "data": {
      "text/plain": [
       "4279"
      ]
     },
     "execution_count": 45,
     "metadata": {},
     "output_type": "execute_result"
    }
   ],
   "source": [
    "len(bad_puzzles)"
   ]
  },
  {
   "cell_type": "code",
   "execution_count": 46,
   "metadata": {},
   "outputs": [
    {
     "data": {
      "text/plain": [
       " - . - - .\n",
       "| | | | . .\n",
       " - - . . .\n",
       "| | | | . .\n",
       " - - - - .\n",
       ". . | | | |\n",
       " . - - . -\n",
       ". . | | | .\n",
       " . . - - ."
      ]
     },
     "execution_count": 46,
     "metadata": {},
     "output_type": "execute_result"
    }
   ],
   "source": [
    "next(iter(bad_puzzles))"
   ]
  }
 ],
 "metadata": {
  "kernelspec": {
   "display_name": "inf1b-ptas",
   "language": "python",
   "name": "python3"
  },
  "language_info": {
   "codemirror_mode": {
    "name": "ipython",
    "version": 3
   },
   "file_extension": ".py",
   "mimetype": "text/x-python",
   "name": "python",
   "nbconvert_exporter": "python",
   "pygments_lexer": "ipython3",
   "version": "3.11.3"
  }
 },
 "nbformat": 4,
 "nbformat_minor": 2
}
