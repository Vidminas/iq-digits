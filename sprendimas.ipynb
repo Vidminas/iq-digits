{
 "cells": [
  {
   "cell_type": "code",
   "execution_count": 1,
   "metadata": {},
   "outputs": [],
   "source": [
    "import numpy as np\n",
    "from functools import cache\n",
    "from itertools import zip_longest\n",
    "import sys\n",
    "\n",
    "%load_ext line_profiler"
   ]
  },
  {
   "cell_type": "code",
   "execution_count": 2,
   "metadata": {},
   "outputs": [
    {
     "name": "stdout",
     "output_type": "stream",
     "text": [
      "129\n"
     ]
    }
   ],
   "source": [
    "class Piece():\n",
    "  rows: np.ndarray[np.uint8, np.uint8]\n",
    "  columns: np.ndarray[np.uint8, np.uint8]\n",
    "  num_rows: int\n",
    "  num_columns: int\n",
    "\n",
    "  def __init__(self, rows: tuple[tuple[bool]] | np.ndarray[np.uint8, np.uint8], columns: tuple[tuple[bool]] | np.ndarray[np.uint8, np.uint8]):\n",
    "    rows = np.asarray(rows)\n",
    "    columns = np.asarray(columns)\n",
    "\n",
    "    # Trim piece to size\n",
    "    while rows.size and ~np.any(rows[-1]) and columns.size and ~np.any(columns[-1]):\n",
    "       rows = rows[:-1]\n",
    "       columns = columns[:-1]\n",
    "\n",
    "    while rows.size and ~np.any(rows[:,-1]) and columns.size and ~np.any(columns[:,-1]):\n",
    "       rows = rows[:,:-1]\n",
    "       columns = columns[:,:-1]\n",
    "    \n",
    "    # Edge case: when all rows or columns are trimmed from one side\n",
    "    self.num_rows = 0 if not rows.size else rows.shape[0]\n",
    "    self.num_columns = 0 if not columns.size else columns.shape[0]\n",
    "    self.rows = np.packbits(rows, axis=0)\n",
    "    self.columns = np.packbits(columns, axis=0)\n",
    "\n",
    "  def __repr__(self):\n",
    "    rows = np.unpackbits(self.rows, axis=0, count=self.num_rows)\n",
    "    columns = np.unpackbits(self.columns, axis=0, count=self.num_columns)\n",
    "    buffer = []\n",
    "    for row, column in zip_longest(rows, columns):\n",
    "        if row is not None:\n",
    "          buffer.append(\" \" + \" \".join('-' if elem else ' ' for elem in row))\n",
    "        if column is not None:\n",
    "          buffer.append(\" \".join('|' if elem else ' ' for elem in column))\n",
    "    return \"\\n\".join(buffer)\n",
    "  \n",
    "  def __hash__(self):\n",
    "     return hash((tuple(self.rows.flatten()), tuple(self.columns.flatten())))\n",
    "\n",
    "  def __eq__(self, other):\n",
    "      if isinstance(other, Piece):\n",
    "          return np.array_equal(self.rows, other.rows) and np.array_equal(self.columns, other.columns)\n",
    "      return NotImplemented\n",
    "    \n",
    "  def rotated(self):\n",
    "    unpacked_rows = np.unpackbits(self.rows, axis=0, count=self.num_rows)\n",
    "    unpacked_columns = np.unpackbits(self.columns, axis=0, count=self.num_columns)\n",
    "\n",
    "    rows = np.rot90(unpacked_columns, 1)\n",
    "    columns = np.rot90(unpacked_rows, 1)\n",
    "\n",
    "    while rows.size and ~np.any(rows[0]) and columns.size and ~np.any(columns[0]):\n",
    "      # top row is empty, so we can shift digit up\n",
    "      rows = np.roll(rows, -1, 0)\n",
    "      columns = np.roll(columns, -1, 0)\n",
    "\n",
    "    return Piece(rows, columns)\n",
    "  \n",
    "  @cache\n",
    "  def rotations(self):\n",
    "    a = self\n",
    "    b = a.rotated()\n",
    "    c = b.rotated()\n",
    "    d = c.rotated()\n",
    "    return set((a, b, c, d))\n",
    "\n",
    "pieces = [\n",
    "  Piece(rows=((True, False), (True, False), (False, False)), columns=((True, True, False), (False, False, False))),\n",
    "  Piece(rows=((False, False), (False, False), (False, False)), columns=((True, False, False), (True, False, False))),\n",
    "  Piece(rows=((True, False), (True, False), (True, False)), columns=((False, True, False), (True, False, False))),\n",
    "  Piece(rows=((True, False), (True, False), (True, False)), columns=((False, True, False), (False, True, False))),\n",
    "  Piece(rows=((False, False), (True, False), (False, False)), columns=((True, True, False), (False, True, False))),\n",
    "  Piece(rows=((True, False), (True, False), (True, False)), columns=((True, False, False), (False, True, False))),\n",
    "  Piece(rows=((True, False), (True, False), (True, False)), columns=((True, False, False), (True, True, False))),\n",
    "  Piece(rows=((True, False), (False, False), (False, False)), columns=((False, True, False), (False, True, False))),\n",
    "  Piece(rows=((True, False), (True, False), (True, False)), columns=((True, True, False), (True, True, False))),\n",
    "  Piece(rows=((True, False), (True, False), (True, False)), columns=((True, True, False), (False, True, False))),\n",
    "]\n",
    "\n",
    "print(sys.getsizeof(pieces[0].rows))"
   ]
  },
  {
   "cell_type": "code",
   "execution_count": 3,
   "metadata": {},
   "outputs": [
    {
     "data": {
      "text/plain": [
       " -\n",
       "| |\n",
       " -"
      ]
     },
     "execution_count": 3,
     "metadata": {},
     "output_type": "execute_result"
    }
   ],
   "source": [
    "pieces[0]"
   ]
  },
  {
   "cell_type": "code",
   "execution_count": 4,
   "metadata": {},
   "outputs": [
    {
     "data": {
      "text/plain": [
       "|\n",
       "|"
      ]
     },
     "execution_count": 4,
     "metadata": {},
     "output_type": "execute_result"
    }
   ],
   "source": [
    "pieces[1]"
   ]
  },
  {
   "cell_type": "code",
   "execution_count": 5,
   "metadata": {},
   "outputs": [
    {
     "data": {
      "text/plain": [
       "{   -\n",
       " | | |\n",
       "  - -,\n",
       "  -\n",
       " |  \n",
       "  -\n",
       " | |\n",
       "  -,\n",
       "  -\n",
       " | |\n",
       "  -\n",
       "   |\n",
       "  -,\n",
       "  - -\n",
       " | | |\n",
       "  -  }"
      ]
     },
     "execution_count": 5,
     "metadata": {},
     "output_type": "execute_result"
    }
   ],
   "source": [
    "pieces[9].rotations()"
   ]
  },
  {
   "cell_type": "code",
   "execution_count": 6,
   "metadata": {},
   "outputs": [
    {
     "data": {
      "text/plain": [
       "{ -\n",
       " | |\n",
       "  -}"
      ]
     },
     "execution_count": 6,
     "metadata": {},
     "output_type": "execute_result"
    }
   ],
   "source": [
    "pieces[0].rotations()"
   ]
  },
  {
   "cell_type": "code",
   "execution_count": 7,
   "metadata": {},
   "outputs": [],
   "source": [
    "class Puzzle():\n",
    "  rows: np.ndarray[np.int8, np.int8]\n",
    "  cols: np.ndarray[np.int8, np.int8]\n",
    "\n",
    "  def __init__(\n",
    "      self,\n",
    "      rows=np.zeros((5,5), dtype=np.int8),\n",
    "      cols=np.zeros((4,6), dtype=np.int8),\n",
    "    ):\n",
    "    self.rows = rows\n",
    "    self.cols = cols\n",
    "\n",
    "  def __repr__(self):\n",
    "    buffer = []\n",
    "    for row, column in zip_longest(self.rows, self.cols):\n",
    "        if row is not None:\n",
    "          buffer.append(\" \" + \" \".join('-' if elem else '.' for elem in row))\n",
    "        if column is not None:\n",
    "          buffer.append(\" \".join('|' if elem else '.' for elem in column))\n",
    "    return \"\\n\".join(buffer)\n",
    "\n",
    "  def __hash__(self):\n",
    "    return hash((tuple(self.rows.flatten()), tuple(self.cols.flatten())))\n",
    "\n",
    "  def __eq__(self, other):\n",
    "    if isinstance(other, Puzzle):\n",
    "        return np.array_equal(self.rows, other.rows) and np.array_equal(self.cols, other.cols)\n",
    "    return NotImplemented\n",
    "\n",
    "  def with_piece(self, piece: Piece, toprow: int, topcol: int) -> \"Puzzle\":\n",
    "    unpacked_rows = np.unpackbits(piece.rows, axis=0, count=piece.num_rows)\n",
    "    unpacked_columns = np.unpackbits(piece.columns, axis=0, count=piece.num_columns)\n",
    "\n",
    "    if (toprow + unpacked_rows.shape[0] > self.rows.shape[0]):\n",
    "      return None\n",
    "    if (topcol + unpacked_rows.shape[1] > self.rows.shape[1]):\n",
    "      return None\n",
    "    if (toprow + unpacked_columns.shape[0] > self.cols.shape[0]):\n",
    "      return None\n",
    "    if (topcol + unpacked_columns.shape[1] > self.cols.shape[1]):\n",
    "      return None\n",
    "    \n",
    "    puzzle_rows = self.rows[toprow:toprow+unpacked_rows.shape[0], topcol:topcol+unpacked_rows.shape[1]]\n",
    "    if np.any(np.logical_and(puzzle_rows, unpacked_rows)):\n",
    "      return None\n",
    "\n",
    "    puzzle_cols = self.cols[toprow:toprow+unpacked_columns.shape[0], topcol:topcol+unpacked_columns.shape[1]]\n",
    "    if np.any(np.logical_and(puzzle_cols, unpacked_columns)):\n",
    "      return None\n",
    "    \n",
    "    new_rows = self.rows.copy()\n",
    "    puzzle_rows = new_rows[toprow:toprow+unpacked_rows.shape[0], topcol:topcol+unpacked_rows.shape[1]]\n",
    "    np.logical_or(puzzle_rows, unpacked_rows, out=puzzle_rows)\n",
    "\n",
    "    new_cols = self.cols.copy()\n",
    "    puzzle_cols = new_cols[toprow:toprow+unpacked_columns.shape[0], topcol:topcol+unpacked_columns.shape[1]]\n",
    "    np.logical_or(puzzle_cols, unpacked_columns, out=puzzle_cols)\n",
    "\n",
    "    return Puzzle(new_rows, new_cols)\n",
    "  \n",
    "  def spaces_left(self):\n",
    "    return np.size(self.cols) - np.count_nonzero(self.cols) + np.size(self.rows) - np.count_nonzero(self.rows)"
   ]
  },
  {
   "cell_type": "code",
   "execution_count": 8,
   "metadata": {},
   "outputs": [
    {
     "name": "stdout",
     "output_type": "stream",
     "text": [
      "69.7 µs ± 6.32 µs per loop (mean ± std. dev. of 7 runs, 10,000 loops each)\n"
     ]
    }
   ],
   "source": [
    "%timeit Puzzle().with_piece(pieces[7], 2, 3)"
   ]
  },
  {
   "cell_type": "code",
   "execution_count": 9,
   "metadata": {},
   "outputs": [
    {
     "name": "stdout",
     "output_type": "stream",
     "text": [
      "Timer unit: 1e-07 s\n",
      "\n",
      "Total time: 0.0003689 s\n",
      "File: C:\\Users\\Vidminas\\AppData\\Local\\Temp\\ipykernel_15096\\3392036377.py\n",
      "Function: with_piece at line 30\n",
      "\n",
      "Line #      Hits         Time  Per Hit   % Time  Line Contents\n",
      "==============================================================\n",
      "    30                                             def with_piece(self, piece: Piece, toprow: int, topcol: int) -> \"Puzzle\":\n",
      "    31         1        386.0    386.0     10.5      unpacked_rows = np.unpackbits(piece.rows, axis=0, count=piece.num_rows)\n",
      "    32         1        152.0    152.0      4.1      unpacked_columns = np.unpackbits(piece.columns, axis=0, count=piece.num_columns)\n",
      "    33                                           \n",
      "    34         1         81.0     81.0      2.2      if (toprow + unpacked_rows.shape[0] > self.rows.shape[0]):\n",
      "    35                                                 return None\n",
      "    36         1         33.0     33.0      0.9      if (topcol + unpacked_rows.shape[1] > self.rows.shape[1]):\n",
      "    37                                                 return None\n",
      "    38         1         31.0     31.0      0.8      if (toprow + unpacked_columns.shape[0] > self.cols.shape[0]):\n",
      "    39                                                 return None\n",
      "    40         1         31.0     31.0      0.8      if (topcol + unpacked_columns.shape[1] > self.cols.shape[1]):\n",
      "    41                                                 return None\n",
      "    42                                               \n",
      "    43         1        101.0    101.0      2.7      puzzle_rows = self.rows[toprow:toprow+unpacked_rows.shape[0], topcol:topcol+unpacked_rows.shape[1]]\n",
      "    44         1       1095.0   1095.0     29.7      if np.any(np.logical_and(puzzle_rows, unpacked_rows)):\n",
      "    45                                                 return None\n",
      "    46                                           \n",
      "    47         1         56.0     56.0      1.5      puzzle_cols = self.cols[toprow:toprow+unpacked_columns.shape[0], topcol:topcol+unpacked_columns.shape[1]]\n",
      "    48         1        489.0    489.0     13.3      if np.any(np.logical_and(puzzle_cols, unpacked_columns)):\n",
      "    49                                                 return None\n",
      "    50                                               \n",
      "    51         1        585.0    585.0     15.9      new_rows = self.rows.copy()\n",
      "    52         1         56.0     56.0      1.5      puzzle_rows = new_rows[toprow:toprow+unpacked_rows.shape[0], topcol:topcol+unpacked_rows.shape[1]]\n",
      "    53         1        179.0    179.0      4.9      np.logical_or(puzzle_rows, unpacked_rows, out=puzzle_rows)\n",
      "    54                                           \n",
      "    55         1        104.0    104.0      2.8      new_cols = self.cols.copy()\n",
      "    56         1         34.0     34.0      0.9      puzzle_cols = new_cols[toprow:toprow+unpacked_columns.shape[0], topcol:topcol+unpacked_columns.shape[1]]\n",
      "    57         1        204.0    204.0      5.5      np.logical_or(puzzle_cols, unpacked_columns, out=puzzle_cols)\n",
      "    58                                           \n",
      "    59         1         72.0     72.0      2.0      return Puzzle(new_rows, new_cols)"
     ]
    }
   ],
   "source": [
    "%lprun -f Puzzle.with_piece Puzzle().with_piece(pieces[7], 2, 3)"
   ]
  },
  {
   "cell_type": "code",
   "execution_count": 10,
   "metadata": {},
   "outputs": [
    {
     "data": {
      "text/plain": [
       " . . . . .\n",
       ". . . . . .\n",
       " . . . . .\n",
       ". . . . . .\n",
       " . . . . .\n",
       ". . . . . .\n",
       " . . . . .\n",
       ". . . . . .\n",
       " . . . . ."
      ]
     },
     "execution_count": 10,
     "metadata": {},
     "output_type": "execute_result"
    }
   ],
   "source": [
    "Puzzle()"
   ]
  },
  {
   "cell_type": "code",
   "execution_count": 11,
   "metadata": {},
   "outputs": [
    {
     "data": {
      "text/plain": [
       "49"
      ]
     },
     "execution_count": 11,
     "metadata": {},
     "output_type": "execute_result"
    }
   ],
   "source": [
    "Puzzle().spaces_left()"
   ]
  },
  {
   "cell_type": "code",
   "execution_count": 12,
   "metadata": {},
   "outputs": [
    {
     "data": {
      "text/plain": [
       " . . . . .\n",
       ". . . . . .\n",
       " . . . . -\n",
       ". . . . | |\n",
       " . . . . -\n",
       ". . . . . .\n",
       " . . . . .\n",
       ". . . . . .\n",
       " . . . . ."
      ]
     },
     "execution_count": 12,
     "metadata": {},
     "output_type": "execute_result"
    }
   ],
   "source": [
    "Puzzle().with_piece(pieces[0], 1, 4)"
   ]
  },
  {
   "cell_type": "code",
   "execution_count": 13,
   "metadata": {},
   "outputs": [
    {
     "data": {
      "text/plain": [
       " - - . . .\n",
       "| . . . . .\n",
       " . . . . .\n",
       ". . . . . .\n",
       " . . . . .\n",
       ". . . . . .\n",
       " . . . . .\n",
       ". . . . . .\n",
       " . . . . ."
      ]
     },
     "execution_count": 13,
     "metadata": {},
     "output_type": "execute_result"
    }
   ],
   "source": [
    "Puzzle().with_piece(pieces[7].rotated(), 0, 0)"
   ]
  },
  {
   "cell_type": "code",
   "execution_count": 14,
   "metadata": {},
   "outputs": [
    {
     "data": {
      "text/plain": [
       " - - - . .\n",
       ". | | . . .\n",
       " - - . . .\n",
       ". | . . . .\n",
       " - . . . .\n",
       ". . . . . .\n",
       " . . . . .\n",
       ". . . . . .\n",
       " . . . . ."
      ]
     },
     "execution_count": 14,
     "metadata": {},
     "output_type": "execute_result"
    }
   ],
   "source": [
    "Puzzle().with_piece(pieces[3], 0, 0).with_piece(pieces[4].rotated(), 0, 1)"
   ]
  },
  {
   "cell_type": "code",
   "execution_count": 15,
   "metadata": {},
   "outputs": [
    {
     "data": {
      "text/plain": [
       " . . . . .\n",
       ". . . . . .\n",
       " . - . . .\n",
       "| | | . . .\n",
       " - - . . .\n",
       ". . . . . .\n",
       " . . . . .\n",
       ". . . . . .\n",
       " . . . . ."
      ]
     },
     "execution_count": 15,
     "metadata": {},
     "output_type": "execute_result"
    }
   ],
   "source": [
    "Puzzle().with_piece(pieces[9].rotated().rotated().rotated(), 1, 0)"
   ]
  },
  {
   "cell_type": "code",
   "execution_count": 16,
   "metadata": {},
   "outputs": [],
   "source": [
    "from copy import copy\n",
    "\n",
    "bad_puzzles = set()\n",
    "\n",
    "# pick a puzzle piece\n",
    "# choose rotation\n",
    "# find top-left free corner\n",
    "# put piece if it fits\n",
    "# check for solved\n",
    "def attempt(puzzle: Puzzle, used_pieces: dict[int, tuple]):\n",
    "  if puzzle in bad_puzzles:\n",
    "    return None\n",
    "  if puzzle.spaces_left() == 2:\n",
    "    return puzzle, used_pieces\n",
    "  \n",
    "  candidates = []\n",
    "  for i in range(len(pieces)):\n",
    "    if i in used_pieces:\n",
    "      continue\n",
    "\n",
    "    for rotation in pieces[i].rotations():\n",
    "      for row in range(0, len(puzzle.rows)):\n",
    "        for col in range(0, len(puzzle.cols)):\n",
    "          candidate = puzzle.with_piece(rotation, row, col)\n",
    "    \n",
    "          if candidate is not None:\n",
    "            if candidate in bad_puzzles:\n",
    "              continue\n",
    "\n",
    "            candidate_used_pieces = copy(used_pieces)\n",
    "            candidate_used_pieces[i] = (rotation, row, col)\n",
    "            candidates.append((candidate, candidate_used_pieces))\n",
    "    \n",
    "  for candidate, candidate_used_pieces in candidates:\n",
    "    result = attempt(candidate, candidate_used_pieces)\n",
    "    if result is not None:\n",
    "      return result\n",
    "\n",
    "  bad_puzzles.add(puzzle)\n",
    "  return None"
   ]
  },
  {
   "cell_type": "code",
   "execution_count": 17,
   "metadata": {},
   "outputs": [
    {
     "name": "stdout",
     "output_type": "stream",
     "text": [
      "*** KeyboardInterrupt exception caught in code being profiled."
     ]
    },
    {
     "name": "stdout",
     "output_type": "stream",
     "text": [
      "Timer unit: 1e-07 s\n",
      "\n",
      "Total time: 57.0715 s\n",
      "File: C:\\Users\\Vidminas\\AppData\\Local\\Temp\\ipykernel_15096\\3240605786.py\n",
      "Function: attempt at line 10\n",
      "\n",
      "Line #      Hits         Time  Per Hit   % Time  Line Contents\n",
      "==============================================================\n",
      "    10                                           def attempt(puzzle: Puzzle, used_pieces: dict[int, tuple]):\n",
      "    11      4792    1103977.0    230.4      0.2    if puzzle in bad_puzzles:\n",
      "    12                                               return None\n",
      "    13      4792    1694660.0    353.6      0.3    if puzzle.spaces_left() == 2:\n",
      "    14                                               return puzzle, used_pieces\n",
      "    15                                             \n",
      "    16      4792      47611.0      9.9      0.0    candidates = []\n",
      "    17     52708     555946.0     10.5      0.1    for i in range(len(pieces)):\n",
      "    18     47917     538634.0     11.2      0.1      if i in used_pieces:\n",
      "    19     32078     203834.0      6.4      0.0        continue\n",
      "    20                                           \n",
      "    21     63580    5327101.0     83.8      0.9      for rotation in pieces[i].rotations():\n",
      "    22    286446    3237932.0     11.3      0.6        for row in range(0, len(puzzle.rows)):\n",
      "    23   1193525   17696970.0     14.8      3.1          for col in range(0, len(puzzle.cols)):\n",
      "    24    954820  519946235.0    544.5     91.1            candidate = puzzle.with_piece(rotation, row, col)\n",
      "    25                                               \n",
      "    26    954820    8636520.0      9.0      1.5            if candidate is not None:\n",
      "    27     13599    9084261.0    668.0      1.6              if candidate in bad_puzzles:\n",
      "    28      8243      73824.0      9.0      0.0                continue\n",
      "    29                                           \n",
      "    30      5356     499708.0     93.3      0.1              candidate_used_pieces = copy(used_pieces)\n",
      "    31      5356      99349.0     18.5      0.0              candidate_used_pieces[i] = (rotation, row, col)\n",
      "    32      5356     110673.0     20.7      0.0              candidates.append((candidate, candidate_used_pieces))\n",
      "    33                                               \n",
      "    34      9576     154974.0     16.2      0.0    for candidate, candidate_used_pieces in candidates:\n",
      "    35      4791     105334.0     22.0      0.0      result = attempt(candidate, candidate_used_pieces)\n",
      "    36      4785      65762.0     13.7      0.0      if result is not None:\n",
      "    37                                                 return result\n",
      "    38                                           \n",
      "    39      4785    1495149.0    312.5      0.3    bad_puzzles.add(puzzle)\n",
      "    40      4785      36208.0      7.6      0.0    return None"
     ]
    }
   ],
   "source": [
    "rot9 = pieces[9].rotated().rotated().rotated()\n",
    "puzzle = Puzzle().with_piece(rot9, 1, 0)\n",
    "%lprun -f attempt attempt(puzzle, {9: (rot9, 1, 0)})"
   ]
  },
  {
   "cell_type": "code",
   "execution_count": 18,
   "metadata": {},
   "outputs": [
    {
     "data": {
      "text/plain": [
       "4785"
      ]
     },
     "execution_count": 18,
     "metadata": {},
     "output_type": "execute_result"
    }
   ],
   "source": [
    "len(bad_puzzles)"
   ]
  },
  {
   "cell_type": "code",
   "execution_count": 19,
   "metadata": {},
   "outputs": [
    {
     "data": {
      "text/plain": [
       " - . . . -\n",
       "| | . | | .\n",
       " - - . - -\n",
       "| | | | . .\n",
       " - - - - .\n",
       ". . | | | .\n",
       " - . . . -\n",
       "| | | | | |\n",
       " . - . - -"
      ]
     },
     "execution_count": 19,
     "metadata": {},
     "output_type": "execute_result"
    }
   ],
   "source": [
    "next(iter(bad_puzzles))"
   ]
  }
 ],
 "metadata": {
  "kernelspec": {
   "display_name": "inf1b-ptas",
   "language": "python",
   "name": "python3"
  },
  "language_info": {
   "codemirror_mode": {
    "name": "ipython",
    "version": 3
   },
   "file_extension": ".py",
   "mimetype": "text/x-python",
   "name": "python",
   "nbconvert_exporter": "python",
   "pygments_lexer": "ipython3",
   "version": "3.11.3"
  }
 },
 "nbformat": 4,
 "nbformat_minor": 2
}
