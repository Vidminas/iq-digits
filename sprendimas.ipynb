{
 "cells": [
  {
   "cell_type": "code",
   "execution_count": 254,
   "metadata": {},
   "outputs": [
    {
     "name": "stdout",
     "output_type": "stream",
     "text": [
      "The line_profiler extension is already loaded. To reload it, use:\n",
      "  %reload_ext line_profiler\n"
     ]
    }
   ],
   "source": [
    "import numpy as np\n",
    "from functools import cache\n",
    "from itertools import zip_longest\n",
    "import sys\n",
    "\n",
    "%load_ext line_profiler"
   ]
  },
  {
   "cell_type": "code",
   "execution_count": 255,
   "metadata": {},
   "outputs": [
    {
     "name": "stdout",
     "output_type": "stream",
     "text": [
      "129\n"
     ]
    }
   ],
   "source": [
    "class Piece():\n",
    "  rows: np.ndarray[np.uint8, np.uint8]\n",
    "  cols: np.ndarray[np.uint8, np.uint8]\n",
    "  rows_height: int\n",
    "  rows_width: int\n",
    "  cols_height: int\n",
    "  cols_width: int\n",
    "\n",
    "  def __init__(self, rows: tuple[tuple[bool]] | np.ndarray[np.uint8, np.uint8], cols: tuple[tuple[bool]] | np.ndarray[np.uint8, np.uint8]):\n",
    "    rows = np.asarray(rows)\n",
    "    cols = np.asarray(cols)\n",
    "\n",
    "    # Trim piece to size\n",
    "    while rows.size and ~np.any(rows[-1]) and cols.size and ~np.any(cols[-1]):\n",
    "       rows = rows[:-1]\n",
    "       cols = cols[:-1]\n",
    "\n",
    "    while rows.size and ~np.any(rows[:,-1]) and cols.size and ~np.any(cols[:,-1]):\n",
    "       rows = rows[:,:-1]\n",
    "       cols = cols[:,:-1]\n",
    "    \n",
    "    # Edge case: when all rows or cols are trimmed from one side\n",
    "    self.rows_height = 0 if not rows.size else rows.shape[0]\n",
    "    self.rows_width = 0 if not rows.size else rows.shape[1]\n",
    "    self.cols_height = 0 if not cols.size else cols.shape[0]\n",
    "    self.cols_width = 0 if not cols.size else cols.shape[1]\n",
    "    self.rows = np.packbits(rows, axis=0)\n",
    "    self.cols = np.packbits(cols, axis=0)\n",
    "\n",
    "  def __repr__(self):\n",
    "    rows = np.unpackbits(self.rows, axis=0, count=self.rows_height)\n",
    "    cols = np.unpackbits(self.cols, axis=0, count=self.cols_height)\n",
    "    buffer = []\n",
    "    for row, col in zip_longest(rows, cols):\n",
    "        if row is not None:\n",
    "          buffer.append(\" \" + \" \".join('-' if elem else ' ' for elem in row))\n",
    "        if col is not None:\n",
    "          buffer.append(\" \".join('|' if elem else ' ' for elem in col))\n",
    "    return \"\\n\".join(buffer)\n",
    "  \n",
    "  def __hash__(self):\n",
    "     return hash((tuple(self.rows.flatten()), tuple(self.cols.flatten())))\n",
    "\n",
    "  def __eq__(self, other):\n",
    "      if isinstance(other, Piece):\n",
    "          return np.array_equal(self.rows, other.rows) and np.array_equal(self.cols, other.cols)\n",
    "      return NotImplemented\n",
    "    \n",
    "  def rotated(self):\n",
    "    unpacked_rows = np.unpackbits(self.rows, axis=0, count=self.rows_height)\n",
    "    unpacked_columns = np.unpackbits(self.cols, axis=0, count=self.cols_height)\n",
    "\n",
    "    rows = np.rot90(unpacked_columns, 1)\n",
    "    cols = np.rot90(unpacked_rows, 1)\n",
    "\n",
    "    while rows.size and ~np.any(rows[0]) and cols.size and ~np.any(cols[0]):\n",
    "      # top row is empty, so we can shift digit up\n",
    "      rows = np.roll(rows, -1, 0)\n",
    "      cols = np.roll(cols, -1, 0)\n",
    "\n",
    "    return Piece(rows, cols)\n",
    "  \n",
    "  @cache\n",
    "  def rotations(self):\n",
    "    a = self\n",
    "    b = a.rotated()\n",
    "    c = b.rotated()\n",
    "    d = c.rotated()\n",
    "    return set((a, b, c, d))\n",
    "\n",
    "pieces = [\n",
    "  Piece(rows=((True, False), (True, False), (False, False)), cols=((True, True, False), (False, False, False))),\n",
    "  Piece(rows=((False, False), (False, False), (False, False)), cols=((True, False, False), (True, False, False))),\n",
    "  Piece(rows=((True, False), (True, False), (True, False)), cols=((False, True, False), (True, False, False))),\n",
    "  Piece(rows=((True, False), (True, False), (True, False)), cols=((False, True, False), (False, True, False))),\n",
    "  Piece(rows=((False, False), (True, False), (False, False)), cols=((True, True, False), (False, True, False))),\n",
    "  Piece(rows=((True, False), (True, False), (True, False)), cols=((True, False, False), (False, True, False))),\n",
    "  Piece(rows=((True, False), (True, False), (True, False)), cols=((True, False, False), (True, True, False))),\n",
    "  Piece(rows=((True, False), (False, False), (False, False)), cols=((False, True, False), (False, True, False))),\n",
    "  Piece(rows=((True, False), (True, False), (True, False)), cols=((True, True, False), (True, True, False))),\n",
    "  Piece(rows=((True, False), (True, False), (True, False)), cols=((True, True, False), (False, True, False))),\n",
    "]\n",
    "\n",
    "print(sys.getsizeof(pieces[0].rows))"
   ]
  },
  {
   "cell_type": "code",
   "execution_count": 256,
   "metadata": {},
   "outputs": [
    {
     "data": {
      "text/plain": [
       " -\n",
       "| |\n",
       " -"
      ]
     },
     "execution_count": 256,
     "metadata": {},
     "output_type": "execute_result"
    }
   ],
   "source": [
    "pieces[0]"
   ]
  },
  {
   "cell_type": "code",
   "execution_count": 257,
   "metadata": {},
   "outputs": [
    {
     "data": {
      "text/plain": [
       "|\n",
       "|"
      ]
     },
     "execution_count": 257,
     "metadata": {},
     "output_type": "execute_result"
    }
   ],
   "source": [
    "pieces[1]"
   ]
  },
  {
   "cell_type": "code",
   "execution_count": 258,
   "metadata": {},
   "outputs": [
    {
     "data": {
      "text/plain": [
       "{   -\n",
       " | | |\n",
       "  - -,\n",
       "  -\n",
       " |  \n",
       "  -\n",
       " | |\n",
       "  -,\n",
       "  -\n",
       " | |\n",
       "  -\n",
       "   |\n",
       "  -,\n",
       "  - -\n",
       " | | |\n",
       "  -  }"
      ]
     },
     "execution_count": 258,
     "metadata": {},
     "output_type": "execute_result"
    }
   ],
   "source": [
    "pieces[9].rotations()"
   ]
  },
  {
   "cell_type": "code",
   "execution_count": 259,
   "metadata": {},
   "outputs": [
    {
     "data": {
      "text/plain": [
       "{ -\n",
       " | |\n",
       "  -}"
      ]
     },
     "execution_count": 259,
     "metadata": {},
     "output_type": "execute_result"
    }
   ],
   "source": [
    "pieces[0].rotations()"
   ]
  },
  {
   "cell_type": "code",
   "execution_count": 260,
   "metadata": {},
   "outputs": [],
   "source": [
    "class Puzzle():\n",
    "  ROWS_HEIGHT = 5\n",
    "  ROWS_WIDTH = 5\n",
    "  COLS_HEIGHT = 4\n",
    "  COLS_WIDTH = 6\n",
    "  rows: np.ndarray[np.uint8, np.uint8]\n",
    "  cols: np.ndarray[np.uint8, np.uint8]\n",
    "\n",
    "  def __init__(\n",
    "      self,\n",
    "      rows=np.packbits(np.zeros((ROWS_HEIGHT,ROWS_WIDTH), dtype=np.uint8), axis=0),\n",
    "      cols=np.packbits(np.zeros((COLS_HEIGHT,COLS_WIDTH), dtype=np.uint8), axis=0),\n",
    "    ):\n",
    "    self.rows = rows\n",
    "    self.cols = cols\n",
    "\n",
    "  def __repr__(self):\n",
    "    rows = np.unpackbits(self.rows, axis=0, count=self.ROWS_HEIGHT)\n",
    "    cols = np.unpackbits(self.cols, axis=0, count=self.COLS_HEIGHT)\n",
    "    buffer = []\n",
    "    for row, col in zip_longest(rows, cols):\n",
    "        if row is not None:\n",
    "          buffer.append(\" \" + \" \".join('-' if elem else '.' for elem in row))\n",
    "        if col is not None:\n",
    "          buffer.append(\" \".join('|' if elem else '.' for elem in col))\n",
    "    return \"\\n\".join(buffer)\n",
    "\n",
    "  def __hash__(self):\n",
    "    return hash((tuple(self.rows.flatten()), tuple(self.cols.flatten())))\n",
    "\n",
    "  def __eq__(self, other):\n",
    "    if isinstance(other, Puzzle):\n",
    "        return np.array_equal(self.rows, other.rows) and np.array_equal(self.cols, other.cols)\n",
    "    return NotImplemented\n",
    "\n",
    "  def with_piece(self, piece: Piece, toprow: int, topcol: int) -> \"Puzzle\":\n",
    "    if (toprow + piece.rows_height > self.ROWS_HEIGHT):\n",
    "      return None\n",
    "    if (topcol + piece.rows_width > self.ROWS_WIDTH):\n",
    "      return None\n",
    "    if (toprow + piece.cols_height > self.COLS_HEIGHT):\n",
    "      return None\n",
    "    if (topcol + piece.cols_width > self.COLS_WIDTH):\n",
    "      return None\n",
    "    \n",
    "    mask_rows = np.zeros_like(self.rows)\n",
    "    if piece.rows.size:\n",
    "      mask_rows[:,topcol:topcol+piece.rows.shape[1]] = piece.rows >> toprow\n",
    "\n",
    "    mask_cols = np.zeros_like(self.cols)\n",
    "    if piece.cols.size:\n",
    "      mask_cols[:,topcol:topcol+piece.cols.shape[1]] = piece.cols >> toprow\n",
    "\n",
    "    if np.any(np.bitwise_and(self.rows, mask_rows)):\n",
    "      return None\n",
    "    if np.any(np.bitwise_and(self.cols, mask_cols)):\n",
    "      return None\n",
    "\n",
    "    np.bitwise_or(self.rows, mask_rows, out=mask_rows)\n",
    "    np.bitwise_or(self.cols, mask_cols, out=mask_cols)\n",
    "\n",
    "    return Puzzle(mask_rows, mask_cols)\n",
    "  \n",
    "  def spaces_left(self):\n",
    "    unpacked_rows = np.unpackbits(self.rows, axis=0, count=self.ROWS_HEIGHT)\n",
    "    unpacked_cols = np.unpackbits(self.cols, axis=0, count=self.COLS_HEIGHT)\n",
    "    return np.size(unpacked_cols) - np.count_nonzero(unpacked_cols) + np.size(unpacked_rows) - np.count_nonzero(unpacked_rows)"
   ]
  },
  {
   "cell_type": "code",
   "execution_count": 261,
   "metadata": {},
   "outputs": [
    {
     "name": "stdout",
     "output_type": "stream",
     "text": [
      "49.3 µs ± 12.7 µs per loop (mean ± std. dev. of 7 runs, 10,000 loops each)\n"
     ]
    }
   ],
   "source": [
    "%timeit Puzzle().with_piece(pieces[7], 2, 3)"
   ]
  },
  {
   "cell_type": "code",
   "execution_count": 262,
   "metadata": {},
   "outputs": [
    {
     "name": "stdout",
     "output_type": "stream",
     "text": [
      "Timer unit: 1e-07 s\n",
      "\n",
      "Total time: 0.000263 s\n",
      "File: C:\\Users\\Vidminas\\AppData\\Local\\Temp\\ipykernel_16496\\203149168.py\n",
      "Function: with_piece at line 36\n",
      "\n",
      "Line #      Hits         Time  Per Hit   % Time  Line Contents\n",
      "==============================================================\n",
      "    36                                             def with_piece(self, piece: Piece, toprow: int, topcol: int) -> \"Puzzle\":\n",
      "    37         1         32.0     32.0      1.2      if (toprow + piece.rows_height > self.ROWS_HEIGHT):\n",
      "    38                                                 return None\n",
      "    39         1         15.0     15.0      0.6      if (topcol + piece.rows_width > self.ROWS_WIDTH):\n",
      "    40                                                 return None\n",
      "    41         1         13.0     13.0      0.5      if (toprow + piece.cols_height > self.COLS_HEIGHT):\n",
      "    42                                                 return None\n",
      "    43         1         31.0     31.0      1.2      if (topcol + piece.cols_width > self.COLS_WIDTH):\n",
      "    44                                                 return None\n",
      "    45                                               \n",
      "    46         1        490.0    490.0     18.6      mask_rows = np.zeros_like(self.rows)\n",
      "    47         1         30.0     30.0      1.1      if piece.rows.size:\n",
      "    48         1        447.0    447.0     17.0        mask_rows[:,topcol:topcol+piece.rows.shape[1]] = piece.rows >> toprow\n",
      "    49                                           \n",
      "    50         1        193.0    193.0      7.3      mask_cols = np.zeros_like(self.cols)\n",
      "    51         1         18.0     18.0      0.7      if piece.cols.size:\n",
      "    52         1        155.0    155.0      5.9        mask_cols[:,topcol:topcol+piece.cols.shape[1]] = piece.cols >> toprow\n",
      "    53                                           \n",
      "    54         1        646.0    646.0     24.6      if np.any(np.bitwise_and(self.rows, mask_rows)):\n",
      "    55                                                 return None\n",
      "    56         1        433.0    433.0     16.5      if np.any(np.bitwise_and(self.cols, mask_cols)):\n",
      "    57                                                 return None\n",
      "    58                                           \n",
      "    59         1         51.0     51.0      1.9      np.bitwise_or(self.rows, mask_rows, out=mask_rows)\n",
      "    60         1         26.0     26.0      1.0      np.bitwise_or(self.cols, mask_cols, out=mask_cols)\n",
      "    61                                           \n",
      "    62         1         50.0     50.0      1.9      return Puzzle(mask_rows, mask_cols)"
     ]
    }
   ],
   "source": [
    "%lprun -f Puzzle.with_piece Puzzle().with_piece(pieces[7], 2, 3)"
   ]
  },
  {
   "cell_type": "code",
   "execution_count": 263,
   "metadata": {},
   "outputs": [
    {
     "data": {
      "text/plain": [
       " . . . . .\n",
       ". . . . . .\n",
       " . . . . .\n",
       ". . . . . .\n",
       " . . . . .\n",
       ". . . . . .\n",
       " . . . . .\n",
       ". . . . . .\n",
       " . . . . ."
      ]
     },
     "execution_count": 263,
     "metadata": {},
     "output_type": "execute_result"
    }
   ],
   "source": [
    "Puzzle()"
   ]
  },
  {
   "cell_type": "code",
   "execution_count": 264,
   "metadata": {},
   "outputs": [
    {
     "data": {
      "text/plain": [
       "49"
      ]
     },
     "execution_count": 264,
     "metadata": {},
     "output_type": "execute_result"
    }
   ],
   "source": [
    "Puzzle().spaces_left()"
   ]
  },
  {
   "cell_type": "code",
   "execution_count": 265,
   "metadata": {},
   "outputs": [
    {
     "data": {
      "text/plain": [
       " . . . . .\n",
       ". . . . . .\n",
       " . . . . .\n",
       ". . . . . .\n",
       " . . . . .\n",
       ". . . . . .\n",
       " . . . . -\n",
       ". . . . | |\n",
       " . . . . -"
      ]
     },
     "execution_count": 265,
     "metadata": {},
     "output_type": "execute_result"
    }
   ],
   "source": [
    "Puzzle().with_piece(pieces[0], 3, 4)"
   ]
  },
  {
   "cell_type": "code",
   "execution_count": 266,
   "metadata": {},
   "outputs": [
    {
     "data": {
      "text/plain": [
       " - - . . .\n",
       "| . . . . .\n",
       " . . . . .\n",
       ". . . . . .\n",
       " . . . . .\n",
       ". . . . . .\n",
       " . . . . .\n",
       ". . . . . .\n",
       " . . . . ."
      ]
     },
     "execution_count": 266,
     "metadata": {},
     "output_type": "execute_result"
    }
   ],
   "source": [
    "Puzzle().with_piece(pieces[7].rotated(), 0, 0)"
   ]
  },
  {
   "cell_type": "code",
   "execution_count": 267,
   "metadata": {},
   "outputs": [
    {
     "data": {
      "text/plain": [
       " - - - . .\n",
       ". | | . . .\n",
       " - - . . .\n",
       ". | . . . .\n",
       " - . . . .\n",
       ". . . . . .\n",
       " . . . . .\n",
       ". . . . . .\n",
       " . . . . ."
      ]
     },
     "execution_count": 267,
     "metadata": {},
     "output_type": "execute_result"
    }
   ],
   "source": [
    "Puzzle().with_piece(pieces[3], 0, 0).with_piece(pieces[4].rotated(), 0, 1)"
   ]
  },
  {
   "cell_type": "code",
   "execution_count": 268,
   "metadata": {},
   "outputs": [
    {
     "data": {
      "text/plain": [
       " . . . . .\n",
       ". . . . . .\n",
       " . - . . .\n",
       "| | | . . .\n",
       " - - . . .\n",
       ". . . . . .\n",
       " . . . . .\n",
       ". . . . . .\n",
       " . . . . ."
      ]
     },
     "execution_count": 268,
     "metadata": {},
     "output_type": "execute_result"
    }
   ],
   "source": [
    "Puzzle().with_piece(pieces[9].rotated().rotated().rotated(), 1, 0)"
   ]
  },
  {
   "cell_type": "code",
   "execution_count": 276,
   "metadata": {},
   "outputs": [],
   "source": [
    "from copy import copy\n",
    "\n",
    "# larger pieces ordered first, as this prunes more candidate solutions\n",
    "pieces_order = (8, 9, 6, 5, 2, 0, 4, 3, 7, 1)\n",
    "bad_puzzles = set()\n",
    "\n",
    "# pick a puzzle piece\n",
    "# choose rotation\n",
    "# find top-left free corner\n",
    "# put piece if it fits\n",
    "# check for solved\n",
    "def attempt(puzzle: Puzzle, used_pieces: dict[int, tuple]):\n",
    "  if puzzle in bad_puzzles:\n",
    "    return None\n",
    "  if puzzle.spaces_left() == 2:\n",
    "    return puzzle, used_pieces\n",
    "  \n",
    "  candidates = []\n",
    "  for i in pieces_order:\n",
    "    if i in used_pieces:\n",
    "      continue\n",
    "\n",
    "    for rotation in pieces[i].rotations():\n",
    "      for row in range(0, puzzle.ROWS_HEIGHT):\n",
    "        for col in range(0, puzzle.COLS_HEIGHT):\n",
    "          candidate = puzzle.with_piece(rotation, row, col)\n",
    "    \n",
    "          if candidate is not None:\n",
    "            if candidate in bad_puzzles:\n",
    "              continue\n",
    "\n",
    "            candidate_used_pieces = copy(used_pieces)\n",
    "            candidate_used_pieces[i] = (rotation, row, col)\n",
    "            candidates.append((candidate, candidate_used_pieces))\n",
    "    \n",
    "  for candidate, candidate_used_pieces in candidates:\n",
    "    result = attempt(candidate, candidate_used_pieces)\n",
    "    if result is not None:\n",
    "      return result\n",
    "\n",
    "  bad_puzzles.add(puzzle)\n",
    "  return None"
   ]
  },
  {
   "cell_type": "code",
   "execution_count": 277,
   "metadata": {},
   "outputs": [
    {
     "name": "stdout",
     "output_type": "stream",
     "text": [
      "*** KeyboardInterrupt exception caught in code being profiled."
     ]
    },
    {
     "name": "stdout",
     "output_type": "stream",
     "text": [
      "Timer unit: 1e-07 s\n",
      "\n",
      "Total time: 103.742 s\n",
      "File: C:\\Users\\Vidminas\\AppData\\Local\\Temp\\ipykernel_16496\\3539410899.py\n",
      "Function: attempt at line 12\n",
      "\n",
      "Line #      Hits         Time  Per Hit   % Time  Line Contents\n",
      "==============================================================\n",
      "    12                                           def attempt(puzzle: Puzzle, used_pieces: dict[int, tuple]):\n",
      "    13      6204    2173526.0    350.3      0.2    if puzzle in bad_puzzles:\n",
      "    14      1031       8835.0      8.6      0.0      return None\n",
      "    15      5173    3392998.0    655.9      0.3    if puzzle.spaces_left() == 2:\n",
      "    16                                               return puzzle, used_pieces\n",
      "    17                                             \n",
      "    18      5173      60384.0     11.7      0.0    candidates = []\n",
      "    19     56896     683548.0     12.0      0.1    for i in pieces_order:\n",
      "    20     51724     673985.0     13.0      0.1      if i in used_pieces:\n",
      "    21     33351     232179.0      7.0      0.0        continue\n",
      "    22                                           \n",
      "    23     68463    8201368.0    119.8      0.8      for rotation in pieces[i].rotations():\n",
      "    24    300544    3750284.0     12.5      0.4        for row in range(0, puzzle.ROWS_HEIGHT):\n",
      "    25   1252267   21625204.0     17.3      2.1          for col in range(0, puzzle.COLS_HEIGHT):\n",
      "    26   1001814  971815303.0    970.1     93.7            candidate = puzzle.with_piece(rotation, row, col)\n",
      "    27                                               \n",
      "    28   1001813   10885046.0     10.9      1.0            if candidate is not None:\n",
      "    29     15075   10590739.0    702.5      1.0              if candidate in bad_puzzles:\n",
      "    30      8426      79829.0      9.5      0.0                continue\n",
      "    31                                           \n",
      "    32      6649     623918.0     93.8      0.1              candidate_used_pieces = copy(used_pieces)\n",
      "    33      6649     139372.0     21.0      0.0              candidate_used_pieces[i] = (rotation, row, col)\n",
      "    34      6649     184670.0     27.8      0.0              candidates.append((candidate, candidate_used_pieces))\n",
      "    35                                               \n",
      "    36     11368     242422.0     21.3      0.0    for candidate, candidate_used_pieces in candidates:\n",
      "    37      6203     178110.0     28.7      0.0      result = attempt(candidate, candidate_used_pieces)\n",
      "    38      6196      97108.0     15.7      0.0      if result is not None:\n",
      "    39                                                 return result\n",
      "    40                                           \n",
      "    41      5165    1723998.0    333.8      0.2    bad_puzzles.add(puzzle)\n",
      "    42      5165      62025.0     12.0      0.0    return None"
     ]
    }
   ],
   "source": [
    "rot9 = pieces[9].rotated().rotated().rotated()\n",
    "puzzle = Puzzle().with_piece(rot9, 1, 0)\n",
    "# solution = attempt(puzzle, {9: (rot9, 1, 0)})\n",
    "# solution\n",
    "%lprun -f attempt attempt(puzzle, {9: (rot9, 1, 0)})"
   ]
  },
  {
   "cell_type": "code",
   "execution_count": 274,
   "metadata": {},
   "outputs": [
    {
     "data": {
      "text/plain": [
       "2040965"
      ]
     },
     "execution_count": 274,
     "metadata": {},
     "output_type": "execute_result"
    }
   ],
   "source": [
    "len(bad_puzzles)"
   ]
  },
  {
   "cell_type": "code",
   "execution_count": 275,
   "metadata": {},
   "outputs": [
    {
     "data": {
      "text/plain": [
       " - - - - .\n",
       "| | . . | .\n",
       " - - . - .\n",
       "| | | . | .\n",
       " - - - - .\n",
       ". | | | . .\n",
       " . - . - -\n",
       ". . . | | .\n",
       " . - - - ."
      ]
     },
     "execution_count": 275,
     "metadata": {},
     "output_type": "execute_result"
    }
   ],
   "source": [
    "next(iter(bad_puzzles))"
   ]
  }
 ],
 "metadata": {
  "kernelspec": {
   "display_name": "inf1b-ptas",
   "language": "python",
   "name": "python3"
  },
  "language_info": {
   "codemirror_mode": {
    "name": "ipython",
    "version": 3
   },
   "file_extension": ".py",
   "mimetype": "text/x-python",
   "name": "python",
   "nbconvert_exporter": "python",
   "pygments_lexer": "ipython3",
   "version": "3.11.3"
  }
 },
 "nbformat": 4,
 "nbformat_minor": 2
}
